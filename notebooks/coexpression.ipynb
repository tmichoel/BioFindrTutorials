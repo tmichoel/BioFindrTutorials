{
  "cells": [
    {
      "cell_type": "raw",
      "metadata": {},
      "source": [
        "---\n",
        "title: Coexpression analysis\n",
        "format:\n",
        "  html:\n",
        "    code-fold: false\n",
        "execute:\n",
        "  cache: true\n",
        "  keep-ipynb: true\n",
        "---"
      ],
      "id": "da8caa66"
    },
    {
      "cell_type": "markdown",
      "metadata": {},
      "source": [
        "## Introduction\n",
        "\n",
        "While [Findr.jl][1] is developed primarily for causal inference from genomics and transcriptomics data, coexpression analysis of transcriptomics data alone is also possible. In coexpression analysis, pairwise correlation is used as a simple measure for the probability of two genes being functionally related either through direct or indirect regulation, or through coregulation by a third factor. In [Findr.jl][1], significance of pairwise correlation is computed using a gene-specific background distribution, allowing for genes having different biological roles. For instance, it is known that many biological networks are [scale-free](https://en.wikipedia.org/wiki/Scale-free_network), where a small number of so-called \"hub genes\" have a high number of interaction partners while most other genes only have few. In [Findr.jl][1], this is accomodated by modelling the distribution of correlation values between a given gene $A$ and all other genes $B$ as a [mixture distribution](https://en.wikipedia.org/wiki/Mixture_distribution) of real and null (random) correlations. The relative weight of each component reflects the prior probability of finding a non-null $B$ gene for a given $A$ gene, and is fitted for every $A$ gene separately.\n",
        "\n",
        "We will illustrate how to run coexpression analysis with [Findr.jl][1] using [preprocessed data][2] from the [GEUVADIS study][3]. See the [installation instructions](installation.qmd) for the steps you need to take to reproduce this tutorial.\n",
        "\n",
        "## Set up the environment\n",
        "\n",
        "We begin by setting up the environment and loading some necessary packages.\n"
      ],
      "id": "45ca42b5"
    },
    {
      "cell_type": "code",
      "metadata": {},
      "source": [
        "using DrWatson\n",
        "quickactivate(@__DIR__)\n",
        "\n",
        "using DataFrames\n",
        "using Arrow\n",
        "using Markdown\n",
        "\n",
        "using Findr"
      ],
      "id": "9bd64e98",
      "execution_count": null,
      "outputs": []
    },
    {
      "cell_type": "markdown",
      "metadata": {},
      "source": [
        "## Load expression data\n",
        "\n",
        "[Findr.jl][1] expects that expression data are stored in a [DataFrame][4] where columns correspond to variables (genes) and rows to samples. An expression [DataFrame][4] should not contain any other columns (e.g. gene annotation) than gene expression columns, and gene expression data should be stored as [floating-point numbers](https://docs.julialang.org/en/v1/manual/integers-and-floating-point-numbers/). Internally, [Findr.jl][1] operates on matrices, and if you have an expression [DataFrame][4] `df`, then `Matrix(df)` should return a matrix of floats.\n",
        "\n",
        "At the moment, [Findr.jl][1] does not support count-based expression data being provided as a [DataFrame][4] of integers. This is not an intrinsic limitation of the method, but simply to distinguish expression data from integer-valued genotype data. Future versions will remove this limitation by supporting [scientific types](https://juliaai.github.io/ScientificTypes.jl/dev/).\n",
        "\n",
        "This tutorial uses two tables of expression data from the same set of samples, one for mRNA expression data called `dt`, and one for microRNA (miRNA) expression data called `dm`:\n"
      ],
      "id": "1638b6f6"
    },
    {
      "cell_type": "code",
      "metadata": {},
      "source": [
        "dt = DataFrame(Arrow.Table(datadir(\"exp_pro\",\"findr-data-geuvadis\", \"dt.arrow\")));\n",
        "dm = DataFrame(Arrow.Table(datadir(\"exp_pro\",\"findr-data-geuvadis\", \"dm.arrow\")));"
      ],
      "id": "3a2951ed",
      "execution_count": null,
      "outputs": []
    },
    {
      "cell_type": "code",
      "metadata": {},
      "source": [
        "#| echo: false\n",
        "nt1, nt2 = size(dt)\n",
        "nm1, nm2 = size(dm)\n",
        "Markdown.parse(\"\"\"\n",
        "The mRNA data has expression data for $nt2 genes in $nt1 samples, while miRNA data is available for $nm2 miRNAs in the same $nm1 samples.\n",
        "\"\"\")"
      ],
      "id": "bc9debee",
      "execution_count": null,
      "outputs": []
    },
    {
      "cell_type": "markdown",
      "metadata": {},
      "source": [
        "We can confirm that the data frames are of the right type:"
      ],
      "id": "fb19e594"
    },
    {
      "cell_type": "code",
      "metadata": {},
      "source": [
        "[typeof(Matrix(dt)) typeof(Matrix(dm))]"
      ],
      "id": "8b968f83",
      "execution_count": null,
      "outputs": []
    },
    {
      "cell_type": "markdown",
      "metadata": {},
      "source": [
        "## Run Findr.jl\n",
        "\n",
        "### All-vs-all coexpression analysis\n",
        "\n",
        "The simplest type of coexpression analysis tests for non-zero correlation among all possible pairs in a gene expression dataset. Let's do this for the miRNA data:\n"
      ],
      "id": "09db51a9"
    },
    {
      "cell_type": "code",
      "metadata": {},
      "source": [
        "dP_mir_all = findr(dm, FDR=0.05)"
      ],
      "id": "3f022e66",
      "execution_count": null,
      "outputs": []
    },
    {
      "cell_type": "markdown",
      "metadata": {},
      "source": [
        "Findr computes a [posterior probability](https://tmichoel.github.io/Findr.jl/dev/posteriorprobs/) of non-zero correlation for every **Source** and **Target** gene pair. By default the output is sorted by decreasing **Probability** and self-interactions are excluded. The optional parameter **FDR** can be used to limit the output to the set of pairs that has a [global false discovery rate (FDR)](https://en.wikipedia.org/wiki/False_discovery_rate#Storey-Tibshirani_procedure) less than a desired value. The **qvalue** column in the output can be used for further filtering of the output. Say you ran findr with an FRD threshold of 5% as above. If you now want to restrict the output to an FDR threshold of 1%, you can do:\n"
      ],
      "id": "e9185827"
    },
    {
      "cell_type": "code",
      "metadata": {},
      "source": [
        "filter!(row -> row.qvalue <= 0.01, dP_mir_all)"
      ],
      "id": "fc52d3f0",
      "execution_count": null,
      "outputs": []
    },
    {
      "cell_type": "markdown",
      "metadata": {},
      "source": [
        "Note that the [`filter!`](https://dataframes.juliadata.org/stable/lib/functions/#Base.filter!) command modifies the input DataFrame in-place, that is, the rows not matching the selection criteria are deleted. Use [`filter`](https://dataframes.juliadata.org/stable/lib/functions/#Base.filter) to return a new DataFrame with the selected rows.\n",
        "\n",
        "Finally, remember that the output of coexpression analysis in Findr is *not* symmetric, that is\n",
        "\n",
        "$$\n",
        "P(Source, Target) \\neq P(Target, Source)\n",
        "$$\n",
        "\n",
        "This is because the posterior probabilities are estimated using a Source-specific background distribution, accounting for the fact that different genes may have a different number of non-null interaction partners *a priori*. See the [Findr paper][5] for details.\n",
        "\n",
        "### Bipartite coexpression analysis\n",
        "\n",
        "Since Findr's posterior probabilities are Source gene-specific, we may be interested in computing probabilities only for a subset of Source genes, or using different Source and Target gene sets. \n",
        "\n",
        "As an example of the first scenario, assume we are interested in finding microRNAs that are significantly correlated with microRNAs from the [Mir-200 family](https://en.wikipedia.org/wiki/Mir-200). First find the Mir-200 microRNAs:\n"
      ],
      "id": "7625d268"
    },
    {
      "cell_type": "code",
      "metadata": {},
      "source": [
        "mir200 = names(dm)[startswith.(names(dm),\"hsa-miR-200\")]"
      ],
      "id": "3492e3ce",
      "execution_count": null,
      "outputs": []
    },
    {
      "cell_type": "markdown",
      "metadata": {},
      "source": [
        "Then run\n"
      ],
      "id": "a03f4e10"
    },
    {
      "cell_type": "code",
      "metadata": {},
      "source": [
        "dP_mir200_mir = findr(dm, colnames=mir200, FDR=0.01)"
      ],
      "id": "dae80a90",
      "execution_count": null,
      "outputs": []
    },
    {
      "cell_type": "markdown",
      "metadata": {},
      "source": [
        "The parameter **colnames** must be a vector of strings containing a subset of variable names of the input DataFrame **dm** to be used as **Source** genes.\n",
        "\n",
        "As an example of the second scenario, we may be interested in finding genes that are significantly correlated with all or a subset of microRNAs: \n"
      ],
      "id": "988956dc"
    },
    {
      "cell_type": "code",
      "metadata": {},
      "source": [
        "dP_mir_mrna = findr(dt, dm, FDR=0.01)"
      ],
      "id": "01234c66",
      "execution_count": null,
      "outputs": []
    },
    {
      "cell_type": "markdown",
      "metadata": {},
      "source": [
        "Note the order of the arguments: here we tested all microRNAs as $A$ or Source genes (`dm` argument) against all mRNA transcripts as $B$ or Target genes (`dt` argument), that is, background distributions are fitted for each microRNA (column of `dm`) from the log-likelihood ratios for all 23,722 mRNAs (columns of `dt`).\n",
        "\n",
        "[1]: https://github.com/tmichoel/Findr.jl\n",
        "[2]: https://github.com/lingfeiwang/findr-data-geuvadis\n",
        "[3]: https://doi.org/10.1038/nature12531\n",
        "[4]: https://dataframes.juliadata.org/stable/\n",
        "[5]: https://doi.org/10.1371/journal.pcbi.1005703"
      ],
      "id": "dfa16cf1"
    }
  ],
  "metadata": {
    "kernelspec": {
      "name": "julia-1.9",
      "language": "julia",
      "display_name": "Julia 1.9.0"
    }
  },
  "nbformat": 4,
  "nbformat_minor": 5
}