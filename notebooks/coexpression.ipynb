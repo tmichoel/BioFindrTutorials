{
 "cells": [
  {
   "cell_type": "raw",
   "id": "509591c0",
   "metadata": {},
   "source": [
    "---\n",
    "title: Coexpression analysis\n",
    "format:\n",
    "  html: default\n",
    "  ipynb: default\n",
    "execute:\n",
    "  cache: true\n",
    "  keep-ipynb: true\n",
    "---"
   ]
  },
  {
   "cell_type": "markdown",
   "id": "1a717488",
   "metadata": {},
   "source": [
    "## Introduction\n",
    "\n",
    "While [BioFindr] is developed primarily for causal inference from genomics and transcriptomics data, coexpression analysis of transcriptomics data alone is also possible. In coexpression analysis, pairwise correlation is used as a simple measure for the probability of two genes being functionally related either through direct or indirect regulation, or through coregulation by a third factor. In [BioFindr][1], significance of pairwise correlation is computed using a gene-specific background distribution, allowing for genes having different biological roles. For instance, it is known that many biological networks are [scale-free](https://en.wikipedia.org/wiki/Scale-free_network), where a small number of so-called \"hub genes\" have a high number of interaction partners while most other genes only have few. In [BioFindr][1], this is accomodated by modelling the distribution of correlation values between a given gene $A$ and all other genes $B$ as a [mixture distribution](https://en.wikipedia.org/wiki/Mixture_distribution) of real and null (random) correlations. The relative weight of each component reflects the prior probability of finding a non-null $B$ gene for a given $A$ gene, and is fitted for every $A$ gene separately.\n",
    "\n",
    "We will illustrate how to run coexpression analysis with [BioFindr][1] using [preprocessed data][2] from the [GEUVADIS study][3]. See the [installation instructions](installation.qmd) for the steps you need to take to reproduce this tutorial.\n",
    "\n",
    "## Set up the environment\n",
    "\n",
    "We begin by setting up the environment and loading some necessary packages.\n"
   ]
  },
  {
   "cell_type": "code",
   "execution_count": 1,
   "id": "848ebf24",
   "metadata": {},
   "outputs": [],
   "source": [
    "using DrWatson\n",
    "quickactivate(@__DIR__)\n",
    "\n",
    "using DataFrames\n",
    "using Arrow\n",
    "using Markdown\n",
    "\n",
    "using BioFindr"
   ]
  },
  {
   "cell_type": "markdown",
   "id": "ec45da9f",
   "metadata": {},
   "source": [
    "## Load expression data\n",
    "\n",
    "[BioFindr][1] expects that expression data are stored in a [DataFrame][4] where columns correspond to variables (genes) and rows to samples. An expression [DataFrame][4] should not contain any other columns (e.g. gene annotation) than gene expression columns, and gene expression data should be stored as [floating-point numbers](https://docs.julialang.org/en/v1/manual/integers-and-floating-point-numbers/). Internally, [BioFindr][1] operates on matrices, and if you have an expression [DataFrame][4] `df`, then `Matrix(df)` should return a matrix of floats.\n",
    "\n",
    "At the moment, [BioFindr][1] does not support count-based expression data being provided as a [DataFrame][4] of integers. This is not an intrinsic limitation of the method, but simply to distinguish expression data from integer-valued genotype data. Future versions will remove this limitation by supporting [scientific types](https://juliaai.github.io/ScientificTypes.jl/dev/).\n",
    "\n",
    "This tutorial uses two tables of expression data from the same set of samples, one for mRNA expression data called `dt`, and one for microRNA (miRNA) expression data called `dm`:\n"
   ]
  },
  {
   "cell_type": "code",
   "execution_count": 2,
   "id": "1a2035a0",
   "metadata": {},
   "outputs": [],
   "source": [
    "dt = DataFrame(Arrow.Table(datadir(\"exp_pro\",\"findr-data-geuvadis\", \"dt.arrow\")));\n",
    "dm = DataFrame(Arrow.Table(datadir(\"exp_pro\",\"findr-data-geuvadis\", \"dm.arrow\")));"
   ]
  },
  {
   "cell_type": "code",
   "execution_count": 3,
   "id": "d60e45cb",
   "metadata": {},
   "outputs": [
    {
     "data": {
      "text/latex": [
       "The mRNA data has expression data for 23722 genes in 360 samples, while miRNA data is available for 674 miRNAs in the same 360 samples.\n",
       "\n"
      ],
      "text/markdown": [
       "The mRNA data has expression data for 23722 genes in 360 samples, while miRNA data is available for 674 miRNAs in the same 360 samples.\n"
      ],
      "text/plain": [
       "  The mRNA data has expression data for 23722 genes in 360 samples, while\n",
       "  miRNA data is available for 674 miRNAs in the same 360 samples."
      ]
     },
     "execution_count": 4,
     "metadata": {},
     "output_type": "execute_result"
    }
   ],
   "source": [
    "#| echo: false\n",
    "nt1, nt2 = size(dt)\n",
    "nm1, nm2 = size(dm)\n",
    "Markdown.parse(\"\"\"\n",
    "The mRNA data has expression data for $nt2 genes in $nt1 samples, while miRNA data is available for $nm2 miRNAs in the same $nm1 samples.\n",
    "\"\"\")"
   ]
  },
  {
   "cell_type": "markdown",
   "id": "b8ae33cf",
   "metadata": {},
   "source": [
    "We can confirm that the data frames are of the right type:\n"
   ]
  },
  {
   "cell_type": "code",
   "execution_count": 4,
   "id": "c2639f40",
   "metadata": {},
   "outputs": [
    {
     "data": {
      "text/plain": [
       "1×2 Matrix{DataType}:\n",
       " Matrix{Float64}  Matrix{Float64}"
      ]
     },
     "execution_count": 5,
     "metadata": {},
     "output_type": "execute_result"
    }
   ],
   "source": [
    "[typeof(Matrix(dt)) typeof(Matrix(dm))]"
   ]
  },
  {
   "cell_type": "markdown",
   "id": "12a2f6c5",
   "metadata": {},
   "source": [
    "## Run BioFindr\n",
    "\n",
    "### All-vs-all coexpression analysis\n",
    "\n",
    "The simplest type of coexpression analysis tests for non-zero correlation among all possible pairs in a gene expression dataset. Let's do this for the miRNA data:\n"
   ]
  },
  {
   "cell_type": "code",
   "execution_count": 5,
   "id": "fd49cb9d",
   "metadata": {},
   "outputs": [
    {
     "data": {
      "text/html": [
       "<div><div style = \"float: left;\"><span>28378×4 DataFrame</span></div><div style = \"float: right;\"><span style = \"font-style: italic;\">28353 rows omitted</span></div><div style = \"clear: both;\"></div></div><div class = \"data-frame\" style = \"overflow-x: scroll;\"><table class = \"data-frame\" style = \"margin-bottom: 6px;\"><thead><tr class = \"header\"><th class = \"rowNumber\" style = \"font-weight: bold; text-align: right;\">Row</th><th style = \"text-align: left;\">Source</th><th style = \"text-align: left;\">Target</th><th style = \"text-align: left;\">Probability</th><th style = \"text-align: left;\">qvalue</th></tr><tr class = \"subheader headerLastRow\"><th class = \"rowNumber\" style = \"font-weight: bold; text-align: right;\"></th><th title = \"String\" style = \"text-align: left;\">String</th><th title = \"String\" style = \"text-align: left;\">String</th><th title = \"Float64\" style = \"text-align: left;\">Float64</th><th title = \"Float64\" style = \"text-align: left;\">Float64</th></tr></thead><tbody><tr><td class = \"rowNumber\" style = \"font-weight: bold; text-align: right;\">1</td><td style = \"text-align: left;\">hsa-miR-574-3p</td><td style = \"text-align: left;\">hsa-miR-574-5p</td><td style = \"text-align: right;\">1.0</td><td style = \"text-align: right;\">0.0</td></tr><tr><td class = \"rowNumber\" style = \"font-weight: bold; text-align: right;\">2</td><td style = \"text-align: left;\">hsa-miR-4482-1-3p</td><td style = \"text-align: left;\">hsa-miR-1304-3p</td><td style = \"text-align: right;\">1.0</td><td style = \"text-align: right;\">0.0</td></tr><tr><td class = \"rowNumber\" style = \"font-weight: bold; text-align: right;\">3</td><td style = \"text-align: left;\">hsa-miR-3667-5p</td><td style = \"text-align: left;\">hsa-miR-3667-3p</td><td style = \"text-align: right;\">1.0</td><td style = \"text-align: right;\">0.0</td></tr><tr><td class = \"rowNumber\" style = \"font-weight: bold; text-align: right;\">4</td><td style = \"text-align: left;\">hsa-miR-550a-2-5p</td><td style = \"text-align: left;\">hsa-miR-550a-2-3p</td><td style = \"text-align: right;\">1.0</td><td style = \"text-align: right;\">0.0</td></tr><tr><td class = \"rowNumber\" style = \"font-weight: bold; text-align: right;\">5</td><td style = \"text-align: left;\">hsa-miR-550a-2-5p</td><td style = \"text-align: left;\">hsa-miR-550a-3-5p</td><td style = \"text-align: right;\">1.0</td><td style = \"text-align: right;\">0.0</td></tr><tr><td class = \"rowNumber\" style = \"font-weight: bold; text-align: right;\">6</td><td style = \"text-align: left;\">hsa-miR-3130-2-5p</td><td style = \"text-align: left;\">hsa-miR-3130-1-5p</td><td style = \"text-align: right;\">1.0</td><td style = \"text-align: right;\">0.0</td></tr><tr><td class = \"rowNumber\" style = \"font-weight: bold; text-align: right;\">7</td><td style = \"text-align: left;\">hsa-let-7b-5p</td><td style = \"text-align: left;\">hsa-let-7b-3p</td><td style = \"text-align: right;\">1.0</td><td style = \"text-align: right;\">0.0</td></tr><tr><td class = \"rowNumber\" style = \"font-weight: bold; text-align: right;\">8</td><td style = \"text-align: left;\">hsa-miR-96-5p</td><td style = \"text-align: left;\">hsa-miR-182-5p</td><td style = \"text-align: right;\">1.0</td><td style = \"text-align: right;\">0.0</td></tr><tr><td class = \"rowNumber\" style = \"font-weight: bold; text-align: right;\">9</td><td style = \"text-align: left;\">hsa-miR-96-5p</td><td style = \"text-align: left;\">hsa-miR-1271-5p</td><td style = \"text-align: right;\">1.0</td><td style = \"text-align: right;\">0.0</td></tr><tr><td class = \"rowNumber\" style = \"font-weight: bold; text-align: right;\">10</td><td style = \"text-align: left;\">hsa-miR-3667-3p</td><td style = \"text-align: left;\">hsa-miR-3667-5p</td><td style = \"text-align: right;\">1.0</td><td style = \"text-align: right;\">0.0</td></tr><tr><td class = \"rowNumber\" style = \"font-weight: bold; text-align: right;\">11</td><td style = \"text-align: left;\">hsa-miR-181c-5p</td><td style = \"text-align: left;\">hsa-miR-181c-3p</td><td style = \"text-align: right;\">1.0</td><td style = \"text-align: right;\">0.0</td></tr><tr><td class = \"rowNumber\" style = \"font-weight: bold; text-align: right;\">12</td><td style = \"text-align: left;\">hsa-miR-181c-5p</td><td style = \"text-align: left;\">hsa-miR-181d-5p</td><td style = \"text-align: right;\">1.0</td><td style = \"text-align: right;\">0.0</td></tr><tr><td class = \"rowNumber\" style = \"font-weight: bold; text-align: right;\">13</td><td style = \"text-align: left;\">hsa-miR-335-5p</td><td style = \"text-align: left;\">hsa-miR-335-3p</td><td style = \"text-align: right;\">1.0</td><td style = \"text-align: right;\">0.0</td></tr><tr><td style = \"text-align: right;\">&vellip;</td><td style = \"text-align: right;\">&vellip;</td><td style = \"text-align: right;\">&vellip;</td><td style = \"text-align: right;\">&vellip;</td><td style = \"text-align: right;\">&vellip;</td></tr><tr><td class = \"rowNumber\" style = \"font-weight: bold; text-align: right;\">28367</td><td style = \"text-align: left;\">hsa-miR-410-3p</td><td style = \"text-align: left;\">hsa-miR-7-3-5p</td><td style = \"text-align: right;\">0.84803</td><td style = \"text-align: right;\">0.0499585</td></tr><tr><td class = \"rowNumber\" style = \"font-weight: bold; text-align: right;\">28368</td><td style = \"text-align: left;\">hsa-miR-152-3p</td><td style = \"text-align: left;\">hsa-miR-181a-1-5p</td><td style = \"text-align: right;\">0.848014</td><td style = \"text-align: right;\">0.0499621</td></tr><tr><td class = \"rowNumber\" style = \"font-weight: bold; text-align: right;\">28369</td><td style = \"text-align: left;\">hsa-let-7f-2-3p</td><td style = \"text-align: left;\">hsa-miR-4446-3p</td><td style = \"text-align: right;\">0.848008</td><td style = \"text-align: right;\">0.0499657</td></tr><tr><td class = \"rowNumber\" style = \"font-weight: bold; text-align: right;\">28370</td><td style = \"text-align: left;\">hsa-miR-181a-1-3p</td><td style = \"text-align: left;\">hsa-miR-99b-5p</td><td style = \"text-align: right;\">0.847993</td><td style = \"text-align: right;\">0.0499693</td></tr><tr><td class = \"rowNumber\" style = \"font-weight: bold; text-align: right;\">28371</td><td style = \"text-align: left;\">hsa-miR-330-5p</td><td style = \"text-align: left;\">hsa-miR-296-5p</td><td style = \"text-align: right;\">0.84799</td><td style = \"text-align: right;\">0.0499729</td></tr><tr><td class = \"rowNumber\" style = \"font-weight: bold; text-align: right;\">28372</td><td style = \"text-align: left;\">hsa-miR-1307-5p</td><td style = \"text-align: left;\">hsa-miR-32-3p</td><td style = \"text-align: right;\">0.847985</td><td style = \"text-align: right;\">0.0499765</td></tr><tr><td class = \"rowNumber\" style = \"font-weight: bold; text-align: right;\">28373</td><td style = \"text-align: left;\">hsa-miR-221-3p</td><td style = \"text-align: left;\">hsa-miR-424-5p</td><td style = \"text-align: right;\">0.847972</td><td style = \"text-align: right;\">0.0499801</td></tr><tr><td class = \"rowNumber\" style = \"font-weight: bold; text-align: right;\">28374</td><td style = \"text-align: left;\">hsa-miR-27b-5p</td><td style = \"text-align: left;\">hsa-miR-4424-3p</td><td style = \"text-align: right;\">0.847958</td><td style = \"text-align: right;\">0.0499837</td></tr><tr><td class = \"rowNumber\" style = \"font-weight: bold; text-align: right;\">28375</td><td style = \"text-align: left;\">hsa-miR-629-5p</td><td style = \"text-align: left;\">hsa-miR-5096-5p</td><td style = \"text-align: right;\">0.847952</td><td style = \"text-align: right;\">0.0499873</td></tr><tr><td class = \"rowNumber\" style = \"font-weight: bold; text-align: right;\">28376</td><td style = \"text-align: left;\">hsa-miR-181c-3p</td><td style = \"text-align: left;\">hsa-miR-374b-5p</td><td style = \"text-align: right;\">0.847946</td><td style = \"text-align: right;\">0.0499909</td></tr><tr><td class = \"rowNumber\" style = \"font-weight: bold; text-align: right;\">28377</td><td style = \"text-align: left;\">hsa-miR-3688-2-3p</td><td style = \"text-align: left;\">hsa-miR-1260b-5p</td><td style = \"text-align: right;\">0.847943</td><td style = \"text-align: right;\">0.0499945</td></tr><tr><td class = \"rowNumber\" style = \"font-weight: bold; text-align: right;\">28378</td><td style = \"text-align: left;\">hsa-let-7d-5p</td><td style = \"text-align: left;\">hsa-miR-142-3p</td><td style = \"text-align: right;\">0.847937</td><td style = \"text-align: right;\">0.0499981</td></tr></tbody></table></div>"
      ],
      "text/latex": [
       "\\begin{tabular}{r|cccc}\n",
       "\t& Source & Target & Probability & qvalue\\\\\n",
       "\t\\hline\n",
       "\t& String & String & Float64 & Float64\\\\\n",
       "\t\\hline\n",
       "\t1 & hsa-miR-574-3p & hsa-miR-574-5p & 1.0 & 0.0 \\\\\n",
       "\t2 & hsa-miR-4482-1-3p & hsa-miR-1304-3p & 1.0 & 0.0 \\\\\n",
       "\t3 & hsa-miR-3667-5p & hsa-miR-3667-3p & 1.0 & 0.0 \\\\\n",
       "\t4 & hsa-miR-550a-2-5p & hsa-miR-550a-2-3p & 1.0 & 0.0 \\\\\n",
       "\t5 & hsa-miR-550a-2-5p & hsa-miR-550a-3-5p & 1.0 & 0.0 \\\\\n",
       "\t6 & hsa-miR-3130-2-5p & hsa-miR-3130-1-5p & 1.0 & 0.0 \\\\\n",
       "\t7 & hsa-let-7b-5p & hsa-let-7b-3p & 1.0 & 0.0 \\\\\n",
       "\t8 & hsa-miR-96-5p & hsa-miR-182-5p & 1.0 & 0.0 \\\\\n",
       "\t9 & hsa-miR-96-5p & hsa-miR-1271-5p & 1.0 & 0.0 \\\\\n",
       "\t10 & hsa-miR-3667-3p & hsa-miR-3667-5p & 1.0 & 0.0 \\\\\n",
       "\t11 & hsa-miR-181c-5p & hsa-miR-181c-3p & 1.0 & 0.0 \\\\\n",
       "\t12 & hsa-miR-181c-5p & hsa-miR-181d-5p & 1.0 & 0.0 \\\\\n",
       "\t13 & hsa-miR-335-5p & hsa-miR-335-3p & 1.0 & 0.0 \\\\\n",
       "\t14 & hsa-miR-30a-5p & hsa-miR-30a-3p & 1.0 & 0.0 \\\\\n",
       "\t15 & hsa-miR-193b-3p & hsa-miR-365a-3p & 1.0 & 0.0 \\\\\n",
       "\t16 & hsa-miR-183-5p & hsa-miR-501-3p & 1.0 & 0.0 \\\\\n",
       "\t17 & hsa-miR-182-5p & hsa-miR-96-5p & 1.0 & 0.0 \\\\\n",
       "\t18 & hsa-miR-574-5p & hsa-miR-574-3p & 1.0 & 0.0 \\\\\n",
       "\t19 & hsa-miR-339-5p & hsa-miR-339-3p & 1.0 & 0.0 \\\\\n",
       "\t20 & hsa-miR-3130-1-5p & hsa-miR-3130-2-5p & 1.0 & 0.0 \\\\\n",
       "\t21 & hsa-miR-30a-3p & hsa-miR-30a-5p & 1.0 & 0.0 \\\\\n",
       "\t22 & hsa-miR-1304-3p & hsa-miR-4482-1-3p & 1.0 & 0.0 \\\\\n",
       "\t23 & hsa-miR-550a-2-3p & hsa-miR-550a-2-5p & 1.0 & 0.0 \\\\\n",
       "\t24 & hsa-miR-550a-2-3p & hsa-miR-550a-3-5p & 1.0 & 0.0 \\\\\n",
       "\t25 & hsa-miR-335-3p & hsa-miR-335-5p & 1.0 & 0.0 \\\\\n",
       "\t26 & hsa-let-7a-1-5p & hsa-let-7d-5p & 1.0 & 0.0 \\\\\n",
       "\t27 & hsa-let-7a-1-5p & hsa-let-7f-1-5p & 1.0 & 0.0 \\\\\n",
       "\t28 & hsa-let-7a-1-5p & hsa-let-7f-2-5p & 1.0 & 0.0 \\\\\n",
       "\t29 & hsa-let-7a-1-5p & hsa-let-7g-5p & 1.0 & 0.0 \\\\\n",
       "\t30 & hsa-let-7a-1-5p & hsa-miR-98-5p & 1.0 & 0.0 \\\\\n",
       "\t$\\dots$ & $\\dots$ & $\\dots$ & $\\dots$ & $\\dots$ \\\\\n",
       "\\end{tabular}\n"
      ],
      "text/plain": [
       "\u001b[1m28378×4 DataFrame\u001b[0m\n",
       "\u001b[1m   Row \u001b[0m│\u001b[1m Source            \u001b[0m\u001b[1m Target            \u001b[0m\u001b[1m Probability \u001b[0m\u001b[1m qvalue    \u001b[0m\n",
       "       │\u001b[90m String            \u001b[0m\u001b[90m String            \u001b[0m\u001b[90m Float64     \u001b[0m\u001b[90m Float64   \u001b[0m\n",
       "───────┼──────────────────────────────────────────────────────────────\n",
       "     1 │ hsa-miR-574-3p     hsa-miR-574-5p        1.0       0.0\n",
       "     2 │ hsa-miR-4482-1-3p  hsa-miR-1304-3p       1.0       0.0\n",
       "     3 │ hsa-miR-3667-5p    hsa-miR-3667-3p       1.0       0.0\n",
       "     4 │ hsa-miR-550a-2-5p  hsa-miR-550a-2-3p     1.0       0.0\n",
       "     5 │ hsa-miR-550a-2-5p  hsa-miR-550a-3-5p     1.0       0.0\n",
       "     6 │ hsa-miR-3130-2-5p  hsa-miR-3130-1-5p     1.0       0.0\n",
       "     7 │ hsa-let-7b-5p      hsa-let-7b-3p         1.0       0.0\n",
       "     8 │ hsa-miR-96-5p      hsa-miR-182-5p        1.0       0.0\n",
       "     9 │ hsa-miR-96-5p      hsa-miR-1271-5p       1.0       0.0\n",
       "    10 │ hsa-miR-3667-3p    hsa-miR-3667-5p       1.0       0.0\n",
       "    11 │ hsa-miR-181c-5p    hsa-miR-181c-3p       1.0       0.0\n",
       "   ⋮   │         ⋮                  ⋮               ⋮           ⋮\n",
       " 28369 │ hsa-let-7f-2-3p    hsa-miR-4446-3p       0.848008  0.0499657\n",
       " 28370 │ hsa-miR-181a-1-3p  hsa-miR-99b-5p        0.847993  0.0499693\n",
       " 28371 │ hsa-miR-330-5p     hsa-miR-296-5p        0.84799   0.0499729\n",
       " 28372 │ hsa-miR-1307-5p    hsa-miR-32-3p         0.847985  0.0499765\n",
       " 28373 │ hsa-miR-221-3p     hsa-miR-424-5p        0.847972  0.0499801\n",
       " 28374 │ hsa-miR-27b-5p     hsa-miR-4424-3p       0.847958  0.0499837\n",
       " 28375 │ hsa-miR-629-5p     hsa-miR-5096-5p       0.847952  0.0499873\n",
       " 28376 │ hsa-miR-181c-3p    hsa-miR-374b-5p       0.847946  0.0499909\n",
       " 28377 │ hsa-miR-3688-2-3p  hsa-miR-1260b-5p      0.847943  0.0499945\n",
       " 28378 │ hsa-let-7d-5p      hsa-miR-142-3p        0.847937  0.0499981\n",
       "\u001b[36m                                                    28357 rows omitted\u001b[0m"
      ]
     },
     "execution_count": 6,
     "metadata": {},
     "output_type": "execute_result"
    }
   ],
   "source": [
    "dP_mir_all = findr(dm, FDR=0.05)"
   ]
  },
  {
   "cell_type": "markdown",
   "id": "ec5f3fd1",
   "metadata": {},
   "source": [
    "BioFindr computes a [posterior probability](https://tmichoel.github.io/BioFindr.jl/dev/posteriorprobs/) of non-zero correlation for every **Source** and **Target** gene pair. By default the output is sorted by decreasing **Probability** and self-interactions are excluded. The optional parameter **FDR** can be used to limit the output to the set of pairs that has a [global false discovery rate (FDR)](https://en.wikipedia.org/wiki/False_discovery_rate#Storey-Tibshirani_procedure) less than a desired value. The **qvalue** column in the output can be used for further filtering of the output. Say you ran findr with an FRD threshold of 5% as above. If you now want to restrict the output to an FDR threshold of 1%, you can do:\n"
   ]
  },
  {
   "cell_type": "code",
   "execution_count": 6,
   "id": "e3e67866",
   "metadata": {},
   "outputs": [
    {
     "data": {
      "text/html": [
       "<div><div style = \"float: left;\"><span>14556×4 DataFrame</span></div><div style = \"float: right;\"><span style = \"font-style: italic;\">14531 rows omitted</span></div><div style = \"clear: both;\"></div></div><div class = \"data-frame\" style = \"overflow-x: scroll;\"><table class = \"data-frame\" style = \"margin-bottom: 6px;\"><thead><tr class = \"header\"><th class = \"rowNumber\" style = \"font-weight: bold; text-align: right;\">Row</th><th style = \"text-align: left;\">Source</th><th style = \"text-align: left;\">Target</th><th style = \"text-align: left;\">Probability</th><th style = \"text-align: left;\">qvalue</th></tr><tr class = \"subheader headerLastRow\"><th class = \"rowNumber\" style = \"font-weight: bold; text-align: right;\"></th><th title = \"String\" style = \"text-align: left;\">String</th><th title = \"String\" style = \"text-align: left;\">String</th><th title = \"Float64\" style = \"text-align: left;\">Float64</th><th title = \"Float64\" style = \"text-align: left;\">Float64</th></tr></thead><tbody><tr><td class = \"rowNumber\" style = \"font-weight: bold; text-align: right;\">1</td><td style = \"text-align: left;\">hsa-miR-574-3p</td><td style = \"text-align: left;\">hsa-miR-574-5p</td><td style = \"text-align: right;\">1.0</td><td style = \"text-align: right;\">0.0</td></tr><tr><td class = \"rowNumber\" style = \"font-weight: bold; text-align: right;\">2</td><td style = \"text-align: left;\">hsa-miR-4482-1-3p</td><td style = \"text-align: left;\">hsa-miR-1304-3p</td><td style = \"text-align: right;\">1.0</td><td style = \"text-align: right;\">0.0</td></tr><tr><td class = \"rowNumber\" style = \"font-weight: bold; text-align: right;\">3</td><td style = \"text-align: left;\">hsa-miR-3667-5p</td><td style = \"text-align: left;\">hsa-miR-3667-3p</td><td style = \"text-align: right;\">1.0</td><td style = \"text-align: right;\">0.0</td></tr><tr><td class = \"rowNumber\" style = \"font-weight: bold; text-align: right;\">4</td><td style = \"text-align: left;\">hsa-miR-550a-2-5p</td><td style = \"text-align: left;\">hsa-miR-550a-2-3p</td><td style = \"text-align: right;\">1.0</td><td style = \"text-align: right;\">0.0</td></tr><tr><td class = \"rowNumber\" style = \"font-weight: bold; text-align: right;\">5</td><td style = \"text-align: left;\">hsa-miR-550a-2-5p</td><td style = \"text-align: left;\">hsa-miR-550a-3-5p</td><td style = \"text-align: right;\">1.0</td><td style = \"text-align: right;\">0.0</td></tr><tr><td class = \"rowNumber\" style = \"font-weight: bold; text-align: right;\">6</td><td style = \"text-align: left;\">hsa-miR-3130-2-5p</td><td style = \"text-align: left;\">hsa-miR-3130-1-5p</td><td style = \"text-align: right;\">1.0</td><td style = \"text-align: right;\">0.0</td></tr><tr><td class = \"rowNumber\" style = \"font-weight: bold; text-align: right;\">7</td><td style = \"text-align: left;\">hsa-let-7b-5p</td><td style = \"text-align: left;\">hsa-let-7b-3p</td><td style = \"text-align: right;\">1.0</td><td style = \"text-align: right;\">0.0</td></tr><tr><td class = \"rowNumber\" style = \"font-weight: bold; text-align: right;\">8</td><td style = \"text-align: left;\">hsa-miR-96-5p</td><td style = \"text-align: left;\">hsa-miR-182-5p</td><td style = \"text-align: right;\">1.0</td><td style = \"text-align: right;\">0.0</td></tr><tr><td class = \"rowNumber\" style = \"font-weight: bold; text-align: right;\">9</td><td style = \"text-align: left;\">hsa-miR-96-5p</td><td style = \"text-align: left;\">hsa-miR-1271-5p</td><td style = \"text-align: right;\">1.0</td><td style = \"text-align: right;\">0.0</td></tr><tr><td class = \"rowNumber\" style = \"font-weight: bold; text-align: right;\">10</td><td style = \"text-align: left;\">hsa-miR-3667-3p</td><td style = \"text-align: left;\">hsa-miR-3667-5p</td><td style = \"text-align: right;\">1.0</td><td style = \"text-align: right;\">0.0</td></tr><tr><td class = \"rowNumber\" style = \"font-weight: bold; text-align: right;\">11</td><td style = \"text-align: left;\">hsa-miR-181c-5p</td><td style = \"text-align: left;\">hsa-miR-181c-3p</td><td style = \"text-align: right;\">1.0</td><td style = \"text-align: right;\">0.0</td></tr><tr><td class = \"rowNumber\" style = \"font-weight: bold; text-align: right;\">12</td><td style = \"text-align: left;\">hsa-miR-181c-5p</td><td style = \"text-align: left;\">hsa-miR-181d-5p</td><td style = \"text-align: right;\">1.0</td><td style = \"text-align: right;\">0.0</td></tr><tr><td class = \"rowNumber\" style = \"font-weight: bold; text-align: right;\">13</td><td style = \"text-align: left;\">hsa-miR-335-5p</td><td style = \"text-align: left;\">hsa-miR-335-3p</td><td style = \"text-align: right;\">1.0</td><td style = \"text-align: right;\">0.0</td></tr><tr><td style = \"text-align: right;\">&vellip;</td><td style = \"text-align: right;\">&vellip;</td><td style = \"text-align: right;\">&vellip;</td><td style = \"text-align: right;\">&vellip;</td><td style = \"text-align: right;\">&vellip;</td></tr><tr><td class = \"rowNumber\" style = \"font-weight: bold; text-align: right;\">14545</td><td style = \"text-align: left;\">hsa-miR-4662a-5p</td><td style = \"text-align: left;\">hsa-miR-486-5p</td><td style = \"text-align: right;\">0.961667</td><td style = \"text-align: right;\">0.0099779</td></tr><tr><td class = \"rowNumber\" style = \"font-weight: bold; text-align: right;\">14546</td><td style = \"text-align: left;\">hsa-miR-181b-1-3p</td><td style = \"text-align: left;\">hsa-miR-3609-3p</td><td style = \"text-align: right;\">0.961654</td><td style = \"text-align: right;\">0.00997985</td></tr><tr><td class = \"rowNumber\" style = \"font-weight: bold; text-align: right;\">14547</td><td style = \"text-align: left;\">hsa-miR-23a-5p</td><td style = \"text-align: left;\">hsa-miR-150-5p</td><td style = \"text-align: right;\">0.961633</td><td style = \"text-align: right;\">0.0099818</td></tr><tr><td class = \"rowNumber\" style = \"font-weight: bold; text-align: right;\">14548</td><td style = \"text-align: left;\">hsa-miR-500a-3p</td><td style = \"text-align: left;\">hsa-miR-138-1-3p</td><td style = \"text-align: right;\">0.961624</td><td style = \"text-align: right;\">0.00998375</td></tr><tr><td class = \"rowNumber\" style = \"font-weight: bold; text-align: right;\">14549</td><td style = \"text-align: left;\">hsa-miR-425-3p</td><td style = \"text-align: left;\">hsa-miR-200c-3p</td><td style = \"text-align: right;\">0.961621</td><td style = \"text-align: right;\">0.00998571</td></tr><tr><td class = \"rowNumber\" style = \"font-weight: bold; text-align: right;\">14550</td><td style = \"text-align: left;\">hsa-miR-125a-5p</td><td style = \"text-align: left;\">hsa-miR-140-3p</td><td style = \"text-align: right;\">0.961608</td><td style = \"text-align: right;\">0.00998766</td></tr><tr><td class = \"rowNumber\" style = \"font-weight: bold; text-align: right;\">14551</td><td style = \"text-align: left;\">hsa-miR-342-5p</td><td style = \"text-align: left;\">hsa-miR-335-5p</td><td style = \"text-align: right;\">0.961607</td><td style = \"text-align: right;\">0.00998961</td></tr><tr><td class = \"rowNumber\" style = \"font-weight: bold; text-align: right;\">14552</td><td style = \"text-align: left;\">hsa-miR-3615-3p</td><td style = \"text-align: left;\">hsa-miR-744-5p</td><td style = \"text-align: right;\">0.9616</td><td style = \"text-align: right;\">0.00999156</td></tr><tr><td class = \"rowNumber\" style = \"font-weight: bold; text-align: right;\">14553</td><td style = \"text-align: left;\">hsa-miR-320d-1-3p</td><td style = \"text-align: left;\">hsa-miR-365a-5p</td><td style = \"text-align: right;\">0.961596</td><td style = \"text-align: right;\">0.00999351</td></tr><tr><td class = \"rowNumber\" style = \"font-weight: bold; text-align: right;\">14554</td><td style = \"text-align: left;\">hsa-miR-23a-5p</td><td style = \"text-align: left;\">hsa-miR-425-5p</td><td style = \"text-align: right;\">0.961593</td><td style = \"text-align: right;\">0.00999547</td></tr><tr><td class = \"rowNumber\" style = \"font-weight: bold; text-align: right;\">14555</td><td style = \"text-align: left;\">hsa-miR-26b-3p</td><td style = \"text-align: left;\">hsa-miR-4687-3p</td><td style = \"text-align: right;\">0.961592</td><td style = \"text-align: right;\">0.00999742</td></tr><tr><td class = \"rowNumber\" style = \"font-weight: bold; text-align: right;\">14556</td><td style = \"text-align: left;\">hsa-miR-589-5p</td><td style = \"text-align: left;\">hsa-miR-644b-3p</td><td style = \"text-align: right;\">0.96159</td><td style = \"text-align: right;\">0.00999937</td></tr></tbody></table></div>"
      ],
      "text/latex": [
       "\\begin{tabular}{r|cccc}\n",
       "\t& Source & Target & Probability & qvalue\\\\\n",
       "\t\\hline\n",
       "\t& String & String & Float64 & Float64\\\\\n",
       "\t\\hline\n",
       "\t1 & hsa-miR-574-3p & hsa-miR-574-5p & 1.0 & 0.0 \\\\\n",
       "\t2 & hsa-miR-4482-1-3p & hsa-miR-1304-3p & 1.0 & 0.0 \\\\\n",
       "\t3 & hsa-miR-3667-5p & hsa-miR-3667-3p & 1.0 & 0.0 \\\\\n",
       "\t4 & hsa-miR-550a-2-5p & hsa-miR-550a-2-3p & 1.0 & 0.0 \\\\\n",
       "\t5 & hsa-miR-550a-2-5p & hsa-miR-550a-3-5p & 1.0 & 0.0 \\\\\n",
       "\t6 & hsa-miR-3130-2-5p & hsa-miR-3130-1-5p & 1.0 & 0.0 \\\\\n",
       "\t7 & hsa-let-7b-5p & hsa-let-7b-3p & 1.0 & 0.0 \\\\\n",
       "\t8 & hsa-miR-96-5p & hsa-miR-182-5p & 1.0 & 0.0 \\\\\n",
       "\t9 & hsa-miR-96-5p & hsa-miR-1271-5p & 1.0 & 0.0 \\\\\n",
       "\t10 & hsa-miR-3667-3p & hsa-miR-3667-5p & 1.0 & 0.0 \\\\\n",
       "\t11 & hsa-miR-181c-5p & hsa-miR-181c-3p & 1.0 & 0.0 \\\\\n",
       "\t12 & hsa-miR-181c-5p & hsa-miR-181d-5p & 1.0 & 0.0 \\\\\n",
       "\t13 & hsa-miR-335-5p & hsa-miR-335-3p & 1.0 & 0.0 \\\\\n",
       "\t14 & hsa-miR-30a-5p & hsa-miR-30a-3p & 1.0 & 0.0 \\\\\n",
       "\t15 & hsa-miR-193b-3p & hsa-miR-365a-3p & 1.0 & 0.0 \\\\\n",
       "\t16 & hsa-miR-183-5p & hsa-miR-501-3p & 1.0 & 0.0 \\\\\n",
       "\t17 & hsa-miR-182-5p & hsa-miR-96-5p & 1.0 & 0.0 \\\\\n",
       "\t18 & hsa-miR-574-5p & hsa-miR-574-3p & 1.0 & 0.0 \\\\\n",
       "\t19 & hsa-miR-339-5p & hsa-miR-339-3p & 1.0 & 0.0 \\\\\n",
       "\t20 & hsa-miR-3130-1-5p & hsa-miR-3130-2-5p & 1.0 & 0.0 \\\\\n",
       "\t21 & hsa-miR-30a-3p & hsa-miR-30a-5p & 1.0 & 0.0 \\\\\n",
       "\t22 & hsa-miR-1304-3p & hsa-miR-4482-1-3p & 1.0 & 0.0 \\\\\n",
       "\t23 & hsa-miR-550a-2-3p & hsa-miR-550a-2-5p & 1.0 & 0.0 \\\\\n",
       "\t24 & hsa-miR-550a-2-3p & hsa-miR-550a-3-5p & 1.0 & 0.0 \\\\\n",
       "\t25 & hsa-miR-335-3p & hsa-miR-335-5p & 1.0 & 0.0 \\\\\n",
       "\t26 & hsa-let-7a-1-5p & hsa-let-7d-5p & 1.0 & 0.0 \\\\\n",
       "\t27 & hsa-let-7a-1-5p & hsa-let-7f-1-5p & 1.0 & 0.0 \\\\\n",
       "\t28 & hsa-let-7a-1-5p & hsa-let-7f-2-5p & 1.0 & 0.0 \\\\\n",
       "\t29 & hsa-let-7a-1-5p & hsa-let-7g-5p & 1.0 & 0.0 \\\\\n",
       "\t30 & hsa-let-7a-1-5p & hsa-miR-98-5p & 1.0 & 0.0 \\\\\n",
       "\t$\\dots$ & $\\dots$ & $\\dots$ & $\\dots$ & $\\dots$ \\\\\n",
       "\\end{tabular}\n"
      ],
      "text/plain": [
       "\u001b[1m14556×4 DataFrame\u001b[0m\n",
       "\u001b[1m   Row \u001b[0m│\u001b[1m Source            \u001b[0m\u001b[1m Target            \u001b[0m\u001b[1m Probability \u001b[0m\u001b[1m qvalue     \u001b[0m\n",
       "       │\u001b[90m String            \u001b[0m\u001b[90m String            \u001b[0m\u001b[90m Float64     \u001b[0m\u001b[90m Float64    \u001b[0m\n",
       "───────┼───────────────────────────────────────────────────────────────\n",
       "     1 │ hsa-miR-574-3p     hsa-miR-574-5p        1.0       0.0\n",
       "     2 │ hsa-miR-4482-1-3p  hsa-miR-1304-3p       1.0       0.0\n",
       "     3 │ hsa-miR-3667-5p    hsa-miR-3667-3p       1.0       0.0\n",
       "     4 │ hsa-miR-550a-2-5p  hsa-miR-550a-2-3p     1.0       0.0\n",
       "     5 │ hsa-miR-550a-2-5p  hsa-miR-550a-3-5p     1.0       0.0\n",
       "     6 │ hsa-miR-3130-2-5p  hsa-miR-3130-1-5p     1.0       0.0\n",
       "     7 │ hsa-let-7b-5p      hsa-let-7b-3p         1.0       0.0\n",
       "     8 │ hsa-miR-96-5p      hsa-miR-182-5p        1.0       0.0\n",
       "     9 │ hsa-miR-96-5p      hsa-miR-1271-5p       1.0       0.0\n",
       "    10 │ hsa-miR-3667-3p    hsa-miR-3667-5p       1.0       0.0\n",
       "    11 │ hsa-miR-181c-5p    hsa-miR-181c-3p       1.0       0.0\n",
       "   ⋮   │         ⋮                  ⋮               ⋮           ⋮\n",
       " 14547 │ hsa-miR-23a-5p     hsa-miR-150-5p        0.961633  0.0099818\n",
       " 14548 │ hsa-miR-500a-3p    hsa-miR-138-1-3p      0.961624  0.00998375\n",
       " 14549 │ hsa-miR-425-3p     hsa-miR-200c-3p       0.961621  0.00998571\n",
       " 14550 │ hsa-miR-125a-5p    hsa-miR-140-3p        0.961608  0.00998766\n",
       " 14551 │ hsa-miR-342-5p     hsa-miR-335-5p        0.961607  0.00998961\n",
       " 14552 │ hsa-miR-3615-3p    hsa-miR-744-5p        0.9616    0.00999156\n",
       " 14553 │ hsa-miR-320d-1-3p  hsa-miR-365a-5p       0.961596  0.00999351\n",
       " 14554 │ hsa-miR-23a-5p     hsa-miR-425-5p        0.961593  0.00999547\n",
       " 14555 │ hsa-miR-26b-3p     hsa-miR-4687-3p       0.961592  0.00999742\n",
       " 14556 │ hsa-miR-589-5p     hsa-miR-644b-3p       0.96159   0.00999937\n",
       "\u001b[36m                                                     14535 rows omitted\u001b[0m"
      ]
     },
     "execution_count": 7,
     "metadata": {},
     "output_type": "execute_result"
    }
   ],
   "source": [
    "filter!(row -> row.qvalue <= 0.01, dP_mir_all)"
   ]
  },
  {
   "cell_type": "markdown",
   "id": "ead3ce81",
   "metadata": {},
   "source": [
    "Note that the [`filter!`](https://dataframes.juliadata.org/stable/lib/functions/#Base.filter!) command modifies the input DataFrame in-place, that is, the rows not matching the selection criteria are deleted. Use [`filter`](https://dataframes.juliadata.org/stable/lib/functions/#Base.filter) to return a new DataFrame with the selected rows.\n",
    "\n",
    "Finally, remember that the output of coexpression analysis in BioFindr is *not* symmetric, that is\n",
    "\n",
    "$$\n",
    "P(Source, Target) \\neq P(Target, Source)\n",
    "$$\n",
    "\n",
    "This is because the posterior probabilities are estimated using a Source-specific background distribution, accounting for the fact that different genes may have a different number of non-null interaction partners *a priori*. See the [Findr paper][5] for details.\n",
    "\n",
    "### Bipartite coexpression analysis\n",
    "\n",
    "Since BioFindr's posterior probabilities are Source gene-specific, we may be interested in computing probabilities only for a subset of Source genes, or using different Source and Target gene sets. \n",
    "\n",
    "As an example of the first scenario, assume we are interested in finding microRNAs that are significantly correlated with microRNAs from the [Mir-200 family](https://en.wikipedia.org/wiki/Mir-200). First find the Mir-200 microRNAs:\n"
   ]
  },
  {
   "cell_type": "code",
   "execution_count": 7,
   "id": "12c51127",
   "metadata": {},
   "outputs": [
    {
     "data": {
      "text/plain": [
       "3-element Vector{String}:\n",
       " \"hsa-miR-200b-3p\"\n",
       " \"hsa-miR-200a-3p\"\n",
       " \"hsa-miR-200c-3p\""
      ]
     },
     "execution_count": 8,
     "metadata": {},
     "output_type": "execute_result"
    }
   ],
   "source": [
    "mir200 = names(dm)[startswith.(names(dm),\"hsa-miR-200\")]"
   ]
  },
  {
   "cell_type": "markdown",
   "id": "885bff6a",
   "metadata": {},
   "source": [
    "Then run\n"
   ]
  },
  {
   "cell_type": "code",
   "execution_count": 8,
   "id": "7d39b69d",
   "metadata": {},
   "outputs": [
    {
     "data": {
      "text/html": [
       "<div><div style = \"float: left;\"><span>47×4 DataFrame</span></div><div style = \"float: right;\"><span style = \"font-style: italic;\">22 rows omitted</span></div><div style = \"clear: both;\"></div></div><div class = \"data-frame\" style = \"overflow-x: scroll;\"><table class = \"data-frame\" style = \"margin-bottom: 6px;\"><thead><tr class = \"header\"><th class = \"rowNumber\" style = \"font-weight: bold; text-align: right;\">Row</th><th style = \"text-align: left;\">Source</th><th style = \"text-align: left;\">Target</th><th style = \"text-align: left;\">Probability</th><th style = \"text-align: left;\">qvalue</th></tr><tr class = \"subheader headerLastRow\"><th class = \"rowNumber\" style = \"font-weight: bold; text-align: right;\"></th><th title = \"String\" style = \"text-align: left;\">String</th><th title = \"String\" style = \"text-align: left;\">String</th><th title = \"Float64\" style = \"text-align: left;\">Float64</th><th title = \"Float64\" style = \"text-align: left;\">Float64</th></tr></thead><tbody><tr><td class = \"rowNumber\" style = \"font-weight: bold; text-align: right;\">1</td><td style = \"text-align: left;\">hsa-miR-200a-3p</td><td style = \"text-align: left;\">hsa-miR-200b-3p</td><td style = \"text-align: right;\">1.0</td><td style = \"text-align: right;\">1.39181e-9</td></tr><tr><td class = \"rowNumber\" style = \"font-weight: bold; text-align: right;\">2</td><td style = \"text-align: left;\">hsa-miR-200b-3p</td><td style = \"text-align: left;\">hsa-miR-200a-3p</td><td style = \"text-align: right;\">1.0</td><td style = \"text-align: right;\">1.55254e-9</td></tr><tr><td class = \"rowNumber\" style = \"font-weight: bold; text-align: right;\">3</td><td style = \"text-align: left;\">hsa-miR-200c-3p</td><td style = \"text-align: left;\">hsa-miR-93-5p</td><td style = \"text-align: right;\">0.999998</td><td style = \"text-align: right;\">5.68454e-7</td></tr><tr><td class = \"rowNumber\" style = \"font-weight: bold; text-align: right;\">4</td><td style = \"text-align: left;\">hsa-miR-200c-3p</td><td style = \"text-align: left;\">hsa-miR-140-3p</td><td style = \"text-align: right;\">0.999984</td><td style = \"text-align: right;\">4.44472e-6</td></tr><tr><td class = \"rowNumber\" style = \"font-weight: bold; text-align: right;\">5</td><td style = \"text-align: left;\">hsa-miR-200b-3p</td><td style = \"text-align: left;\">hsa-miR-429-3p</td><td style = \"text-align: right;\">0.999918</td><td style = \"text-align: right;\">1.99874e-5</td></tr><tr><td class = \"rowNumber\" style = \"font-weight: bold; text-align: right;\">6</td><td style = \"text-align: left;\">hsa-miR-200c-3p</td><td style = \"text-align: left;\">hsa-miR-16-1-5p</td><td style = \"text-align: right;\">0.999792</td><td style = \"text-align: right;\">5.13862e-5</td></tr><tr><td class = \"rowNumber\" style = \"font-weight: bold; text-align: right;\">7</td><td style = \"text-align: left;\">hsa-miR-200c-3p</td><td style = \"text-align: left;\">hsa-miR-664-3p</td><td style = \"text-align: right;\">0.999784</td><td style = \"text-align: right;\">7.49279e-5</td></tr><tr><td class = \"rowNumber\" style = \"font-weight: bold; text-align: right;\">8</td><td style = \"text-align: left;\">hsa-miR-200c-3p</td><td style = \"text-align: left;\">hsa-miR-17-5p</td><td style = \"text-align: right;\">0.999641</td><td style = \"text-align: right;\">0.000110395</td></tr><tr><td class = \"rowNumber\" style = \"font-weight: bold; text-align: right;\">9</td><td style = \"text-align: left;\">hsa-miR-200b-3p</td><td style = \"text-align: left;\">hsa-miR-582-3p</td><td style = \"text-align: right;\">0.999246</td><td style = \"text-align: right;\">0.00018188</td></tr><tr><td class = \"rowNumber\" style = \"font-weight: bold; text-align: right;\">10</td><td style = \"text-align: left;\">hsa-miR-200c-3p</td><td style = \"text-align: left;\">hsa-miR-769-5p</td><td style = \"text-align: right;\">0.999242</td><td style = \"text-align: right;\">0.000239459</td></tr><tr><td class = \"rowNumber\" style = \"font-weight: bold; text-align: right;\">11</td><td style = \"text-align: left;\">hsa-miR-200c-3p</td><td style = \"text-align: left;\">hsa-miR-130b-5p</td><td style = \"text-align: right;\">0.999139</td><td style = \"text-align: right;\">0.000295921</td></tr><tr><td class = \"rowNumber\" style = \"font-weight: bold; text-align: right;\">12</td><td style = \"text-align: left;\">hsa-miR-200c-3p</td><td style = \"text-align: left;\">hsa-miR-425-5p</td><td style = \"text-align: right;\">0.999052</td><td style = \"text-align: right;\">0.000350225</td></tr><tr><td class = \"rowNumber\" style = \"font-weight: bold; text-align: right;\">13</td><td style = \"text-align: left;\">hsa-miR-200c-3p</td><td style = \"text-align: left;\">hsa-miR-103a-2-3p</td><td style = \"text-align: right;\">0.999001</td><td style = \"text-align: right;\">0.000400161</td></tr><tr><td style = \"text-align: right;\">&vellip;</td><td style = \"text-align: right;\">&vellip;</td><td style = \"text-align: right;\">&vellip;</td><td style = \"text-align: right;\">&vellip;</td><td style = \"text-align: right;\">&vellip;</td></tr><tr><td class = \"rowNumber\" style = \"font-weight: bold; text-align: right;\">36</td><td style = \"text-align: left;\">hsa-miR-200b-3p</td><td style = \"text-align: left;\">hsa-miR-769-3p</td><td style = \"text-align: right;\">0.983749</td><td style = \"text-align: right;\">0.00628075</td></tr><tr><td class = \"rowNumber\" style = \"font-weight: bold; text-align: right;\">37</td><td style = \"text-align: left;\">hsa-miR-200c-3p</td><td style = \"text-align: left;\">hsa-miR-378a-3p</td><td style = \"text-align: right;\">0.983227</td><td style = \"text-align: right;\">0.00656431</td></tr><tr><td class = \"rowNumber\" style = \"font-weight: bold; text-align: right;\">38</td><td style = \"text-align: left;\">hsa-miR-200b-3p</td><td style = \"text-align: left;\">hsa-miR-26b-5p</td><td style = \"text-align: right;\">0.981109</td><td style = \"text-align: right;\">0.00688869</td></tr><tr><td class = \"rowNumber\" style = \"font-weight: bold; text-align: right;\">39</td><td style = \"text-align: left;\">hsa-miR-200c-3p</td><td style = \"text-align: left;\">hsa-miR-619-5p</td><td style = \"text-align: right;\">0.980948</td><td style = \"text-align: right;\">0.00720056</td></tr><tr><td class = \"rowNumber\" style = \"font-weight: bold; text-align: right;\">40</td><td style = \"text-align: left;\">hsa-miR-200c-3p</td><td style = \"text-align: left;\">hsa-miR-500a-5p</td><td style = \"text-align: right;\">0.97978</td><td style = \"text-align: right;\">0.00752605</td></tr><tr><td class = \"rowNumber\" style = \"font-weight: bold; text-align: right;\">41</td><td style = \"text-align: left;\">hsa-miR-200c-3p</td><td style = \"text-align: left;\">hsa-miR-4677-3p</td><td style = \"text-align: right;\">0.979595</td><td style = \"text-align: right;\">0.00784016</td></tr><tr><td class = \"rowNumber\" style = \"font-weight: bold; text-align: right;\">42</td><td style = \"text-align: left;\">hsa-miR-200b-3p</td><td style = \"text-align: left;\">hsa-miR-328-3p</td><td style = \"text-align: right;\">0.979019</td><td style = \"text-align: right;\">0.00815303</td></tr><tr><td class = \"rowNumber\" style = \"font-weight: bold; text-align: right;\">43</td><td style = \"text-align: left;\">hsa-miR-200b-3p</td><td style = \"text-align: left;\">hsa-miR-9-1-5p</td><td style = \"text-align: right;\">0.978721</td><td style = \"text-align: right;\">0.00845829</td></tr><tr><td class = \"rowNumber\" style = \"font-weight: bold; text-align: right;\">44</td><td style = \"text-align: left;\">hsa-miR-200c-3p</td><td style = \"text-align: left;\">hsa-miR-141-5p</td><td style = \"text-align: right;\">0.978487</td><td style = \"text-align: right;\">0.00875499</td></tr><tr><td class = \"rowNumber\" style = \"font-weight: bold; text-align: right;\">45</td><td style = \"text-align: left;\">hsa-miR-200c-3p</td><td style = \"text-align: left;\">hsa-miR-30e-3p</td><td style = \"text-align: right;\">0.977855</td><td style = \"text-align: right;\">0.00905255</td></tr><tr><td class = \"rowNumber\" style = \"font-weight: bold; text-align: right;\">46</td><td style = \"text-align: left;\">hsa-miR-200a-3p</td><td style = \"text-align: left;\">hsa-miR-26b-5p</td><td style = \"text-align: right;\">0.976313</td><td style = \"text-align: right;\">0.0093707</td></tr><tr><td class = \"rowNumber\" style = \"font-weight: bold; text-align: right;\">47</td><td style = \"text-align: left;\">hsa-miR-200c-3p</td><td style = \"text-align: left;\">hsa-miR-25-3p</td><td style = \"text-align: right;\">0.971038</td><td style = \"text-align: right;\">0.00978752</td></tr></tbody></table></div>"
      ],
      "text/latex": [
       "\\begin{tabular}{r|cccc}\n",
       "\t& Source & Target & Probability & qvalue\\\\\n",
       "\t\\hline\n",
       "\t& String & String & Float64 & Float64\\\\\n",
       "\t\\hline\n",
       "\t1 & hsa-miR-200a-3p & hsa-miR-200b-3p & 1.0 & 1.39181e-9 \\\\\n",
       "\t2 & hsa-miR-200b-3p & hsa-miR-200a-3p & 1.0 & 1.55254e-9 \\\\\n",
       "\t3 & hsa-miR-200c-3p & hsa-miR-93-5p & 0.999998 & 5.68454e-7 \\\\\n",
       "\t4 & hsa-miR-200c-3p & hsa-miR-140-3p & 0.999984 & 4.44472e-6 \\\\\n",
       "\t5 & hsa-miR-200b-3p & hsa-miR-429-3p & 0.999918 & 1.99874e-5 \\\\\n",
       "\t6 & hsa-miR-200c-3p & hsa-miR-16-1-5p & 0.999792 & 5.13862e-5 \\\\\n",
       "\t7 & hsa-miR-200c-3p & hsa-miR-664-3p & 0.999784 & 7.49279e-5 \\\\\n",
       "\t8 & hsa-miR-200c-3p & hsa-miR-17-5p & 0.999641 & 0.000110395 \\\\\n",
       "\t9 & hsa-miR-200b-3p & hsa-miR-582-3p & 0.999246 & 0.00018188 \\\\\n",
       "\t10 & hsa-miR-200c-3p & hsa-miR-769-5p & 0.999242 & 0.000239459 \\\\\n",
       "\t11 & hsa-miR-200c-3p & hsa-miR-130b-5p & 0.999139 & 0.000295921 \\\\\n",
       "\t12 & hsa-miR-200c-3p & hsa-miR-425-5p & 0.999052 & 0.000350225 \\\\\n",
       "\t13 & hsa-miR-200c-3p & hsa-miR-103a-2-3p & 0.999001 & 0.000400161 \\\\\n",
       "\t14 & hsa-miR-200c-3p & hsa-miR-106b-3p & 0.998923 & 0.000448471 \\\\\n",
       "\t15 & hsa-miR-200c-3p & hsa-miR-103a-1-3p & 0.998895 & 0.000492247 \\\\\n",
       "\t16 & hsa-miR-200c-3p & hsa-miR-93-3p & 0.998312 & 0.000566981 \\\\\n",
       "\t17 & hsa-miR-200c-3p & hsa-miR-1307-3p & 0.997817 & 0.000662029 \\\\\n",
       "\t18 & hsa-miR-200c-3p & hsa-miR-598-3p & 0.995766 & 0.000860445 \\\\\n",
       "\t19 & hsa-miR-200a-3p & hsa-miR-425-5p & 0.994777 & 0.00109006 \\\\\n",
       "\t20 & hsa-miR-200b-3p & hsa-miR-16-1-5p & 0.99416 & 0.00132757 \\\\\n",
       "\t21 & hsa-miR-200c-3p & hsa-miR-378a-5p & 0.992684 & 0.00161275 \\\\\n",
       "\t22 & hsa-miR-200b-3p & hsa-miR-425-3p & 0.992236 & 0.00189234 \\\\\n",
       "\t23 & hsa-miR-200a-3p & hsa-miR-429-3p & 0.991484 & 0.00218031 \\\\\n",
       "\t24 & hsa-miR-200c-3p & hsa-miR-3159-5p & 0.98864 & 0.0025628 \\\\\n",
       "\t25 & hsa-miR-200c-3p & hsa-miR-152-5p & 0.988608 & 0.00291598 \\\\\n",
       "\t26 & hsa-miR-200b-3p & hsa-miR-17-5p & 0.988505 & 0.00324593 \\\\\n",
       "\t27 & hsa-miR-200c-3p & hsa-miR-3687-3p & 0.988209 & 0.00356243 \\\\\n",
       "\t28 & hsa-miR-200b-3p & hsa-miR-29a-3p & 0.988153 & 0.00385829 \\\\\n",
       "\t29 & hsa-miR-200a-3p & hsa-miR-3667-3p & 0.987701 & 0.00414935 \\\\\n",
       "\t30 & hsa-miR-200b-3p & hsa-miR-551b-3p & 0.986312 & 0.00446729 \\\\\n",
       "\t$\\dots$ & $\\dots$ & $\\dots$ & $\\dots$ & $\\dots$ \\\\\n",
       "\\end{tabular}\n"
      ],
      "text/plain": [
       "\u001b[1m47×4 DataFrame\u001b[0m\n",
       "\u001b[1m Row \u001b[0m│\u001b[1m Source          \u001b[0m\u001b[1m Target            \u001b[0m\u001b[1m Probability \u001b[0m\u001b[1m qvalue      \u001b[0m\n",
       "     │\u001b[90m String          \u001b[0m\u001b[90m String            \u001b[0m\u001b[90m Float64     \u001b[0m\u001b[90m Float64     \u001b[0m\n",
       "─────┼──────────────────────────────────────────────────────────────\n",
       "   1 │ hsa-miR-200a-3p  hsa-miR-200b-3p       1.0       1.39181e-9\n",
       "   2 │ hsa-miR-200b-3p  hsa-miR-200a-3p       1.0       1.55254e-9\n",
       "   3 │ hsa-miR-200c-3p  hsa-miR-93-5p         0.999998  5.68454e-7\n",
       "   4 │ hsa-miR-200c-3p  hsa-miR-140-3p        0.999984  4.44472e-6\n",
       "   5 │ hsa-miR-200b-3p  hsa-miR-429-3p        0.999918  1.99874e-5\n",
       "   6 │ hsa-miR-200c-3p  hsa-miR-16-1-5p       0.999792  5.13862e-5\n",
       "   7 │ hsa-miR-200c-3p  hsa-miR-664-3p        0.999784  7.49279e-5\n",
       "   8 │ hsa-miR-200c-3p  hsa-miR-17-5p         0.999641  0.000110395\n",
       "   9 │ hsa-miR-200b-3p  hsa-miR-582-3p        0.999246  0.00018188\n",
       "  10 │ hsa-miR-200c-3p  hsa-miR-769-5p        0.999242  0.000239459\n",
       "  11 │ hsa-miR-200c-3p  hsa-miR-130b-5p       0.999139  0.000295921\n",
       "  ⋮  │        ⋮                 ⋮               ⋮            ⋮\n",
       "  38 │ hsa-miR-200b-3p  hsa-miR-26b-5p        0.981109  0.00688869\n",
       "  39 │ hsa-miR-200c-3p  hsa-miR-619-5p        0.980948  0.00720056\n",
       "  40 │ hsa-miR-200c-3p  hsa-miR-500a-5p       0.97978   0.00752605\n",
       "  41 │ hsa-miR-200c-3p  hsa-miR-4677-3p       0.979595  0.00784016\n",
       "  42 │ hsa-miR-200b-3p  hsa-miR-328-3p        0.979019  0.00815303\n",
       "  43 │ hsa-miR-200b-3p  hsa-miR-9-1-5p        0.978721  0.00845829\n",
       "  44 │ hsa-miR-200c-3p  hsa-miR-141-5p        0.978487  0.00875499\n",
       "  45 │ hsa-miR-200c-3p  hsa-miR-30e-3p        0.977855  0.00905255\n",
       "  46 │ hsa-miR-200a-3p  hsa-miR-26b-5p        0.976313  0.0093707\n",
       "  47 │ hsa-miR-200c-3p  hsa-miR-25-3p         0.971038  0.00978752\n",
       "\u001b[36m                                                     26 rows omitted\u001b[0m"
      ]
     },
     "execution_count": 9,
     "metadata": {},
     "output_type": "execute_result"
    }
   ],
   "source": [
    "dP_mir200_mir = findr(dm, colnames=mir200, FDR=0.01)"
   ]
  },
  {
   "cell_type": "markdown",
   "id": "9006472a",
   "metadata": {},
   "source": [
    "The parameter **colnames** must be a vector of strings containing a subset of variable names of the input DataFrame **dm** to be used as **Source** genes.\n",
    "\n",
    "As an example of the second scenario, we may be interested in finding genes that are significantly correlated with all or a subset of microRNAs: \n"
   ]
  },
  {
   "cell_type": "code",
   "execution_count": 9,
   "id": "7591d662",
   "metadata": {},
   "outputs": [
    {
     "data": {
      "text/html": [
       "<div><div style = \"float: left;\"><span>56268×4 DataFrame</span></div><div style = \"float: right;\"><span style = \"font-style: italic;\">56243 rows omitted</span></div><div style = \"clear: both;\"></div></div><div class = \"data-frame\" style = \"overflow-x: scroll;\"><table class = \"data-frame\" style = \"margin-bottom: 6px;\"><thead><tr class = \"header\"><th class = \"rowNumber\" style = \"font-weight: bold; text-align: right;\">Row</th><th style = \"text-align: left;\">Source</th><th style = \"text-align: left;\">Target</th><th style = \"text-align: left;\">Probability</th><th style = \"text-align: left;\">qvalue</th></tr><tr class = \"subheader headerLastRow\"><th class = \"rowNumber\" style = \"font-weight: bold; text-align: right;\"></th><th title = \"String\" style = \"text-align: left;\">String</th><th title = \"String\" style = \"text-align: left;\">String</th><th title = \"Float64\" style = \"text-align: left;\">Float64</th><th title = \"Float64\" style = \"text-align: left;\">Float64</th></tr></thead><tbody><tr><td class = \"rowNumber\" style = \"font-weight: bold; text-align: right;\">1</td><td style = \"text-align: left;\">hsa-miR-3150b-3p</td><td style = \"text-align: left;\">ENSG00000245080.3</td><td style = \"text-align: right;\">1.0</td><td style = \"text-align: right;\">0.0</td></tr><tr><td class = \"rowNumber\" style = \"font-weight: bold; text-align: right;\">2</td><td style = \"text-align: left;\">hsa-let-7b-5p</td><td style = \"text-align: left;\">ENSG00000197182.8</td><td style = \"text-align: right;\">1.0</td><td style = \"text-align: right;\">0.0</td></tr><tr><td class = \"rowNumber\" style = \"font-weight: bold; text-align: right;\">3</td><td style = \"text-align: left;\">hsa-let-7b-5p</td><td style = \"text-align: left;\">ENSG00000241990.1</td><td style = \"text-align: right;\">1.0</td><td style = \"text-align: right;\">0.0</td></tr><tr><td class = \"rowNumber\" style = \"font-weight: bold; text-align: right;\">4</td><td style = \"text-align: left;\">hsa-miR-335-5p</td><td style = \"text-align: left;\">ENSG00000106484.8</td><td style = \"text-align: right;\">1.0</td><td style = \"text-align: right;\">0.0</td></tr><tr><td class = \"rowNumber\" style = \"font-weight: bold; text-align: right;\">5</td><td style = \"text-align: left;\">hsa-miR-335-5p</td><td style = \"text-align: left;\">ENSG00000128510.5</td><td style = \"text-align: right;\">1.0</td><td style = \"text-align: right;\">0.0</td></tr><tr><td class = \"rowNumber\" style = \"font-weight: bold; text-align: right;\">6</td><td style = \"text-align: left;\">hsa-miR-335-5p</td><td style = \"text-align: left;\">ENSG00000220884.2</td><td style = \"text-align: right;\">1.0</td><td style = \"text-align: right;\">0.0</td></tr><tr><td class = \"rowNumber\" style = \"font-weight: bold; text-align: right;\">7</td><td style = \"text-align: left;\">hsa-miR-618-5p</td><td style = \"text-align: left;\">ENSG00000111052.3</td><td style = \"text-align: right;\">1.0</td><td style = \"text-align: right;\">0.0</td></tr><tr><td class = \"rowNumber\" style = \"font-weight: bold; text-align: right;\">8</td><td style = \"text-align: left;\">hsa-miR-335-3p</td><td style = \"text-align: left;\">ENSG00000106484.8</td><td style = \"text-align: right;\">1.0</td><td style = \"text-align: right;\">0.0</td></tr><tr><td class = \"rowNumber\" style = \"font-weight: bold; text-align: right;\">9</td><td style = \"text-align: left;\">hsa-miR-335-3p</td><td style = \"text-align: left;\">ENSG00000128510.5</td><td style = \"text-align: right;\">1.0</td><td style = \"text-align: right;\">0.0</td></tr><tr><td class = \"rowNumber\" style = \"font-weight: bold; text-align: right;\">10</td><td style = \"text-align: left;\">hsa-miR-335-3p</td><td style = \"text-align: left;\">ENSG00000220884.2</td><td style = \"text-align: right;\">1.0</td><td style = \"text-align: right;\">0.0</td></tr><tr><td class = \"rowNumber\" style = \"font-weight: bold; text-align: right;\">11</td><td style = \"text-align: left;\">hsa-let-7b-3p</td><td style = \"text-align: left;\">ENSG00000241990.1</td><td style = \"text-align: right;\">1.0</td><td style = \"text-align: right;\">0.0</td></tr><tr><td class = \"rowNumber\" style = \"font-weight: bold; text-align: right;\">12</td><td style = \"text-align: left;\">hsa-miR-138-1-3p</td><td style = \"text-align: left;\">ENSG00000261786.1</td><td style = \"text-align: right;\">1.0</td><td style = \"text-align: right;\">0.0</td></tr><tr><td class = \"rowNumber\" style = \"font-weight: bold; text-align: right;\">13</td><td style = \"text-align: left;\">hsa-miR-138-1-5p</td><td style = \"text-align: left;\">ENSG00000261786.1</td><td style = \"text-align: right;\">1.0</td><td style = \"text-align: right;\">0.0</td></tr><tr><td style = \"text-align: right;\">&vellip;</td><td style = \"text-align: right;\">&vellip;</td><td style = \"text-align: right;\">&vellip;</td><td style = \"text-align: right;\">&vellip;</td><td style = \"text-align: right;\">&vellip;</td></tr><tr><td class = \"rowNumber\" style = \"font-weight: bold; text-align: right;\">56257</td><td style = \"text-align: left;\">hsa-miR-3909-3p</td><td style = \"text-align: left;\">ENSG00000143028.7</td><td style = \"text-align: right;\">0.973468</td><td style = \"text-align: right;\">0.00999676</td></tr><tr><td class = \"rowNumber\" style = \"font-weight: bold; text-align: right;\">56258</td><td style = \"text-align: left;\">hsa-miR-193b-3p</td><td style = \"text-align: left;\">ENSG00000198833.5</td><td style = \"text-align: right;\">0.973467</td><td style = \"text-align: right;\">0.00999706</td></tr><tr><td class = \"rowNumber\" style = \"font-weight: bold; text-align: right;\">56259</td><td style = \"text-align: left;\">hsa-miR-148a-3p</td><td style = \"text-align: left;\">ENSG00000112697.10</td><td style = \"text-align: right;\">0.973467</td><td style = \"text-align: right;\">0.00999735</td></tr><tr><td class = \"rowNumber\" style = \"font-weight: bold; text-align: right;\">56260</td><td style = \"text-align: left;\">hsa-miR-425-3p</td><td style = \"text-align: left;\">ENSG00000072195.9</td><td style = \"text-align: right;\">0.973467</td><td style = \"text-align: right;\">0.00999764</td></tr><tr><td class = \"rowNumber\" style = \"font-weight: bold; text-align: right;\">56261</td><td style = \"text-align: left;\">hsa-miR-210-5p</td><td style = \"text-align: left;\">ENSG00000013503.4</td><td style = \"text-align: right;\">0.973466</td><td style = \"text-align: right;\">0.00999794</td></tr><tr><td class = \"rowNumber\" style = \"font-weight: bold; text-align: right;\">56262</td><td style = \"text-align: left;\">hsa-miR-625-5p</td><td style = \"text-align: left;\">ENSG00000214121.3</td><td style = \"text-align: right;\">0.973465</td><td style = \"text-align: right;\">0.00999823</td></tr><tr><td class = \"rowNumber\" style = \"font-weight: bold; text-align: right;\">56263</td><td style = \"text-align: left;\">hsa-miR-1301-3p</td><td style = \"text-align: left;\">ENSG00000231752.1</td><td style = \"text-align: right;\">0.973465</td><td style = \"text-align: right;\">0.00999853</td></tr><tr><td class = \"rowNumber\" style = \"font-weight: bold; text-align: right;\">56264</td><td style = \"text-align: left;\">hsa-miR-582-5p</td><td style = \"text-align: left;\">ENSG00000231752.1</td><td style = \"text-align: right;\">0.973463</td><td style = \"text-align: right;\">0.00999882</td></tr><tr><td class = \"rowNumber\" style = \"font-weight: bold; text-align: right;\">56265</td><td style = \"text-align: left;\">hsa-miR-132-3p</td><td style = \"text-align: left;\">ENSG00000158406.2</td><td style = \"text-align: right;\">0.973463</td><td style = \"text-align: right;\">0.00999911</td></tr><tr><td class = \"rowNumber\" style = \"font-weight: bold; text-align: right;\">56266</td><td style = \"text-align: left;\">hsa-miR-196a-2-5p</td><td style = \"text-align: left;\">ENSG00000229446.1</td><td style = \"text-align: right;\">0.973462</td><td style = \"text-align: right;\">0.00999941</td></tr><tr><td class = \"rowNumber\" style = \"font-weight: bold; text-align: right;\">56267</td><td style = \"text-align: left;\">hsa-miR-29b-1-5p</td><td style = \"text-align: left;\">ENSG00000188010.8</td><td style = \"text-align: right;\">0.973461</td><td style = \"text-align: right;\">0.0099997</td></tr><tr><td class = \"rowNumber\" style = \"font-weight: bold; text-align: right;\">56268</td><td style = \"text-align: left;\">hsa-miR-125a-5p</td><td style = \"text-align: left;\">ENSG00000047932.9</td><td style = \"text-align: right;\">0.973461</td><td style = \"text-align: right;\">0.01</td></tr></tbody></table></div>"
      ],
      "text/latex": [
       "\\begin{tabular}{r|cccc}\n",
       "\t& Source & Target & Probability & qvalue\\\\\n",
       "\t\\hline\n",
       "\t& String & String & Float64 & Float64\\\\\n",
       "\t\\hline\n",
       "\t1 & hsa-miR-3150b-3p & ENSG00000245080.3 & 1.0 & 0.0 \\\\\n",
       "\t2 & hsa-let-7b-5p & ENSG00000197182.8 & 1.0 & 0.0 \\\\\n",
       "\t3 & hsa-let-7b-5p & ENSG00000241990.1 & 1.0 & 0.0 \\\\\n",
       "\t4 & hsa-miR-335-5p & ENSG00000106484.8 & 1.0 & 0.0 \\\\\n",
       "\t5 & hsa-miR-335-5p & ENSG00000128510.5 & 1.0 & 0.0 \\\\\n",
       "\t6 & hsa-miR-335-5p & ENSG00000220884.2 & 1.0 & 0.0 \\\\\n",
       "\t7 & hsa-miR-618-5p & ENSG00000111052.3 & 1.0 & 0.0 \\\\\n",
       "\t8 & hsa-miR-335-3p & ENSG00000106484.8 & 1.0 & 0.0 \\\\\n",
       "\t9 & hsa-miR-335-3p & ENSG00000128510.5 & 1.0 & 0.0 \\\\\n",
       "\t10 & hsa-miR-335-3p & ENSG00000220884.2 & 1.0 & 0.0 \\\\\n",
       "\t11 & hsa-let-7b-3p & ENSG00000241990.1 & 1.0 & 0.0 \\\\\n",
       "\t12 & hsa-miR-138-1-3p & ENSG00000261786.1 & 1.0 & 0.0 \\\\\n",
       "\t13 & hsa-miR-138-1-5p & ENSG00000261786.1 & 1.0 & 0.0 \\\\\n",
       "\t14 & hsa-miR-143-3p & ENSG00000249959.1 & 1.0 & 0.0 \\\\\n",
       "\t15 & hsa-miR-151a-3p & ENSG00000169398.14 & 1.0 & 0.0 \\\\\n",
       "\t16 & hsa-miR-151a-5p & ENSG00000169398.14 & 1.0 & 0.0 \\\\\n",
       "\t17 & hsa-miR-151b-3p & ENSG00000169398.14 & 1.0 & 0.0 \\\\\n",
       "\t18 & hsa-miR-181a-2-3p & ENSG00000224020.1 & 1.0 & 0.0 \\\\\n",
       "\t19 & hsa-miR-196a-1-5p & ENSG00000260027.1 & 1.0 & 0.0 \\\\\n",
       "\t20 & hsa-miR-196a-2-5p & ENSG00000244649.1 & 1.0 & 0.0 \\\\\n",
       "\t21 & hsa-miR-196a-2-5p & ENSG00000260027.1 & 1.0 & 0.0 \\\\\n",
       "\t22 & hsa-miR-221-3p & ENSG00000117586.5 & 1.0 & 0.0 \\\\\n",
       "\t23 & hsa-miR-221-3p & ENSG00000185650.7 & 1.0 & 0.0 \\\\\n",
       "\t24 & hsa-miR-222-3p & ENSG00000113302.4 & 1.0 & 0.0 \\\\\n",
       "\t25 & hsa-miR-222-3p & ENSG00000117586.5 & 1.0 & 0.0 \\\\\n",
       "\t26 & hsa-miR-30d-3p & ENSG00000259820.1 & 1.0 & 0.0 \\\\\n",
       "\t27 & hsa-miR-30d-5p & ENSG00000259820.1 & 1.0 & 0.0 \\\\\n",
       "\t28 & hsa-miR-340-5p & ENSG00000113269.7 & 1.0 & 0.0 \\\\\n",
       "\t29 & hsa-miR-342-3p & ENSG00000196405.7 & 1.0 & 0.0 \\\\\n",
       "\t30 & hsa-miR-3681-5p & ENSG00000224184.1 & 1.0 & 0.0 \\\\\n",
       "\t$\\dots$ & $\\dots$ & $\\dots$ & $\\dots$ & $\\dots$ \\\\\n",
       "\\end{tabular}\n"
      ],
      "text/plain": [
       "\u001b[1m56268×4 DataFrame\u001b[0m\n",
       "\u001b[1m   Row \u001b[0m│\u001b[1m Source            \u001b[0m\u001b[1m Target             \u001b[0m\u001b[1m Probability \u001b[0m\u001b[1m qvalue     \u001b[0m\n",
       "       │\u001b[90m String            \u001b[0m\u001b[90m String             \u001b[0m\u001b[90m Float64     \u001b[0m\u001b[90m Float64    \u001b[0m\n",
       "───────┼────────────────────────────────────────────────────────────────\n",
       "     1 │ hsa-miR-3150b-3p   ENSG00000245080.3      1.0       0.0\n",
       "     2 │ hsa-let-7b-5p      ENSG00000197182.8      1.0       0.0\n",
       "     3 │ hsa-let-7b-5p      ENSG00000241990.1      1.0       0.0\n",
       "     4 │ hsa-miR-335-5p     ENSG00000106484.8      1.0       0.0\n",
       "     5 │ hsa-miR-335-5p     ENSG00000128510.5      1.0       0.0\n",
       "     6 │ hsa-miR-335-5p     ENSG00000220884.2      1.0       0.0\n",
       "     7 │ hsa-miR-618-5p     ENSG00000111052.3      1.0       0.0\n",
       "     8 │ hsa-miR-335-3p     ENSG00000106484.8      1.0       0.0\n",
       "     9 │ hsa-miR-335-3p     ENSG00000128510.5      1.0       0.0\n",
       "    10 │ hsa-miR-335-3p     ENSG00000220884.2      1.0       0.0\n",
       "    11 │ hsa-let-7b-3p      ENSG00000241990.1      1.0       0.0\n",
       "   ⋮   │         ⋮                  ⋮                ⋮           ⋮\n",
       " 56259 │ hsa-miR-148a-3p    ENSG00000112697.10     0.973467  0.00999735\n",
       " 56260 │ hsa-miR-425-3p     ENSG00000072195.9      0.973467  0.00999764\n",
       " 56261 │ hsa-miR-210-5p     ENSG00000013503.4      0.973466  0.00999794\n",
       " 56262 │ hsa-miR-625-5p     ENSG00000214121.3      0.973465  0.00999823\n",
       " 56263 │ hsa-miR-1301-3p    ENSG00000231752.1      0.973465  0.00999853\n",
       " 56264 │ hsa-miR-582-5p     ENSG00000231752.1      0.973463  0.00999882\n",
       " 56265 │ hsa-miR-132-3p     ENSG00000158406.2      0.973463  0.00999911\n",
       " 56266 │ hsa-miR-196a-2-5p  ENSG00000229446.1      0.973462  0.00999941\n",
       " 56267 │ hsa-miR-29b-1-5p   ENSG00000188010.8      0.973461  0.0099997\n",
       " 56268 │ hsa-miR-125a-5p    ENSG00000047932.9      0.973461  0.01\n",
       "\u001b[36m                                                      56247 rows omitted\u001b[0m"
      ]
     },
     "execution_count": 10,
     "metadata": {},
     "output_type": "execute_result"
    }
   ],
   "source": [
    "dP_mir_mrna = findr(dt, dm, FDR=0.01)"
   ]
  },
  {
   "cell_type": "markdown",
   "id": "d5964c03",
   "metadata": {},
   "source": [
    "Note the order of the arguments: here we tested all microRNAs as $A$ or Source genes (`dm` argument) against all mRNA transcripts as $B$ or Target genes (`dt` argument), that is, background distributions are fitted for each microRNA (column of `dm`) from the log-likelihood ratios for all 23,722 mRNAs (columns of `dt`).\n",
    "\n",
    "[1]: https://github.com/tmichoel/BioFindr.jl\n",
    "[2]: https://github.com/lingfeiwang/findr-data-geuvadis\n",
    "[3]: https://doi.org/10.1038/nature12531\n",
    "[4]: https://dataframes.juliadata.org/stable/\n",
    "[5]: https://doi.org/10.1371/journal.pcbi.1005703"
   ]
  }
 ],
 "metadata": {
  "kernelspec": {
   "display_name": "Julia 1.10.0",
   "language": "julia",
   "name": "julia-1.10"
  },
  "language_info": {
   "file_extension": ".jl",
   "mimetype": "application/julia",
   "name": "julia",
   "version": "1.10.0"
  }
 },
 "nbformat": 4,
 "nbformat_minor": 5
}
