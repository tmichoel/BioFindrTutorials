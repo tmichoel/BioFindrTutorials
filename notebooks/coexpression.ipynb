{
 "cells": [
  {
   "cell_type": "raw",
   "id": "044286b5",
   "metadata": {},
   "source": [
    "---\n",
    "title: Coexpression analysis\n",
    "format:\n",
    "  html: default\n",
    "  ipynb: default\n",
    "execute:\n",
    "  cache: true\n",
    "  keep-ipynb: true\n",
    "---"
   ]
  },
  {
   "cell_type": "markdown",
   "id": "d92600f0",
   "metadata": {},
   "source": [
    "## Introduction\n",
    "\n",
    "While [Findr.jl][1] is developed primarily for causal inference from genomics and transcriptomics data, coexpression analysis of transcriptomics data alone is also possible. In coexpression analysis, pairwise correlation is used as a simple measure for the probability of two genes being functionally related either through direct or indirect regulation, or through coregulation by a third factor. In [Findr.jl][1], significance of pairwise correlation is computed using a gene-specific background distribution, allowing for genes having different biological roles. For instance, it is known that many biological networks are [scale-free](https://en.wikipedia.org/wiki/Scale-free_network), where a small number of so-called \"hub genes\" have a high number of interaction partners while most other genes only have few. In [Findr.jl][1], this is accomodated by modelling the distribution of correlation values between a given gene $A$ and all other genes $B$ as a [mixture distribution](https://en.wikipedia.org/wiki/Mixture_distribution) of real and null (random) correlations. The relative weight of each component reflects the prior probability of finding a non-null $B$ gene for a given $A$ gene, and is fitted for every $A$ gene separately.\n",
    "\n",
    "We will illustrate how to run coexpression analysis with [Findr.jl][1] using [preprocessed data][2] from the [GEUVADIS study][3]. See the [installation instructions](installation.qmd) for the steps you need to take to reproduce this tutorial.\n",
    "\n",
    "## Set up the environment\n",
    "\n",
    "We begin by setting up the environment and loading some necessary packages.\n"
   ]
  },
  {
   "cell_type": "code",
   "execution_count": 1,
   "id": "65cac9c9",
   "metadata": {},
   "outputs": [],
   "source": [
    "using DrWatson\n",
    "quickactivate(@__DIR__)\n",
    "\n",
    "using DataFrames\n",
    "using Arrow\n",
    "using Markdown\n",
    "\n",
    "using Findr"
   ]
  },
  {
   "cell_type": "markdown",
   "id": "befd32ff",
   "metadata": {},
   "source": [
    "## Load expression data\n",
    "\n",
    "[Findr.jl][1] expects that expression data are stored in a [DataFrame][4] where columns correspond to variables (genes) and rows to samples. An expression [DataFrame][4] should not contain any other columns (e.g. gene annotation) than gene expression columns, and gene expression data should be stored as [floating-point numbers](https://docs.julialang.org/en/v1/manual/integers-and-floating-point-numbers/). Internally, [Findr.jl][1] operates on matrices, and if you have an expression [DataFrame][4] `df`, then `Matrix(df)` should return a matrix of floats.\n",
    "\n",
    "At the moment, [Findr.jl][1] does not support count-based expression data being provided as a [DataFrame][4] of integers. This is not an intrinsic limitation of the method, but simply to distinguish expression data from integer-valued genotype data. Future versions will remove this limitation by supporting [scientific types](https://juliaai.github.io/ScientificTypes.jl/dev/).\n",
    "\n",
    "This tutorial uses two tables of expression data from the same set of samples, one for mRNA expression data called `dt`, and one for microRNA (miRNA) expression data called `dm`:\n"
   ]
  },
  {
   "cell_type": "code",
   "execution_count": 2,
   "id": "6f915232",
   "metadata": {},
   "outputs": [],
   "source": [
    "dt = DataFrame(Arrow.Table(datadir(\"exp_pro\",\"findr-data-geuvadis\", \"dt.arrow\")));\n",
    "dm = DataFrame(Arrow.Table(datadir(\"exp_pro\",\"findr-data-geuvadis\", \"dm.arrow\")));"
   ]
  },
  {
   "cell_type": "code",
   "execution_count": 3,
   "id": "e28856f5",
   "metadata": {},
   "outputs": [
    {
     "data": {
      "text/latex": [
       "The mRNA data has expression data for 23722 genes in 360 samples, while miRNA data is available for 674 miRNAs in the same 360 samples.\n",
       "\n"
      ],
      "text/markdown": [
       "The mRNA data has expression data for 23722 genes in 360 samples, while miRNA data is available for 674 miRNAs in the same 360 samples.\n"
      ],
      "text/plain": [
       "  The mRNA data has expression data for 23722 genes in 360 samples, while\n",
       "  miRNA data is available for 674 miRNAs in the same 360 samples."
      ]
     },
     "execution_count": 4,
     "metadata": {},
     "output_type": "execute_result"
    }
   ],
   "source": [
    "#| echo: false\n",
    "nt1, nt2 = size(dt)\n",
    "nm1, nm2 = size(dm)\n",
    "Markdown.parse(\"\"\"\n",
    "The mRNA data has expression data for $nt2 genes in $nt1 samples, while miRNA data is available for $nm2 miRNAs in the same $nm1 samples.\n",
    "\"\"\")"
   ]
  },
  {
   "cell_type": "markdown",
   "id": "769768a9",
   "metadata": {},
   "source": [
    "We can confirm that the data frames are of the right type:\n"
   ]
  },
  {
   "cell_type": "code",
   "execution_count": 4,
   "id": "a020fc22",
   "metadata": {},
   "outputs": [
    {
     "data": {
      "text/plain": [
       "1×2 Matrix{DataType}:\n",
       " Matrix{Float64}  Matrix{Float64}"
      ]
     },
     "execution_count": 5,
     "metadata": {},
     "output_type": "execute_result"
    }
   ],
   "source": [
    "[typeof(Matrix(dt)) typeof(Matrix(dm))]"
   ]
  },
  {
   "cell_type": "markdown",
   "id": "1643c24d",
   "metadata": {},
   "source": [
    "## Run Findr.jl\n",
    "\n",
    "### All-vs-all coexpression analysis\n",
    "\n",
    "The simplest type of coexpression analysis tests for non-zero correlation among all possible pairs in a gene expression dataset. Let's do this for the miRNA data:\n"
   ]
  },
  {
   "cell_type": "code",
   "execution_count": 5,
   "id": "37b76559",
   "metadata": {},
   "outputs": [
    {
     "data": {
      "text/html": [
       "<div><div style = \"float: left;\"><span>28323×4 DataFrame</span></div><div style = \"float: right;\"><span style = \"font-style: italic;\">28298 rows omitted</span></div><div style = \"clear: both;\"></div></div><div class = \"data-frame\" style = \"overflow-x: scroll;\"><table class = \"data-frame\" style = \"margin-bottom: 6px;\"><thead><tr class = \"header\"><th class = \"rowNumber\" style = \"font-weight: bold; text-align: right;\">Row</th><th style = \"text-align: left;\">Source</th><th style = \"text-align: left;\">Target</th><th style = \"text-align: left;\">Probability</th><th style = \"text-align: left;\">qvalue</th></tr><tr class = \"subheader headerLastRow\"><th class = \"rowNumber\" style = \"font-weight: bold; text-align: right;\"></th><th title = \"String\" style = \"text-align: left;\">String</th><th title = \"String\" style = \"text-align: left;\">String</th><th title = \"Float64\" style = \"text-align: left;\">Float64</th><th title = \"Float64\" style = \"text-align: left;\">Float64</th></tr></thead><tbody><tr><td class = \"rowNumber\" style = \"font-weight: bold; text-align: right;\">1</td><td style = \"text-align: left;\">hsa-miR-574-3p</td><td style = \"text-align: left;\">hsa-miR-574-5p</td><td style = \"text-align: right;\">1.0</td><td style = \"text-align: right;\">0.0</td></tr><tr><td class = \"rowNumber\" style = \"font-weight: bold; text-align: right;\">2</td><td style = \"text-align: left;\">hsa-miR-4482-1-3p</td><td style = \"text-align: left;\">hsa-miR-1304-3p</td><td style = \"text-align: right;\">1.0</td><td style = \"text-align: right;\">0.0</td></tr><tr><td class = \"rowNumber\" style = \"font-weight: bold; text-align: right;\">3</td><td style = \"text-align: left;\">hsa-miR-3667-5p</td><td style = \"text-align: left;\">hsa-miR-3667-3p</td><td style = \"text-align: right;\">1.0</td><td style = \"text-align: right;\">0.0</td></tr><tr><td class = \"rowNumber\" style = \"font-weight: bold; text-align: right;\">4</td><td style = \"text-align: left;\">hsa-miR-550a-2-5p</td><td style = \"text-align: left;\">hsa-miR-550a-2-3p</td><td style = \"text-align: right;\">1.0</td><td style = \"text-align: right;\">0.0</td></tr><tr><td class = \"rowNumber\" style = \"font-weight: bold; text-align: right;\">5</td><td style = \"text-align: left;\">hsa-miR-550a-2-5p</td><td style = \"text-align: left;\">hsa-miR-550a-3-5p</td><td style = \"text-align: right;\">1.0</td><td style = \"text-align: right;\">0.0</td></tr><tr><td class = \"rowNumber\" style = \"font-weight: bold; text-align: right;\">6</td><td style = \"text-align: left;\">hsa-miR-3130-2-5p</td><td style = \"text-align: left;\">hsa-miR-3130-1-5p</td><td style = \"text-align: right;\">1.0</td><td style = \"text-align: right;\">0.0</td></tr><tr><td class = \"rowNumber\" style = \"font-weight: bold; text-align: right;\">7</td><td style = \"text-align: left;\">hsa-let-7b-5p</td><td style = \"text-align: left;\">hsa-let-7b-3p</td><td style = \"text-align: right;\">1.0</td><td style = \"text-align: right;\">0.0</td></tr><tr><td class = \"rowNumber\" style = \"font-weight: bold; text-align: right;\">8</td><td style = \"text-align: left;\">hsa-miR-96-5p</td><td style = \"text-align: left;\">hsa-miR-182-5p</td><td style = \"text-align: right;\">1.0</td><td style = \"text-align: right;\">0.0</td></tr><tr><td class = \"rowNumber\" style = \"font-weight: bold; text-align: right;\">9</td><td style = \"text-align: left;\">hsa-miR-96-5p</td><td style = \"text-align: left;\">hsa-miR-1271-5p</td><td style = \"text-align: right;\">1.0</td><td style = \"text-align: right;\">0.0</td></tr><tr><td class = \"rowNumber\" style = \"font-weight: bold; text-align: right;\">10</td><td style = \"text-align: left;\">hsa-miR-3667-3p</td><td style = \"text-align: left;\">hsa-miR-3667-5p</td><td style = \"text-align: right;\">1.0</td><td style = \"text-align: right;\">0.0</td></tr><tr><td class = \"rowNumber\" style = \"font-weight: bold; text-align: right;\">11</td><td style = \"text-align: left;\">hsa-miR-181c-5p</td><td style = \"text-align: left;\">hsa-miR-181c-3p</td><td style = \"text-align: right;\">1.0</td><td style = \"text-align: right;\">0.0</td></tr><tr><td class = \"rowNumber\" style = \"font-weight: bold; text-align: right;\">12</td><td style = \"text-align: left;\">hsa-miR-181c-5p</td><td style = \"text-align: left;\">hsa-miR-181d-5p</td><td style = \"text-align: right;\">1.0</td><td style = \"text-align: right;\">0.0</td></tr><tr><td class = \"rowNumber\" style = \"font-weight: bold; text-align: right;\">13</td><td style = \"text-align: left;\">hsa-miR-335-5p</td><td style = \"text-align: left;\">hsa-miR-335-3p</td><td style = \"text-align: right;\">1.0</td><td style = \"text-align: right;\">0.0</td></tr><tr><td style = \"text-align: right;\">&vellip;</td><td style = \"text-align: right;\">&vellip;</td><td style = \"text-align: right;\">&vellip;</td><td style = \"text-align: right;\">&vellip;</td><td style = \"text-align: right;\">&vellip;</td></tr><tr><td class = \"rowNumber\" style = \"font-weight: bold; text-align: right;\">28312</td><td style = \"text-align: left;\">hsa-miR-454-3p</td><td style = \"text-align: left;\">hsa-miR-3688-1-3p</td><td style = \"text-align: right;\">0.849358</td><td style = \"text-align: right;\">0.0499582</td></tr><tr><td class = \"rowNumber\" style = \"font-weight: bold; text-align: right;\">28313</td><td style = \"text-align: left;\">hsa-miR-3960-3p</td><td style = \"text-align: left;\">hsa-miR-551b-3p</td><td style = \"text-align: right;\">0.849358</td><td style = \"text-align: right;\">0.0499618</td></tr><tr><td class = \"rowNumber\" style = \"font-weight: bold; text-align: right;\">28314</td><td style = \"text-align: left;\">hsa-miR-16-1-5p</td><td style = \"text-align: left;\">hsa-miR-4437-3p</td><td style = \"text-align: right;\">0.849352</td><td style = \"text-align: right;\">0.0499654</td></tr><tr><td class = \"rowNumber\" style = \"font-weight: bold; text-align: right;\">28315</td><td style = \"text-align: left;\">hsa-miR-1180-3p</td><td style = \"text-align: left;\">hsa-miR-3181-5p</td><td style = \"text-align: right;\">0.849348</td><td style = \"text-align: right;\">0.0499689</td></tr><tr><td class = \"rowNumber\" style = \"font-weight: bold; text-align: right;\">28316</td><td style = \"text-align: left;\">hsa-miR-92a-2-3p</td><td style = \"text-align: left;\">hsa-miR-548o-2-3p</td><td style = \"text-align: right;\">0.849322</td><td style = \"text-align: right;\">0.0499725</td></tr><tr><td class = \"rowNumber\" style = \"font-weight: bold; text-align: right;\">28317</td><td style = \"text-align: left;\">hsa-miR-27b-3p</td><td style = \"text-align: left;\">hsa-miR-642a-5p</td><td style = \"text-align: right;\">0.849285</td><td style = \"text-align: right;\">0.049976</td></tr><tr><td class = \"rowNumber\" style = \"font-weight: bold; text-align: right;\">28318</td><td style = \"text-align: left;\">hsa-miR-1303-5p</td><td style = \"text-align: left;\">hsa-miR-92a-2-3p</td><td style = \"text-align: right;\">0.849272</td><td style = \"text-align: right;\">0.0499796</td></tr><tr><td class = \"rowNumber\" style = \"font-weight: bold; text-align: right;\">28319</td><td style = \"text-align: left;\">hsa-miR-191-5p</td><td style = \"text-align: left;\">hsa-miR-320c-2-3p</td><td style = \"text-align: right;\">0.84927</td><td style = \"text-align: right;\">0.0499831</td></tr><tr><td class = \"rowNumber\" style = \"font-weight: bold; text-align: right;\">28320</td><td style = \"text-align: left;\">hsa-miR-142-3p</td><td style = \"text-align: left;\">hsa-miR-365a-5p</td><td style = \"text-align: right;\">0.849264</td><td style = \"text-align: right;\">0.0499867</td></tr><tr><td class = \"rowNumber\" style = \"font-weight: bold; text-align: right;\">28321</td><td style = \"text-align: left;\">hsa-miR-374a-3p</td><td style = \"text-align: left;\">hsa-miR-20a-5p</td><td style = \"text-align: right;\">0.849261</td><td style = \"text-align: right;\">0.0499903</td></tr><tr><td class = \"rowNumber\" style = \"font-weight: bold; text-align: right;\">28322</td><td style = \"text-align: left;\">hsa-miR-98-3p</td><td style = \"text-align: left;\">hsa-miR-548k-5p</td><td style = \"text-align: right;\">0.849259</td><td style = \"text-align: right;\">0.0499938</td></tr><tr><td class = \"rowNumber\" style = \"font-weight: bold; text-align: right;\">28323</td><td style = \"text-align: left;\">hsa-miR-28-5p</td><td style = \"text-align: left;\">hsa-miR-181d-5p</td><td style = \"text-align: right;\">0.849217</td><td style = \"text-align: right;\">0.0499974</td></tr></tbody></table></div>"
      ],
      "text/latex": [
       "\\begin{tabular}{r|cccc}\n",
       "\t& Source & Target & Probability & qvalue\\\\\n",
       "\t\\hline\n",
       "\t& String & String & Float64 & Float64\\\\\n",
       "\t\\hline\n",
       "\t1 & hsa-miR-574-3p & hsa-miR-574-5p & 1.0 & 0.0 \\\\\n",
       "\t2 & hsa-miR-4482-1-3p & hsa-miR-1304-3p & 1.0 & 0.0 \\\\\n",
       "\t3 & hsa-miR-3667-5p & hsa-miR-3667-3p & 1.0 & 0.0 \\\\\n",
       "\t4 & hsa-miR-550a-2-5p & hsa-miR-550a-2-3p & 1.0 & 0.0 \\\\\n",
       "\t5 & hsa-miR-550a-2-5p & hsa-miR-550a-3-5p & 1.0 & 0.0 \\\\\n",
       "\t6 & hsa-miR-3130-2-5p & hsa-miR-3130-1-5p & 1.0 & 0.0 \\\\\n",
       "\t7 & hsa-let-7b-5p & hsa-let-7b-3p & 1.0 & 0.0 \\\\\n",
       "\t8 & hsa-miR-96-5p & hsa-miR-182-5p & 1.0 & 0.0 \\\\\n",
       "\t9 & hsa-miR-96-5p & hsa-miR-1271-5p & 1.0 & 0.0 \\\\\n",
       "\t10 & hsa-miR-3667-3p & hsa-miR-3667-5p & 1.0 & 0.0 \\\\\n",
       "\t11 & hsa-miR-181c-5p & hsa-miR-181c-3p & 1.0 & 0.0 \\\\\n",
       "\t12 & hsa-miR-181c-5p & hsa-miR-181d-5p & 1.0 & 0.0 \\\\\n",
       "\t13 & hsa-miR-335-5p & hsa-miR-335-3p & 1.0 & 0.0 \\\\\n",
       "\t14 & hsa-miR-30a-5p & hsa-miR-30a-3p & 1.0 & 0.0 \\\\\n",
       "\t15 & hsa-miR-193b-3p & hsa-miR-365a-3p & 1.0 & 0.0 \\\\\n",
       "\t16 & hsa-miR-183-5p & hsa-miR-501-3p & 1.0 & 0.0 \\\\\n",
       "\t17 & hsa-miR-182-5p & hsa-miR-96-5p & 1.0 & 0.0 \\\\\n",
       "\t18 & hsa-miR-574-5p & hsa-miR-574-3p & 1.0 & 0.0 \\\\\n",
       "\t19 & hsa-miR-339-5p & hsa-miR-339-3p & 1.0 & 0.0 \\\\\n",
       "\t20 & hsa-miR-3130-1-5p & hsa-miR-3130-2-5p & 1.0 & 0.0 \\\\\n",
       "\t21 & hsa-miR-30a-3p & hsa-miR-30a-5p & 1.0 & 0.0 \\\\\n",
       "\t22 & hsa-miR-1304-3p & hsa-miR-4482-1-3p & 1.0 & 0.0 \\\\\n",
       "\t23 & hsa-miR-550a-2-3p & hsa-miR-550a-2-5p & 1.0 & 0.0 \\\\\n",
       "\t24 & hsa-miR-550a-2-3p & hsa-miR-550a-3-5p & 1.0 & 0.0 \\\\\n",
       "\t25 & hsa-miR-335-3p & hsa-miR-335-5p & 1.0 & 0.0 \\\\\n",
       "\t26 & hsa-let-7a-1-5p & hsa-let-7d-5p & 1.0 & 0.0 \\\\\n",
       "\t27 & hsa-let-7a-1-5p & hsa-let-7f-1-5p & 1.0 & 0.0 \\\\\n",
       "\t28 & hsa-let-7a-1-5p & hsa-let-7f-2-5p & 1.0 & 0.0 \\\\\n",
       "\t29 & hsa-let-7a-1-5p & hsa-let-7g-5p & 1.0 & 0.0 \\\\\n",
       "\t30 & hsa-let-7a-1-5p & hsa-miR-98-5p & 1.0 & 0.0 \\\\\n",
       "\t$\\dots$ & $\\dots$ & $\\dots$ & $\\dots$ & $\\dots$ \\\\\n",
       "\\end{tabular}\n"
      ],
      "text/plain": [
       "\u001b[1m28323×4 DataFrame\u001b[0m\n",
       "\u001b[1m   Row \u001b[0m│\u001b[1m Source            \u001b[0m\u001b[1m Target            \u001b[0m\u001b[1m Probability \u001b[0m\u001b[1m qvalue    \u001b[0m\n",
       "       │\u001b[90m String            \u001b[0m\u001b[90m String            \u001b[0m\u001b[90m Float64     \u001b[0m\u001b[90m Float64   \u001b[0m\n",
       "───────┼──────────────────────────────────────────────────────────────\n",
       "     1 │ hsa-miR-574-3p     hsa-miR-574-5p        1.0       0.0\n",
       "     2 │ hsa-miR-4482-1-3p  hsa-miR-1304-3p       1.0       0.0\n",
       "     3 │ hsa-miR-3667-5p    hsa-miR-3667-3p       1.0       0.0\n",
       "     4 │ hsa-miR-550a-2-5p  hsa-miR-550a-2-3p     1.0       0.0\n",
       "     5 │ hsa-miR-550a-2-5p  hsa-miR-550a-3-5p     1.0       0.0\n",
       "     6 │ hsa-miR-3130-2-5p  hsa-miR-3130-1-5p     1.0       0.0\n",
       "     7 │ hsa-let-7b-5p      hsa-let-7b-3p         1.0       0.0\n",
       "     8 │ hsa-miR-96-5p      hsa-miR-182-5p        1.0       0.0\n",
       "     9 │ hsa-miR-96-5p      hsa-miR-1271-5p       1.0       0.0\n",
       "    10 │ hsa-miR-3667-3p    hsa-miR-3667-5p       1.0       0.0\n",
       "    11 │ hsa-miR-181c-5p    hsa-miR-181c-3p       1.0       0.0\n",
       "   ⋮   │         ⋮                  ⋮               ⋮           ⋮\n",
       " 28314 │ hsa-miR-16-1-5p    hsa-miR-4437-3p       0.849352  0.0499654\n",
       " 28315 │ hsa-miR-1180-3p    hsa-miR-3181-5p       0.849348  0.0499689\n",
       " 28316 │ hsa-miR-92a-2-3p   hsa-miR-548o-2-3p     0.849322  0.0499725\n",
       " 28317 │ hsa-miR-27b-3p     hsa-miR-642a-5p       0.849285  0.049976\n",
       " 28318 │ hsa-miR-1303-5p    hsa-miR-92a-2-3p      0.849272  0.0499796\n",
       " 28319 │ hsa-miR-191-5p     hsa-miR-320c-2-3p     0.84927   0.0499831\n",
       " 28320 │ hsa-miR-142-3p     hsa-miR-365a-5p       0.849264  0.0499867\n",
       " 28321 │ hsa-miR-374a-3p    hsa-miR-20a-5p        0.849261  0.0499903\n",
       " 28322 │ hsa-miR-98-3p      hsa-miR-548k-5p       0.849259  0.0499938\n",
       " 28323 │ hsa-miR-28-5p      hsa-miR-181d-5p       0.849217  0.0499974\n",
       "\u001b[36m                                                    28302 rows omitted\u001b[0m"
      ]
     },
     "execution_count": 6,
     "metadata": {},
     "output_type": "execute_result"
    }
   ],
   "source": [
    "dP_mir_all = findr(dm, FDR=0.05)"
   ]
  },
  {
   "cell_type": "markdown",
   "id": "11465886",
   "metadata": {},
   "source": [
    "Findr computes a [posterior probability](https://tmichoel.github.io/Findr.jl/dev/posteriorprobs/) of non-zero correlation for every **Source** and **Target** gene pair. By default the output is sorted by decreasing **Probability** and self-interactions are excluded. The optional parameter **FDR** can be used to limit the output to the set of pairs that has a [global false discovery rate (FDR)](https://en.wikipedia.org/wiki/False_discovery_rate#Storey-Tibshirani_procedure) less than a desired value. The **qvalue** column in the output can be used for further filtering of the output. Say you ran findr with an FRD threshold of 5% as above. If you now want to restrict the output to an FDR threshold of 1%, you can do:\n"
   ]
  },
  {
   "cell_type": "code",
   "execution_count": 6,
   "id": "dc32e931",
   "metadata": {},
   "outputs": [
    {
     "data": {
      "text/html": [
       "<div><div style = \"float: left;\"><span>14479×4 DataFrame</span></div><div style = \"float: right;\"><span style = \"font-style: italic;\">14454 rows omitted</span></div><div style = \"clear: both;\"></div></div><div class = \"data-frame\" style = \"overflow-x: scroll;\"><table class = \"data-frame\" style = \"margin-bottom: 6px;\"><thead><tr class = \"header\"><th class = \"rowNumber\" style = \"font-weight: bold; text-align: right;\">Row</th><th style = \"text-align: left;\">Source</th><th style = \"text-align: left;\">Target</th><th style = \"text-align: left;\">Probability</th><th style = \"text-align: left;\">qvalue</th></tr><tr class = \"subheader headerLastRow\"><th class = \"rowNumber\" style = \"font-weight: bold; text-align: right;\"></th><th title = \"String\" style = \"text-align: left;\">String</th><th title = \"String\" style = \"text-align: left;\">String</th><th title = \"Float64\" style = \"text-align: left;\">Float64</th><th title = \"Float64\" style = \"text-align: left;\">Float64</th></tr></thead><tbody><tr><td class = \"rowNumber\" style = \"font-weight: bold; text-align: right;\">1</td><td style = \"text-align: left;\">hsa-miR-574-3p</td><td style = \"text-align: left;\">hsa-miR-574-5p</td><td style = \"text-align: right;\">1.0</td><td style = \"text-align: right;\">0.0</td></tr><tr><td class = \"rowNumber\" style = \"font-weight: bold; text-align: right;\">2</td><td style = \"text-align: left;\">hsa-miR-4482-1-3p</td><td style = \"text-align: left;\">hsa-miR-1304-3p</td><td style = \"text-align: right;\">1.0</td><td style = \"text-align: right;\">0.0</td></tr><tr><td class = \"rowNumber\" style = \"font-weight: bold; text-align: right;\">3</td><td style = \"text-align: left;\">hsa-miR-3667-5p</td><td style = \"text-align: left;\">hsa-miR-3667-3p</td><td style = \"text-align: right;\">1.0</td><td style = \"text-align: right;\">0.0</td></tr><tr><td class = \"rowNumber\" style = \"font-weight: bold; text-align: right;\">4</td><td style = \"text-align: left;\">hsa-miR-550a-2-5p</td><td style = \"text-align: left;\">hsa-miR-550a-2-3p</td><td style = \"text-align: right;\">1.0</td><td style = \"text-align: right;\">0.0</td></tr><tr><td class = \"rowNumber\" style = \"font-weight: bold; text-align: right;\">5</td><td style = \"text-align: left;\">hsa-miR-550a-2-5p</td><td style = \"text-align: left;\">hsa-miR-550a-3-5p</td><td style = \"text-align: right;\">1.0</td><td style = \"text-align: right;\">0.0</td></tr><tr><td class = \"rowNumber\" style = \"font-weight: bold; text-align: right;\">6</td><td style = \"text-align: left;\">hsa-miR-3130-2-5p</td><td style = \"text-align: left;\">hsa-miR-3130-1-5p</td><td style = \"text-align: right;\">1.0</td><td style = \"text-align: right;\">0.0</td></tr><tr><td class = \"rowNumber\" style = \"font-weight: bold; text-align: right;\">7</td><td style = \"text-align: left;\">hsa-let-7b-5p</td><td style = \"text-align: left;\">hsa-let-7b-3p</td><td style = \"text-align: right;\">1.0</td><td style = \"text-align: right;\">0.0</td></tr><tr><td class = \"rowNumber\" style = \"font-weight: bold; text-align: right;\">8</td><td style = \"text-align: left;\">hsa-miR-96-5p</td><td style = \"text-align: left;\">hsa-miR-182-5p</td><td style = \"text-align: right;\">1.0</td><td style = \"text-align: right;\">0.0</td></tr><tr><td class = \"rowNumber\" style = \"font-weight: bold; text-align: right;\">9</td><td style = \"text-align: left;\">hsa-miR-96-5p</td><td style = \"text-align: left;\">hsa-miR-1271-5p</td><td style = \"text-align: right;\">1.0</td><td style = \"text-align: right;\">0.0</td></tr><tr><td class = \"rowNumber\" style = \"font-weight: bold; text-align: right;\">10</td><td style = \"text-align: left;\">hsa-miR-3667-3p</td><td style = \"text-align: left;\">hsa-miR-3667-5p</td><td style = \"text-align: right;\">1.0</td><td style = \"text-align: right;\">0.0</td></tr><tr><td class = \"rowNumber\" style = \"font-weight: bold; text-align: right;\">11</td><td style = \"text-align: left;\">hsa-miR-181c-5p</td><td style = \"text-align: left;\">hsa-miR-181c-3p</td><td style = \"text-align: right;\">1.0</td><td style = \"text-align: right;\">0.0</td></tr><tr><td class = \"rowNumber\" style = \"font-weight: bold; text-align: right;\">12</td><td style = \"text-align: left;\">hsa-miR-181c-5p</td><td style = \"text-align: left;\">hsa-miR-181d-5p</td><td style = \"text-align: right;\">1.0</td><td style = \"text-align: right;\">0.0</td></tr><tr><td class = \"rowNumber\" style = \"font-weight: bold; text-align: right;\">13</td><td style = \"text-align: left;\">hsa-miR-335-5p</td><td style = \"text-align: left;\">hsa-miR-335-3p</td><td style = \"text-align: right;\">1.0</td><td style = \"text-align: right;\">0.0</td></tr><tr><td style = \"text-align: right;\">&vellip;</td><td style = \"text-align: right;\">&vellip;</td><td style = \"text-align: right;\">&vellip;</td><td style = \"text-align: right;\">&vellip;</td><td style = \"text-align: right;\">&vellip;</td></tr><tr><td class = \"rowNumber\" style = \"font-weight: bold; text-align: right;\">14468</td><td style = \"text-align: left;\">hsa-miR-18a-3p</td><td style = \"text-align: left;\">hsa-miR-23a-5p</td><td style = \"text-align: right;\">0.961873</td><td style = \"text-align: right;\">0.00997817</td></tr><tr><td class = \"rowNumber\" style = \"font-weight: bold; text-align: right;\">14469</td><td style = \"text-align: left;\">hsa-miR-181a-1-3p</td><td style = \"text-align: left;\">hsa-miR-192-3p</td><td style = \"text-align: right;\">0.961868</td><td style = \"text-align: right;\">0.00998012</td></tr><tr><td class = \"rowNumber\" style = \"font-weight: bold; text-align: right;\">14470</td><td style = \"text-align: left;\">hsa-miR-324-5p</td><td style = \"text-align: left;\">hsa-miR-362-5p</td><td style = \"text-align: right;\">0.961868</td><td style = \"text-align: right;\">0.00998207</td></tr><tr><td class = \"rowNumber\" style = \"font-weight: bold; text-align: right;\">14471</td><td style = \"text-align: left;\">hsa-miR-138-1-3p</td><td style = \"text-align: left;\">hsa-miR-30c-1-5p</td><td style = \"text-align: right;\">0.961849</td><td style = \"text-align: right;\">0.00998401</td></tr><tr><td class = \"rowNumber\" style = \"font-weight: bold; text-align: right;\">14472</td><td style = \"text-align: left;\">hsa-miR-598-3p</td><td style = \"text-align: left;\">hsa-miR-22-3p</td><td style = \"text-align: right;\">0.96184</td><td style = \"text-align: right;\">0.00998596</td></tr><tr><td class = \"rowNumber\" style = \"font-weight: bold; text-align: right;\">14473</td><td style = \"text-align: left;\">hsa-miR-148b-3p</td><td style = \"text-align: left;\">hsa-miR-3136-5p</td><td style = \"text-align: right;\">0.961824</td><td style = \"text-align: right;\">0.00998791</td></tr><tr><td class = \"rowNumber\" style = \"font-weight: bold; text-align: right;\">14474</td><td style = \"text-align: left;\">hsa-miR-19a-5p</td><td style = \"text-align: left;\">hsa-miR-92a-1-5p</td><td style = \"text-align: right;\">0.961823</td><td style = \"text-align: right;\">0.00998985</td></tr><tr><td class = \"rowNumber\" style = \"font-weight: bold; text-align: right;\">14475</td><td style = \"text-align: left;\">hsa-miR-142-3p</td><td style = \"text-align: left;\">hsa-miR-4645-3p</td><td style = \"text-align: right;\">0.96181</td><td style = \"text-align: right;\">0.0099918</td></tr><tr><td class = \"rowNumber\" style = \"font-weight: bold; text-align: right;\">14476</td><td style = \"text-align: left;\">hsa-miR-197-3p</td><td style = \"text-align: left;\">hsa-let-7f-1-5p</td><td style = \"text-align: right;\">0.961799</td><td style = \"text-align: right;\">0.00999375</td></tr><tr><td class = \"rowNumber\" style = \"font-weight: bold; text-align: right;\">14477</td><td style = \"text-align: left;\">hsa-miR-125a-5p</td><td style = \"text-align: left;\">hsa-miR-10a-5p</td><td style = \"text-align: right;\">0.961778</td><td style = \"text-align: right;\">0.0099957</td></tr><tr><td class = \"rowNumber\" style = \"font-weight: bold; text-align: right;\">14478</td><td style = \"text-align: left;\">hsa-miR-29c-3p</td><td style = \"text-align: left;\">hsa-miR-548au-5p</td><td style = \"text-align: right;\">0.961769</td><td style = \"text-align: right;\">0.00999765</td></tr><tr><td class = \"rowNumber\" style = \"font-weight: bold; text-align: right;\">14479</td><td style = \"text-align: left;\">hsa-miR-619-5p</td><td style = \"text-align: left;\">hsa-miR-1307-3p</td><td style = \"text-align: right;\">0.961766</td><td style = \"text-align: right;\">0.0099996</td></tr></tbody></table></div>"
      ],
      "text/latex": [
       "\\begin{tabular}{r|cccc}\n",
       "\t& Source & Target & Probability & qvalue\\\\\n",
       "\t\\hline\n",
       "\t& String & String & Float64 & Float64\\\\\n",
       "\t\\hline\n",
       "\t1 & hsa-miR-574-3p & hsa-miR-574-5p & 1.0 & 0.0 \\\\\n",
       "\t2 & hsa-miR-4482-1-3p & hsa-miR-1304-3p & 1.0 & 0.0 \\\\\n",
       "\t3 & hsa-miR-3667-5p & hsa-miR-3667-3p & 1.0 & 0.0 \\\\\n",
       "\t4 & hsa-miR-550a-2-5p & hsa-miR-550a-2-3p & 1.0 & 0.0 \\\\\n",
       "\t5 & hsa-miR-550a-2-5p & hsa-miR-550a-3-5p & 1.0 & 0.0 \\\\\n",
       "\t6 & hsa-miR-3130-2-5p & hsa-miR-3130-1-5p & 1.0 & 0.0 \\\\\n",
       "\t7 & hsa-let-7b-5p & hsa-let-7b-3p & 1.0 & 0.0 \\\\\n",
       "\t8 & hsa-miR-96-5p & hsa-miR-182-5p & 1.0 & 0.0 \\\\\n",
       "\t9 & hsa-miR-96-5p & hsa-miR-1271-5p & 1.0 & 0.0 \\\\\n",
       "\t10 & hsa-miR-3667-3p & hsa-miR-3667-5p & 1.0 & 0.0 \\\\\n",
       "\t11 & hsa-miR-181c-5p & hsa-miR-181c-3p & 1.0 & 0.0 \\\\\n",
       "\t12 & hsa-miR-181c-5p & hsa-miR-181d-5p & 1.0 & 0.0 \\\\\n",
       "\t13 & hsa-miR-335-5p & hsa-miR-335-3p & 1.0 & 0.0 \\\\\n",
       "\t14 & hsa-miR-30a-5p & hsa-miR-30a-3p & 1.0 & 0.0 \\\\\n",
       "\t15 & hsa-miR-193b-3p & hsa-miR-365a-3p & 1.0 & 0.0 \\\\\n",
       "\t16 & hsa-miR-183-5p & hsa-miR-501-3p & 1.0 & 0.0 \\\\\n",
       "\t17 & hsa-miR-182-5p & hsa-miR-96-5p & 1.0 & 0.0 \\\\\n",
       "\t18 & hsa-miR-574-5p & hsa-miR-574-3p & 1.0 & 0.0 \\\\\n",
       "\t19 & hsa-miR-339-5p & hsa-miR-339-3p & 1.0 & 0.0 \\\\\n",
       "\t20 & hsa-miR-3130-1-5p & hsa-miR-3130-2-5p & 1.0 & 0.0 \\\\\n",
       "\t21 & hsa-miR-30a-3p & hsa-miR-30a-5p & 1.0 & 0.0 \\\\\n",
       "\t22 & hsa-miR-1304-3p & hsa-miR-4482-1-3p & 1.0 & 0.0 \\\\\n",
       "\t23 & hsa-miR-550a-2-3p & hsa-miR-550a-2-5p & 1.0 & 0.0 \\\\\n",
       "\t24 & hsa-miR-550a-2-3p & hsa-miR-550a-3-5p & 1.0 & 0.0 \\\\\n",
       "\t25 & hsa-miR-335-3p & hsa-miR-335-5p & 1.0 & 0.0 \\\\\n",
       "\t26 & hsa-let-7a-1-5p & hsa-let-7d-5p & 1.0 & 0.0 \\\\\n",
       "\t27 & hsa-let-7a-1-5p & hsa-let-7f-1-5p & 1.0 & 0.0 \\\\\n",
       "\t28 & hsa-let-7a-1-5p & hsa-let-7f-2-5p & 1.0 & 0.0 \\\\\n",
       "\t29 & hsa-let-7a-1-5p & hsa-let-7g-5p & 1.0 & 0.0 \\\\\n",
       "\t30 & hsa-let-7a-1-5p & hsa-miR-98-5p & 1.0 & 0.0 \\\\\n",
       "\t$\\dots$ & $\\dots$ & $\\dots$ & $\\dots$ & $\\dots$ \\\\\n",
       "\\end{tabular}\n"
      ],
      "text/plain": [
       "\u001b[1m14479×4 DataFrame\u001b[0m\n",
       "\u001b[1m   Row \u001b[0m│\u001b[1m Source            \u001b[0m\u001b[1m Target            \u001b[0m\u001b[1m Probability \u001b[0m\u001b[1m qvalue     \u001b[0m\n",
       "       │\u001b[90m String            \u001b[0m\u001b[90m String            \u001b[0m\u001b[90m Float64     \u001b[0m\u001b[90m Float64    \u001b[0m\n",
       "───────┼───────────────────────────────────────────────────────────────\n",
       "     1 │ hsa-miR-574-3p     hsa-miR-574-5p        1.0       0.0\n",
       "     2 │ hsa-miR-4482-1-3p  hsa-miR-1304-3p       1.0       0.0\n",
       "     3 │ hsa-miR-3667-5p    hsa-miR-3667-3p       1.0       0.0\n",
       "     4 │ hsa-miR-550a-2-5p  hsa-miR-550a-2-3p     1.0       0.0\n",
       "     5 │ hsa-miR-550a-2-5p  hsa-miR-550a-3-5p     1.0       0.0\n",
       "     6 │ hsa-miR-3130-2-5p  hsa-miR-3130-1-5p     1.0       0.0\n",
       "     7 │ hsa-let-7b-5p      hsa-let-7b-3p         1.0       0.0\n",
       "     8 │ hsa-miR-96-5p      hsa-miR-182-5p        1.0       0.0\n",
       "     9 │ hsa-miR-96-5p      hsa-miR-1271-5p       1.0       0.0\n",
       "    10 │ hsa-miR-3667-3p    hsa-miR-3667-5p       1.0       0.0\n",
       "    11 │ hsa-miR-181c-5p    hsa-miR-181c-3p       1.0       0.0\n",
       "   ⋮   │         ⋮                  ⋮               ⋮           ⋮\n",
       " 14470 │ hsa-miR-324-5p     hsa-miR-362-5p        0.961868  0.00998207\n",
       " 14471 │ hsa-miR-138-1-3p   hsa-miR-30c-1-5p      0.961849  0.00998401\n",
       " 14472 │ hsa-miR-598-3p     hsa-miR-22-3p         0.96184   0.00998596\n",
       " 14473 │ hsa-miR-148b-3p    hsa-miR-3136-5p       0.961824  0.00998791\n",
       " 14474 │ hsa-miR-19a-5p     hsa-miR-92a-1-5p      0.961823  0.00998985\n",
       " 14475 │ hsa-miR-142-3p     hsa-miR-4645-3p       0.96181   0.0099918\n",
       " 14476 │ hsa-miR-197-3p     hsa-let-7f-1-5p       0.961799  0.00999375\n",
       " 14477 │ hsa-miR-125a-5p    hsa-miR-10a-5p        0.961778  0.0099957\n",
       " 14478 │ hsa-miR-29c-3p     hsa-miR-548au-5p      0.961769  0.00999765\n",
       " 14479 │ hsa-miR-619-5p     hsa-miR-1307-3p       0.961766  0.0099996\n",
       "\u001b[36m                                                     14458 rows omitted\u001b[0m"
      ]
     },
     "execution_count": 7,
     "metadata": {},
     "output_type": "execute_result"
    }
   ],
   "source": [
    "filter!(row -> row.qvalue <= 0.01, dP_mir_all)"
   ]
  },
  {
   "cell_type": "markdown",
   "id": "45f1fa57",
   "metadata": {},
   "source": [
    "Note that the [`filter!`](https://dataframes.juliadata.org/stable/lib/functions/#Base.filter!) command modifies the input DataFrame in-place, that is, the rows not matching the selection criteria are deleted. Use [`filter`](https://dataframes.juliadata.org/stable/lib/functions/#Base.filter) to return a new DataFrame with the selected rows.\n",
    "\n",
    "Finally, remember that the output of coexpression analysis in Findr is *not* symmetric, that is\n",
    "\n",
    "$$\n",
    "P(Source, Target) \\neq P(Target, Source)\n",
    "$$\n",
    "\n",
    "This is because the posterior probabilities are estimated using a Source-specific background distribution, accounting for the fact that different genes may have a different number of non-null interaction partners *a priori*. See the [Findr paper][5] for details.\n",
    "\n",
    "### Bipartite coexpression analysis\n",
    "\n",
    "Since Findr's posterior probabilities are Source gene-specific, we may be interested in computing probabilities only for a subset of Source genes, or using different Source and Target gene sets. \n",
    "\n",
    "As an example of the first scenario, assume we are interested in finding microRNAs that are significantly correlated with microRNAs from the [Mir-200 family](https://en.wikipedia.org/wiki/Mir-200). First find the Mir-200 microRNAs:\n"
   ]
  },
  {
   "cell_type": "code",
   "execution_count": 7,
   "id": "b179973a",
   "metadata": {},
   "outputs": [
    {
     "data": {
      "text/plain": [
       "3-element Vector{String}:\n",
       " \"hsa-miR-200b-3p\"\n",
       " \"hsa-miR-200a-3p\"\n",
       " \"hsa-miR-200c-3p\""
      ]
     },
     "execution_count": 8,
     "metadata": {},
     "output_type": "execute_result"
    }
   ],
   "source": [
    "mir200 = names(dm)[startswith.(names(dm),\"hsa-miR-200\")]"
   ]
  },
  {
   "cell_type": "markdown",
   "id": "d030a2e0",
   "metadata": {},
   "source": [
    "Then run\n"
   ]
  },
  {
   "cell_type": "code",
   "execution_count": 8,
   "id": "575af30b",
   "metadata": {},
   "outputs": [
    {
     "data": {
      "text/html": [
       "<div><div style = \"float: left;\"><span>47×4 DataFrame</span></div><div style = \"float: right;\"><span style = \"font-style: italic;\">22 rows omitted</span></div><div style = \"clear: both;\"></div></div><div class = \"data-frame\" style = \"overflow-x: scroll;\"><table class = \"data-frame\" style = \"margin-bottom: 6px;\"><thead><tr class = \"header\"><th class = \"rowNumber\" style = \"font-weight: bold; text-align: right;\">Row</th><th style = \"text-align: left;\">Source</th><th style = \"text-align: left;\">Target</th><th style = \"text-align: left;\">Probability</th><th style = \"text-align: left;\">qvalue</th></tr><tr class = \"subheader headerLastRow\"><th class = \"rowNumber\" style = \"font-weight: bold; text-align: right;\"></th><th title = \"String\" style = \"text-align: left;\">String</th><th title = \"String\" style = \"text-align: left;\">String</th><th title = \"Float64\" style = \"text-align: left;\">Float64</th><th title = \"Float64\" style = \"text-align: left;\">Float64</th></tr></thead><tbody><tr><td class = \"rowNumber\" style = \"font-weight: bold; text-align: right;\">1</td><td style = \"text-align: left;\">hsa-miR-200b-3p</td><td style = \"text-align: left;\">hsa-miR-200a-3p</td><td style = \"text-align: right;\">1.0</td><td style = \"text-align: right;\">2.76053e-9</td></tr><tr><td class = \"rowNumber\" style = \"font-weight: bold; text-align: right;\">2</td><td style = \"text-align: left;\">hsa-miR-200a-3p</td><td style = \"text-align: left;\">hsa-miR-200b-3p</td><td style = \"text-align: right;\">1.0</td><td style = \"text-align: right;\">2.80845e-9</td></tr><tr><td class = \"rowNumber\" style = \"font-weight: bold; text-align: right;\">3</td><td style = \"text-align: left;\">hsa-miR-200c-3p</td><td style = \"text-align: left;\">hsa-miR-93-5p</td><td style = \"text-align: right;\">0.999998</td><td style = \"text-align: right;\">6.30622e-7</td></tr><tr><td class = \"rowNumber\" style = \"font-weight: bold; text-align: right;\">4</td><td style = \"text-align: left;\">hsa-miR-200c-3p</td><td style = \"text-align: left;\">hsa-miR-140-3p</td><td style = \"text-align: right;\">0.999983</td><td style = \"text-align: right;\">4.80667e-6</td></tr><tr><td class = \"rowNumber\" style = \"font-weight: bold; text-align: right;\">5</td><td style = \"text-align: left;\">hsa-miR-200b-3p</td><td style = \"text-align: left;\">hsa-miR-429-3p</td><td style = \"text-align: right;\">0.999907</td><td style = \"text-align: right;\">2.25115e-5</td></tr><tr><td class = \"rowNumber\" style = \"font-weight: bold; text-align: right;\">6</td><td style = \"text-align: left;\">hsa-miR-200c-3p</td><td style = \"text-align: left;\">hsa-miR-16-1-5p</td><td style = \"text-align: right;\">0.999782</td><td style = \"text-align: right;\">5.5108e-5</td></tr><tr><td class = \"rowNumber\" style = \"font-weight: bold; text-align: right;\">7</td><td style = \"text-align: left;\">hsa-miR-200c-3p</td><td style = \"text-align: left;\">hsa-miR-664-3p</td><td style = \"text-align: right;\">0.999774</td><td style = \"text-align: right;\">7.95436e-5</td></tr><tr><td class = \"rowNumber\" style = \"font-weight: bold; text-align: right;\">8</td><td style = \"text-align: left;\">hsa-miR-200c-3p</td><td style = \"text-align: left;\">hsa-miR-17-5p</td><td style = \"text-align: right;\">0.999627</td><td style = \"text-align: right;\">0.000116234</td></tr><tr><td class = \"rowNumber\" style = \"font-weight: bold; text-align: right;\">9</td><td style = \"text-align: left;\">hsa-miR-200c-3p</td><td style = \"text-align: left;\">hsa-miR-769-5p</td><td style = \"text-align: right;\">0.999219</td><td style = \"text-align: right;\">0.000190152</td></tr><tr><td class = \"rowNumber\" style = \"font-weight: bold; text-align: right;\">10</td><td style = \"text-align: left;\">hsa-miR-200b-3p</td><td style = \"text-align: left;\">hsa-miR-582-3p</td><td style = \"text-align: right;\">0.999196</td><td style = \"text-align: right;\">0.000251556</td></tr><tr><td class = \"rowNumber\" style = \"font-weight: bold; text-align: right;\">11</td><td style = \"text-align: left;\">hsa-miR-200c-3p</td><td style = \"text-align: left;\">hsa-miR-130b-5p</td><td style = \"text-align: right;\">0.999114</td><td style = \"text-align: right;\">0.000309265</td></tr><tr><td class = \"rowNumber\" style = \"font-weight: bold; text-align: right;\">12</td><td style = \"text-align: left;\">hsa-miR-200c-3p</td><td style = \"text-align: left;\">hsa-miR-425-5p</td><td style = \"text-align: right;\">0.999025</td><td style = \"text-align: right;\">0.00036474</td></tr><tr><td class = \"rowNumber\" style = \"font-weight: bold; text-align: right;\">13</td><td style = \"text-align: left;\">hsa-miR-200c-3p</td><td style = \"text-align: left;\">hsa-miR-103a-2-3p</td><td style = \"text-align: right;\">0.998972</td><td style = \"text-align: right;\">0.000415735</td></tr><tr><td style = \"text-align: right;\">&vellip;</td><td style = \"text-align: right;\">&vellip;</td><td style = \"text-align: right;\">&vellip;</td><td style = \"text-align: right;\">&vellip;</td><td style = \"text-align: right;\">&vellip;</td></tr><tr><td class = \"rowNumber\" style = \"font-weight: bold; text-align: right;\">36</td><td style = \"text-align: left;\">hsa-miR-200b-3p</td><td style = \"text-align: left;\">hsa-miR-769-3p</td><td style = \"text-align: right;\">0.983903</td><td style = \"text-align: right;\">0.00641045</td></tr><tr><td class = \"rowNumber\" style = \"font-weight: bold; text-align: right;\">37</td><td style = \"text-align: left;\">hsa-miR-200c-3p</td><td style = \"text-align: left;\">hsa-miR-378a-3p</td><td style = \"text-align: right;\">0.983249</td><td style = \"text-align: right;\">0.00668992</td></tr><tr><td class = \"rowNumber\" style = \"font-weight: bold; text-align: right;\">38</td><td style = \"text-align: left;\">hsa-miR-200b-3p</td><td style = \"text-align: left;\">hsa-miR-26b-5p</td><td style = \"text-align: right;\">0.981344</td><td style = \"text-align: right;\">0.00700482</td></tr><tr><td class = \"rowNumber\" style = \"font-weight: bold; text-align: right;\">39</td><td style = \"text-align: left;\">hsa-miR-200c-3p</td><td style = \"text-align: left;\">hsa-miR-619-5p</td><td style = \"text-align: right;\">0.980996</td><td style = \"text-align: right;\">0.00731249</td></tr><tr><td class = \"rowNumber\" style = \"font-weight: bold; text-align: right;\">40</td><td style = \"text-align: left;\">hsa-miR-200c-3p</td><td style = \"text-align: left;\">hsa-miR-500a-5p</td><td style = \"text-align: right;\">0.979841</td><td style = \"text-align: right;\">0.00763364</td></tr><tr><td class = \"rowNumber\" style = \"font-weight: bold; text-align: right;\">41</td><td style = \"text-align: left;\">hsa-miR-200c-3p</td><td style = \"text-align: left;\">hsa-miR-4677-3p</td><td style = \"text-align: right;\">0.979659</td><td style = \"text-align: right;\">0.00794358</td></tr><tr><td class = \"rowNumber\" style = \"font-weight: bold; text-align: right;\">42</td><td style = \"text-align: left;\">hsa-miR-200b-3p</td><td style = \"text-align: left;\">hsa-miR-328-3p</td><td style = \"text-align: right;\">0.979322</td><td style = \"text-align: right;\">0.00824677</td></tr><tr><td class = \"rowNumber\" style = \"font-weight: bold; text-align: right;\">43</td><td style = \"text-align: left;\">hsa-miR-200b-3p</td><td style = \"text-align: left;\">hsa-miR-9-1-5p</td><td style = \"text-align: right;\">0.979034</td><td style = \"text-align: right;\">0.00854257</td></tr><tr><td class = \"rowNumber\" style = \"font-weight: bold; text-align: right;\">44</td><td style = \"text-align: left;\">hsa-miR-200c-3p</td><td style = \"text-align: left;\">hsa-miR-141-5p</td><td style = \"text-align: right;\">0.978564</td><td style = \"text-align: right;\">0.00883559</td></tr><tr><td class = \"rowNumber\" style = \"font-weight: bold; text-align: right;\">45</td><td style = \"text-align: left;\">hsa-miR-200c-3p</td><td style = \"text-align: left;\">hsa-miR-30e-3p</td><td style = \"text-align: right;\">0.97794</td><td style = \"text-align: right;\">0.00912946</td></tr><tr><td class = \"rowNumber\" style = \"font-weight: bold; text-align: right;\">46</td><td style = \"text-align: left;\">hsa-miR-200a-3p</td><td style = \"text-align: left;\">hsa-miR-26b-5p</td><td style = \"text-align: right;\">0.972919</td><td style = \"text-align: right;\">0.00951972</td></tr><tr><td class = \"rowNumber\" style = \"font-weight: bold; text-align: right;\">47</td><td style = \"text-align: left;\">hsa-miR-200b-3p</td><td style = \"text-align: left;\">hsa-miR-93-5p</td><td style = \"text-align: right;\">0.971509</td><td style = \"text-align: right;\">0.00992335</td></tr></tbody></table></div>"
      ],
      "text/latex": [
       "\\begin{tabular}{r|cccc}\n",
       "\t& Source & Target & Probability & qvalue\\\\\n",
       "\t\\hline\n",
       "\t& String & String & Float64 & Float64\\\\\n",
       "\t\\hline\n",
       "\t1 & hsa-miR-200b-3p & hsa-miR-200a-3p & 1.0 & 2.76053e-9 \\\\\n",
       "\t2 & hsa-miR-200a-3p & hsa-miR-200b-3p & 1.0 & 2.80845e-9 \\\\\n",
       "\t3 & hsa-miR-200c-3p & hsa-miR-93-5p & 0.999998 & 6.30622e-7 \\\\\n",
       "\t4 & hsa-miR-200c-3p & hsa-miR-140-3p & 0.999983 & 4.80667e-6 \\\\\n",
       "\t5 & hsa-miR-200b-3p & hsa-miR-429-3p & 0.999907 & 2.25115e-5 \\\\\n",
       "\t6 & hsa-miR-200c-3p & hsa-miR-16-1-5p & 0.999782 & 5.5108e-5 \\\\\n",
       "\t7 & hsa-miR-200c-3p & hsa-miR-664-3p & 0.999774 & 7.95436e-5 \\\\\n",
       "\t8 & hsa-miR-200c-3p & hsa-miR-17-5p & 0.999627 & 0.000116234 \\\\\n",
       "\t9 & hsa-miR-200c-3p & hsa-miR-769-5p & 0.999219 & 0.000190152 \\\\\n",
       "\t10 & hsa-miR-200b-3p & hsa-miR-582-3p & 0.999196 & 0.000251556 \\\\\n",
       "\t11 & hsa-miR-200c-3p & hsa-miR-130b-5p & 0.999114 & 0.000309265 \\\\\n",
       "\t12 & hsa-miR-200c-3p & hsa-miR-425-5p & 0.999025 & 0.00036474 \\\\\n",
       "\t13 & hsa-miR-200c-3p & hsa-miR-103a-2-3p & 0.998972 & 0.000415735 \\\\\n",
       "\t14 & hsa-miR-200c-3p & hsa-miR-106b-3p & 0.998894 & 0.000465044 \\\\\n",
       "\t15 & hsa-miR-200c-3p & hsa-miR-103a-1-3p & 0.998865 & 0.000509717 \\\\\n",
       "\t16 & hsa-miR-200c-3p & hsa-miR-93-3p & 0.998274 & 0.000585725 \\\\\n",
       "\t17 & hsa-miR-200c-3p & hsa-miR-1307-3p & 0.997774 & 0.000682187 \\\\\n",
       "\t18 & hsa-miR-200c-3p & hsa-miR-598-3p & 0.995714 & 0.000882417 \\\\\n",
       "\t19 & hsa-miR-200b-3p & hsa-miR-16-1-5p & 0.994084 & 0.00114735 \\\\\n",
       "\t20 & hsa-miR-200a-3p & hsa-miR-425-5p & 0.993686 & 0.00140568 \\\\\n",
       "\t21 & hsa-miR-200c-3p & hsa-miR-378a-5p & 0.992634 & 0.00168951 \\\\\n",
       "\t22 & hsa-miR-200b-3p & hsa-miR-425-3p & 0.992187 & 0.00196787 \\\\\n",
       "\t23 & hsa-miR-200a-3p & hsa-miR-429-3p & 0.989886 & 0.00232204 \\\\\n",
       "\t24 & hsa-miR-200c-3p & hsa-miR-3159-5p & 0.988612 & 0.00269976 \\\\\n",
       "\t25 & hsa-miR-200c-3p & hsa-miR-152-5p & 0.98858 & 0.00304856 \\\\\n",
       "\t26 & hsa-miR-200b-3p & hsa-miR-17-5p & 0.988532 & 0.00337241 \\\\\n",
       "\t27 & hsa-miR-200b-3p & hsa-miR-29a-3p & 0.988188 & 0.00368498 \\\\\n",
       "\t28 & hsa-miR-200c-3p & hsa-miR-3687-3p & 0.988184 & 0.00397537 \\\\\n",
       "\t29 & hsa-miR-200b-3p & hsa-miR-551b-3p & 0.986394 & 0.00430746 \\\\\n",
       "\t30 & hsa-miR-200a-3p & hsa-miR-3667-3p & 0.985589 & 0.00464426 \\\\\n",
       "\t$\\dots$ & $\\dots$ & $\\dots$ & $\\dots$ & $\\dots$ \\\\\n",
       "\\end{tabular}\n"
      ],
      "text/plain": [
       "\u001b[1m47×4 DataFrame\u001b[0m\n",
       "\u001b[1m Row \u001b[0m│\u001b[1m Source          \u001b[0m\u001b[1m Target            \u001b[0m\u001b[1m Probability \u001b[0m\u001b[1m qvalue      \u001b[0m\n",
       "     │\u001b[90m String          \u001b[0m\u001b[90m String            \u001b[0m\u001b[90m Float64     \u001b[0m\u001b[90m Float64     \u001b[0m\n",
       "─────┼──────────────────────────────────────────────────────────────\n",
       "   1 │ hsa-miR-200b-3p  hsa-miR-200a-3p       1.0       2.76053e-9\n",
       "   2 │ hsa-miR-200a-3p  hsa-miR-200b-3p       1.0       2.80845e-9\n",
       "   3 │ hsa-miR-200c-3p  hsa-miR-93-5p         0.999998  6.30622e-7\n",
       "   4 │ hsa-miR-200c-3p  hsa-miR-140-3p        0.999983  4.80667e-6\n",
       "   5 │ hsa-miR-200b-3p  hsa-miR-429-3p        0.999907  2.25115e-5\n",
       "   6 │ hsa-miR-200c-3p  hsa-miR-16-1-5p       0.999782  5.5108e-5\n",
       "   7 │ hsa-miR-200c-3p  hsa-miR-664-3p        0.999774  7.95436e-5\n",
       "   8 │ hsa-miR-200c-3p  hsa-miR-17-5p         0.999627  0.000116234\n",
       "   9 │ hsa-miR-200c-3p  hsa-miR-769-5p        0.999219  0.000190152\n",
       "  10 │ hsa-miR-200b-3p  hsa-miR-582-3p        0.999196  0.000251556\n",
       "  11 │ hsa-miR-200c-3p  hsa-miR-130b-5p       0.999114  0.000309265\n",
       "  ⋮  │        ⋮                 ⋮               ⋮            ⋮\n",
       "  38 │ hsa-miR-200b-3p  hsa-miR-26b-5p        0.981344  0.00700482\n",
       "  39 │ hsa-miR-200c-3p  hsa-miR-619-5p        0.980996  0.00731249\n",
       "  40 │ hsa-miR-200c-3p  hsa-miR-500a-5p       0.979841  0.00763364\n",
       "  41 │ hsa-miR-200c-3p  hsa-miR-4677-3p       0.979659  0.00794358\n",
       "  42 │ hsa-miR-200b-3p  hsa-miR-328-3p        0.979322  0.00824677\n",
       "  43 │ hsa-miR-200b-3p  hsa-miR-9-1-5p        0.979034  0.00854257\n",
       "  44 │ hsa-miR-200c-3p  hsa-miR-141-5p        0.978564  0.00883559\n",
       "  45 │ hsa-miR-200c-3p  hsa-miR-30e-3p        0.97794   0.00912946\n",
       "  46 │ hsa-miR-200a-3p  hsa-miR-26b-5p        0.972919  0.00951972\n",
       "  47 │ hsa-miR-200b-3p  hsa-miR-93-5p         0.971509  0.00992335\n",
       "\u001b[36m                                                     26 rows omitted\u001b[0m"
      ]
     },
     "execution_count": 9,
     "metadata": {},
     "output_type": "execute_result"
    }
   ],
   "source": [
    "dP_mir200_mir = findr(dm, colnames=mir200, FDR=0.01)"
   ]
  },
  {
   "cell_type": "markdown",
   "id": "0af01114",
   "metadata": {},
   "source": [
    "The parameter **colnames** must be a vector of strings containing a subset of variable names of the input DataFrame **dm** to be used as **Source** genes.\n",
    "\n",
    "As an example of the second scenario, we may be interested in finding genes that are significantly correlated with all or a subset of microRNAs: \n"
   ]
  },
  {
   "cell_type": "code",
   "execution_count": 9,
   "id": "89bf0174",
   "metadata": {},
   "outputs": [
    {
     "data": {
      "text/html": [
       "<div><div style = \"float: left;\"><span>52031×4 DataFrame</span></div><div style = \"float: right;\"><span style = \"font-style: italic;\">52006 rows omitted</span></div><div style = \"clear: both;\"></div></div><div class = \"data-frame\" style = \"overflow-x: scroll;\"><table class = \"data-frame\" style = \"margin-bottom: 6px;\"><thead><tr class = \"header\"><th class = \"rowNumber\" style = \"font-weight: bold; text-align: right;\">Row</th><th style = \"text-align: left;\">Source</th><th style = \"text-align: left;\">Target</th><th style = \"text-align: left;\">Probability</th><th style = \"text-align: left;\">qvalue</th></tr><tr class = \"subheader headerLastRow\"><th class = \"rowNumber\" style = \"font-weight: bold; text-align: right;\"></th><th title = \"String\" style = \"text-align: left;\">String</th><th title = \"String\" style = \"text-align: left;\">String</th><th title = \"Float64\" style = \"text-align: left;\">Float64</th><th title = \"Float64\" style = \"text-align: left;\">Float64</th></tr></thead><tbody><tr><td class = \"rowNumber\" style = \"font-weight: bold; text-align: right;\">1</td><td style = \"text-align: left;\">hsa-let-7b-5p</td><td style = \"text-align: left;\">ENSG00000197182.8</td><td style = \"text-align: right;\">1.0</td><td style = \"text-align: right;\">0.0</td></tr><tr><td class = \"rowNumber\" style = \"font-weight: bold; text-align: right;\">2</td><td style = \"text-align: left;\">hsa-let-7b-5p</td><td style = \"text-align: left;\">ENSG00000241990.1</td><td style = \"text-align: right;\">1.0</td><td style = \"text-align: right;\">0.0</td></tr><tr><td class = \"rowNumber\" style = \"font-weight: bold; text-align: right;\">3</td><td style = \"text-align: left;\">hsa-miR-335-5p</td><td style = \"text-align: left;\">ENSG00000106484.8</td><td style = \"text-align: right;\">1.0</td><td style = \"text-align: right;\">0.0</td></tr><tr><td class = \"rowNumber\" style = \"font-weight: bold; text-align: right;\">4</td><td style = \"text-align: left;\">hsa-miR-335-5p</td><td style = \"text-align: left;\">ENSG00000128510.5</td><td style = \"text-align: right;\">1.0</td><td style = \"text-align: right;\">0.0</td></tr><tr><td class = \"rowNumber\" style = \"font-weight: bold; text-align: right;\">5</td><td style = \"text-align: left;\">hsa-miR-335-5p</td><td style = \"text-align: left;\">ENSG00000220884.2</td><td style = \"text-align: right;\">1.0</td><td style = \"text-align: right;\">0.0</td></tr><tr><td class = \"rowNumber\" style = \"font-weight: bold; text-align: right;\">6</td><td style = \"text-align: left;\">hsa-miR-618-5p</td><td style = \"text-align: left;\">ENSG00000111052.3</td><td style = \"text-align: right;\">1.0</td><td style = \"text-align: right;\">0.0</td></tr><tr><td class = \"rowNumber\" style = \"font-weight: bold; text-align: right;\">7</td><td style = \"text-align: left;\">hsa-miR-335-3p</td><td style = \"text-align: left;\">ENSG00000106484.8</td><td style = \"text-align: right;\">1.0</td><td style = \"text-align: right;\">0.0</td></tr><tr><td class = \"rowNumber\" style = \"font-weight: bold; text-align: right;\">8</td><td style = \"text-align: left;\">hsa-miR-335-3p</td><td style = \"text-align: left;\">ENSG00000128510.5</td><td style = \"text-align: right;\">1.0</td><td style = \"text-align: right;\">0.0</td></tr><tr><td class = \"rowNumber\" style = \"font-weight: bold; text-align: right;\">9</td><td style = \"text-align: left;\">hsa-miR-335-3p</td><td style = \"text-align: left;\">ENSG00000220884.2</td><td style = \"text-align: right;\">1.0</td><td style = \"text-align: right;\">0.0</td></tr><tr><td class = \"rowNumber\" style = \"font-weight: bold; text-align: right;\">10</td><td style = \"text-align: left;\">hsa-miR-138-1-3p</td><td style = \"text-align: left;\">ENSG00000261786.1</td><td style = \"text-align: right;\">1.0</td><td style = \"text-align: right;\">0.0</td></tr><tr><td class = \"rowNumber\" style = \"font-weight: bold; text-align: right;\">11</td><td style = \"text-align: left;\">hsa-miR-143-3p</td><td style = \"text-align: left;\">ENSG00000249959.1</td><td style = \"text-align: right;\">1.0</td><td style = \"text-align: right;\">0.0</td></tr><tr><td class = \"rowNumber\" style = \"font-weight: bold; text-align: right;\">12</td><td style = \"text-align: left;\">hsa-miR-151a-3p</td><td style = \"text-align: left;\">ENSG00000169398.14</td><td style = \"text-align: right;\">1.0</td><td style = \"text-align: right;\">0.0</td></tr><tr><td class = \"rowNumber\" style = \"font-weight: bold; text-align: right;\">13</td><td style = \"text-align: left;\">hsa-miR-151a-5p</td><td style = \"text-align: left;\">ENSG00000169398.14</td><td style = \"text-align: right;\">1.0</td><td style = \"text-align: right;\">0.0</td></tr><tr><td style = \"text-align: right;\">&vellip;</td><td style = \"text-align: right;\">&vellip;</td><td style = \"text-align: right;\">&vellip;</td><td style = \"text-align: right;\">&vellip;</td><td style = \"text-align: right;\">&vellip;</td></tr><tr><td class = \"rowNumber\" style = \"font-weight: bold; text-align: right;\">52020</td><td style = \"text-align: left;\">hsa-miR-181b-1-5p</td><td style = \"text-align: left;\">ENSG00000220785.3</td><td style = \"text-align: right;\">0.973752</td><td style = \"text-align: right;\">0.00999638</td></tr><tr><td class = \"rowNumber\" style = \"font-weight: bold; text-align: right;\">52021</td><td style = \"text-align: left;\">hsa-miR-2116-3p</td><td style = \"text-align: left;\">ENSG00000249274.1</td><td style = \"text-align: right;\">0.973752</td><td style = \"text-align: right;\">0.00999669</td></tr><tr><td class = \"rowNumber\" style = \"font-weight: bold; text-align: right;\">52022</td><td style = \"text-align: left;\">hsa-miR-184-3p</td><td style = \"text-align: left;\">ENSG00000258749.1</td><td style = \"text-align: right;\">0.973749</td><td style = \"text-align: right;\">0.00999701</td></tr><tr><td class = \"rowNumber\" style = \"font-weight: bold; text-align: right;\">52023</td><td style = \"text-align: left;\">hsa-miR-582-5p</td><td style = \"text-align: left;\">ENSG00000214389.2</td><td style = \"text-align: right;\">0.973748</td><td style = \"text-align: right;\">0.00999732</td></tr><tr><td class = \"rowNumber\" style = \"font-weight: bold; text-align: right;\">52024</td><td style = \"text-align: left;\">hsa-miR-4424-3p</td><td style = \"text-align: left;\">ENSG00000225507.1</td><td style = \"text-align: right;\">0.973748</td><td style = \"text-align: right;\">0.00999763</td></tr><tr><td class = \"rowNumber\" style = \"font-weight: bold; text-align: right;\">52025</td><td style = \"text-align: left;\">hsa-miR-150-3p</td><td style = \"text-align: left;\">ENSG00000243014.1</td><td style = \"text-align: right;\">0.973748</td><td style = \"text-align: right;\">0.00999794</td></tr><tr><td class = \"rowNumber\" style = \"font-weight: bold; text-align: right;\">52026</td><td style = \"text-align: left;\">hsa-miR-128-1-5p</td><td style = \"text-align: left;\">ENSG00000168234.6</td><td style = \"text-align: right;\">0.973747</td><td style = \"text-align: right;\">0.00999826</td></tr><tr><td class = \"rowNumber\" style = \"font-weight: bold; text-align: right;\">52027</td><td style = \"text-align: left;\">hsa-miR-3176-3p</td><td style = \"text-align: left;\">ENSG00000063322.6</td><td style = \"text-align: right;\">0.973747</td><td style = \"text-align: right;\">0.00999857</td></tr><tr><td class = \"rowNumber\" style = \"font-weight: bold; text-align: right;\">52028</td><td style = \"text-align: left;\">hsa-miR-146a-5p</td><td style = \"text-align: left;\">ENSG00000214193.5</td><td style = \"text-align: right;\">0.973747</td><td style = \"text-align: right;\">0.00999888</td></tr><tr><td class = \"rowNumber\" style = \"font-weight: bold; text-align: right;\">52029</td><td style = \"text-align: left;\">hsa-miR-181c-3p</td><td style = \"text-align: left;\">ENSG00000128692.7</td><td style = \"text-align: right;\">0.973747</td><td style = \"text-align: right;\">0.00999919</td></tr><tr><td class = \"rowNumber\" style = \"font-weight: bold; text-align: right;\">52030</td><td style = \"text-align: left;\">hsa-miR-22-3p</td><td style = \"text-align: left;\">ENSG00000236285.1</td><td style = \"text-align: right;\">0.973746</td><td style = \"text-align: right;\">0.0099995</td></tr><tr><td class = \"rowNumber\" style = \"font-weight: bold; text-align: right;\">52031</td><td style = \"text-align: left;\">hsa-miR-486-5p</td><td style = \"text-align: left;\">ENSG00000160145.10</td><td style = \"text-align: right;\">0.973746</td><td style = \"text-align: right;\">0.00999982</td></tr></tbody></table></div>"
      ],
      "text/latex": [
       "\\begin{tabular}{r|cccc}\n",
       "\t& Source & Target & Probability & qvalue\\\\\n",
       "\t\\hline\n",
       "\t& String & String & Float64 & Float64\\\\\n",
       "\t\\hline\n",
       "\t1 & hsa-let-7b-5p & ENSG00000197182.8 & 1.0 & 0.0 \\\\\n",
       "\t2 & hsa-let-7b-5p & ENSG00000241990.1 & 1.0 & 0.0 \\\\\n",
       "\t3 & hsa-miR-335-5p & ENSG00000106484.8 & 1.0 & 0.0 \\\\\n",
       "\t4 & hsa-miR-335-5p & ENSG00000128510.5 & 1.0 & 0.0 \\\\\n",
       "\t5 & hsa-miR-335-5p & ENSG00000220884.2 & 1.0 & 0.0 \\\\\n",
       "\t6 & hsa-miR-618-5p & ENSG00000111052.3 & 1.0 & 0.0 \\\\\n",
       "\t7 & hsa-miR-335-3p & ENSG00000106484.8 & 1.0 & 0.0 \\\\\n",
       "\t8 & hsa-miR-335-3p & ENSG00000128510.5 & 1.0 & 0.0 \\\\\n",
       "\t9 & hsa-miR-335-3p & ENSG00000220884.2 & 1.0 & 0.0 \\\\\n",
       "\t10 & hsa-miR-138-1-3p & ENSG00000261786.1 & 1.0 & 0.0 \\\\\n",
       "\t11 & hsa-miR-143-3p & ENSG00000249959.1 & 1.0 & 0.0 \\\\\n",
       "\t12 & hsa-miR-151a-3p & ENSG00000169398.14 & 1.0 & 0.0 \\\\\n",
       "\t13 & hsa-miR-151a-5p & ENSG00000169398.14 & 1.0 & 0.0 \\\\\n",
       "\t14 & hsa-miR-151b-3p & ENSG00000169398.14 & 1.0 & 0.0 \\\\\n",
       "\t15 & hsa-miR-181a-2-3p & ENSG00000224020.1 & 1.0 & 0.0 \\\\\n",
       "\t16 & hsa-miR-196a-1-5p & ENSG00000260027.1 & 1.0 & 0.0 \\\\\n",
       "\t17 & hsa-miR-196a-2-5p & ENSG00000260027.1 & 1.0 & 0.0 \\\\\n",
       "\t18 & hsa-miR-221-3p & ENSG00000117586.5 & 1.0 & 0.0 \\\\\n",
       "\t19 & hsa-miR-221-3p & ENSG00000185650.7 & 1.0 & 0.0 \\\\\n",
       "\t20 & hsa-miR-222-3p & ENSG00000113302.4 & 1.0 & 0.0 \\\\\n",
       "\t21 & hsa-miR-222-3p & ENSG00000117586.5 & 1.0 & 0.0 \\\\\n",
       "\t22 & hsa-miR-30d-3p & ENSG00000259820.1 & 1.0 & 0.0 \\\\\n",
       "\t23 & hsa-miR-30d-5p & ENSG00000259820.1 & 1.0 & 0.0 \\\\\n",
       "\t24 & hsa-miR-340-5p & ENSG00000113269.7 & 1.0 & 0.0 \\\\\n",
       "\t25 & hsa-miR-342-3p & ENSG00000196405.7 & 1.0 & 0.0 \\\\\n",
       "\t26 & hsa-miR-3681-5p & ENSG00000224184.1 & 1.0 & 0.0 \\\\\n",
       "\t27 & hsa-miR-424-3p & ENSG00000223749.2 & 1.0 & 0.0 \\\\\n",
       "\t28 & hsa-miR-424-5p & ENSG00000223749.2 & 1.0 & 0.0 \\\\\n",
       "\t29 & hsa-miR-450a-1-5p & ENSG00000223749.2 & 1.0 & 0.0 \\\\\n",
       "\t30 & hsa-miR-450a-2-5p & ENSG00000223749.2 & 1.0 & 0.0 \\\\\n",
       "\t$\\dots$ & $\\dots$ & $\\dots$ & $\\dots$ & $\\dots$ \\\\\n",
       "\\end{tabular}\n"
      ],
      "text/plain": [
       "\u001b[1m52031×4 DataFrame\u001b[0m\n",
       "\u001b[1m   Row \u001b[0m│\u001b[1m Source            \u001b[0m\u001b[1m Target             \u001b[0m\u001b[1m Probability \u001b[0m\u001b[1m qvalue     \u001b[0m\n",
       "       │\u001b[90m String            \u001b[0m\u001b[90m String             \u001b[0m\u001b[90m Float64     \u001b[0m\u001b[90m Float64    \u001b[0m\n",
       "───────┼────────────────────────────────────────────────────────────────\n",
       "     1 │ hsa-let-7b-5p      ENSG00000197182.8      1.0       0.0\n",
       "     2 │ hsa-let-7b-5p      ENSG00000241990.1      1.0       0.0\n",
       "     3 │ hsa-miR-335-5p     ENSG00000106484.8      1.0       0.0\n",
       "     4 │ hsa-miR-335-5p     ENSG00000128510.5      1.0       0.0\n",
       "     5 │ hsa-miR-335-5p     ENSG00000220884.2      1.0       0.0\n",
       "     6 │ hsa-miR-618-5p     ENSG00000111052.3      1.0       0.0\n",
       "     7 │ hsa-miR-335-3p     ENSG00000106484.8      1.0       0.0\n",
       "     8 │ hsa-miR-335-3p     ENSG00000128510.5      1.0       0.0\n",
       "     9 │ hsa-miR-335-3p     ENSG00000220884.2      1.0       0.0\n",
       "    10 │ hsa-miR-138-1-3p   ENSG00000261786.1      1.0       0.0\n",
       "    11 │ hsa-miR-143-3p     ENSG00000249959.1      1.0       0.0\n",
       "   ⋮   │         ⋮                  ⋮                ⋮           ⋮\n",
       " 52022 │ hsa-miR-184-3p     ENSG00000258749.1      0.973749  0.00999701\n",
       " 52023 │ hsa-miR-582-5p     ENSG00000214389.2      0.973748  0.00999732\n",
       " 52024 │ hsa-miR-4424-3p    ENSG00000225507.1      0.973748  0.00999763\n",
       " 52025 │ hsa-miR-150-3p     ENSG00000243014.1      0.973748  0.00999794\n",
       " 52026 │ hsa-miR-128-1-5p   ENSG00000168234.6      0.973747  0.00999826\n",
       " 52027 │ hsa-miR-3176-3p    ENSG00000063322.6      0.973747  0.00999857\n",
       " 52028 │ hsa-miR-146a-5p    ENSG00000214193.5      0.973747  0.00999888\n",
       " 52029 │ hsa-miR-181c-3p    ENSG00000128692.7      0.973747  0.00999919\n",
       " 52030 │ hsa-miR-22-3p      ENSG00000236285.1      0.973746  0.0099995\n",
       " 52031 │ hsa-miR-486-5p     ENSG00000160145.10     0.973746  0.00999982\n",
       "\u001b[36m                                                      52010 rows omitted\u001b[0m"
      ]
     },
     "execution_count": 10,
     "metadata": {},
     "output_type": "execute_result"
    }
   ],
   "source": [
    "dP_mir_mrna = findr(dt, dm, FDR=0.01)"
   ]
  },
  {
   "cell_type": "markdown",
   "id": "3410fdd7",
   "metadata": {},
   "source": [
    "Note the order of the arguments: here we tested all microRNAs as $A$ or Source genes (`dm` argument) against all mRNA transcripts as $B$ or Target genes (`dt` argument), that is, background distributions are fitted for each microRNA (column of `dm`) from the log-likelihood ratios for all 23,722 mRNAs (columns of `dt`).\n",
    "\n",
    "[1]: https://github.com/tmichoel/Findr.jl\n",
    "[2]: https://github.com/lingfeiwang/findr-data-geuvadis\n",
    "[3]: https://doi.org/10.1038/nature12531\n",
    "[4]: https://dataframes.juliadata.org/stable/\n",
    "[5]: https://doi.org/10.1371/journal.pcbi.1005703"
   ]
  }
 ],
 "metadata": {
  "kernelspec": {
   "display_name": "Julia 1.9.0",
   "language": "julia",
   "name": "julia-1.9"
  },
  "language_info": {
   "file_extension": ".jl",
   "mimetype": "application/julia",
   "name": "julia",
   "version": "1.9.0"
  }
 },
 "nbformat": 4,
 "nbformat_minor": 5
}
