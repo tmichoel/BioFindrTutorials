{
 "cells": [
  {
   "cell_type": "raw",
   "id": "f181669c",
   "metadata": {},
   "source": [
    "---\n",
    "title: Matrix-based data\n",
    "format:\n",
    "  html:\n",
    "    code-fold: false\n",
    "execute:\n",
    "  cache: true\n",
    "  keep-ipynb: true\n",
    "---"
   ]
  },
  {
   "cell_type": "markdown",
   "id": "a56bf517",
   "metadata": {},
   "source": [
    "## Introduction\n",
    "\n",
    "Internally, all [Findr.jl][1] functions work with matrices or array-based data, and the [DataFrame](https://dataframes.juliadata.org/stable/) based `findr` methods used in the [coexpression analysis](coexpression.qmd), [association analysis](association.qmd), and [causal inference](causal-inference.qmd) tutorials are wrapper functions provided for convenience. If you prefer matrix-based data over DataFrames, you can directly use matrix-based `findr` methods without having to create DataFrames first.\n",
    "\n",
    "## Set up the environment\n"
   ]
  },
  {
   "cell_type": "code",
   "execution_count": 1,
   "id": "9343a937",
   "metadata": {},
   "outputs": [
    {
     "name": "stderr",
     "output_type": "stream",
     "text": [
      "\u001b[36m\u001b[1m[ \u001b[22m\u001b[39m\u001b[36m\u001b[1mInfo: \u001b[22m\u001b[39mPrecompiling Findr [77580646-997d-4218-a3cc-42097ecd1c68]\n"
     ]
    }
   ],
   "source": [
    "using DrWatson\n",
    "quickactivate(@__DIR__)\n",
    "\n",
    "using DataFrames\n",
    "using Arrow\n",
    "\n",
    "using Findr"
   ]
  },
  {
   "cell_type": "markdown",
   "id": "e252f47f",
   "metadata": {},
   "source": [
    "## Load data\n",
    "\n",
    "Let's pretend our GEUVADIS data is in a matrix-based format:\n"
   ]
  },
  {
   "cell_type": "code",
   "execution_count": 2,
   "id": "81c09973",
   "metadata": {},
   "outputs": [],
   "source": [
    "Xt = Matrix(DataFrame(Arrow.Table(datadir(\"exp_pro\",\"findr-data-geuvadis\", \"dt.arrow\"))));\n",
    "Xm = Matrix(DataFrame(Arrow.Table(datadir(\"exp_pro\",\"findr-data-geuvadis\", \"dm.arrow\"))));\n",
    "Gm = Matrix(DataFrame(Arrow.Table(datadir(\"exp_pro\",\"findr-data-geuvadis\", \"dgm.arrow\"))));"
   ]
  },
  {
   "cell_type": "markdown",
   "id": "15df9368",
   "metadata": {},
   "source": [
    "We also need the microRNA eQTL mapping (see the [causal inference tutorial](causal-inference.qmd)), in this case in the form of an array where each row corresponds to a cis-eQTL/eGene pair represented by of a column index of `Gm` (i.e. a SNP) and a column index of `Xm` (i.e. a microRNA). [Recall](causal-inference.qmd) that due to the preprocessing of the [findr-geuvadis][2] data. the column indices are identical, but this will not be the case in general:\n"
   ]
  },
  {
   "cell_type": "code",
   "execution_count": 3,
   "id": "f6f21847",
   "metadata": {},
   "outputs": [],
   "source": [
    "mirpairs = zeros(Int32,size(Gm,2),2);\n",
    "for k=1:size(mirpairs,1)\n",
    "    mirpairs[k,:] = [k k]\n",
    "end"
   ]
  },
  {
   "cell_type": "markdown",
   "id": "f5ceaa5c",
   "metadata": {},
   "source": [
    "Note that data must be stored in matrices where **columns correspond to variables** (genes, SNPs, etc.) and **rows correspond to observations** (samples).\n",
    "\n",
    "## Run Findr.jl\n",
    "\n",
    "Below, we only show the relevant `findr` commands. Check the corresponding tutorials and [Findr.jl documentation][6] for more details. \n",
    "\n",
    "### Coexpression analysis\n",
    "\n",
    "#### All-vs-all\n",
    "\n",
    "Coexpression analysis on a single matrix returns a square matrix with dimensions equal to the number of variables (columns) in the input matrix:\n"
   ]
  },
  {
   "cell_type": "code",
   "execution_count": 4,
   "id": "1c05105e",
   "metadata": {},
   "outputs": [
    {
     "data": {
      "text/plain": [
       "674×674 Matrix{Float64}:\n",
       " 1.0         0.0197072    0.225709   …  0.0332835  0.109018   0.106084\n",
       " 0.0649505   1.0          0.0931958     0.0475433  0.733006   0.248782\n",
       " 0.182571    0.0161952    1.0           0.777922   0.108028   0.1005\n",
       " 0.00185799  0.078849     0.0794521     0.0700811  0.0996734  0.123286\n",
       " 0.109671    0.0852573    0.239883      0.0346806  0.166101   0.298598\n",
       " 0.0323098   0.0302238    0.0587378  …  0.569455   0.105368   0.186618\n",
       " 0.466356    0.0116614    0.087737      0.043641   0.126047   0.0943835\n",
       " 0.0233157   0.00802049   0.56947       0.0551034  0.34866    0.0983946\n",
       " 0.101298    0.00280115   0.135996      0.0440159  0.193652   0.131925\n",
       " 0.187731    0.535853     1.0           0.0338527  0.214703   0.134344\n",
       " 0.401814    0.136546     0.433783   …  0.0333494  0.16544    0.188016\n",
       " 0.195701    0.0226562    0.0287868     0.0539721  0.10707    0.161418\n",
       " 0.695515    0.00794346   0.453652      0.111576   0.283267   0.0973275\n",
       " ⋮                                   ⋱                        \n",
       " 0.0484937   0.0184506    0.872223      0.0379798  0.100317   0.157875\n",
       " 0.205802    0.115677     0.105303      0.0335587  0.381738   0.517292\n",
       " 0.42119     0.000699482  0.969754      0.0334589  0.220487   0.0974999\n",
       " 0.0699346   0.00138171   0.112064   …  0.0447547  0.112793   0.0956179\n",
       " 0.12073     0.00940378   0.79598       0.0367054  0.192191   0.093996\n",
       " 0.10299     0.0284845    0.046016      0.0331139  0.245189   0.124241\n",
       " 0.0109064   0.0244777    0.174158      0.0621861  0.112385   0.817952\n",
       " 0.321733    0.110006     0.0977148     0.0362147  0.114087   0.153156\n",
       " 0.169049    0.168306     0.0968118  …  0.999704   0.117747   0.0954134\n",
       " 0.0148231   0.0981611    0.907828      1.0        0.123624   0.912876\n",
       " 0.0692175   0.738789     0.099484      0.0426253  1.0        1.0\n",
       " 0.0777971   0.339845     0.0903338     0.797384   1.0        1.0"
      ]
     },
     "execution_count": 5,
     "metadata": {},
     "output_type": "execute_result"
    }
   ],
   "source": [
    "P = findr(Xm)"
   ]
  },
  {
   "cell_type": "markdown",
   "id": "2f83334e",
   "metadata": {},
   "source": [
    "In the output, columns correspond to A-genes (causal factors) and rows to B-genes (targets), that is:\n",
    "\n",
    "$$\n",
    "P_{i,j} = P(X_j \\to X_i)\n",
    "$$\n",
    "\n",
    "Note that the diagonal is arbitrarily set to one, Findr cannot make any inferences about the presence or absence of self-regulation!\n",
    "\n",
    "#### Bipartite\n",
    "\n",
    "Analyse coexpression *from* a subset of variables *to* the whole set:\n"
   ]
  },
  {
   "cell_type": "code",
   "execution_count": 5,
   "id": "b325a833",
   "metadata": {},
   "outputs": [
    {
     "data": {
      "text/plain": [
       "674×4 Matrix{Float64}:\n",
       " 1.0         0.225709   0.409288   0.242541\n",
       " 0.0649505   0.0931958  0.0636956  0.154539\n",
       " 0.182571    1.0        0.067289   0.0618777\n",
       " 0.00185799  0.0794521  0.160056   0.481415\n",
       " 0.109671    0.239883   0.312803   0.0509264\n",
       " 0.0323098   0.0587378  0.0264131  0.0405768\n",
       " 0.466356    0.087737   1.0        0.198557\n",
       " 0.0233157   0.56947    0.263707   0.114162\n",
       " 0.101298    0.135996   0.0171641  0.233525\n",
       " 0.187731    1.0        0.126453   0.10633\n",
       " 0.401814    0.433783   0.0676799  0.288999\n",
       " 0.195701    0.0287868  0.0967082  0.138005\n",
       " 0.695515    0.453652   0.13247    0.259272\n",
       " ⋮                                 \n",
       " 0.0484937   0.872223   0.340024   0.522543\n",
       " 0.205802    0.105303   0.335258   0.103468\n",
       " 0.42119     0.969754   0.2815     0.120862\n",
       " 0.0699346   0.112064   0.25883    0.323375\n",
       " 0.12073     0.79598    0.124066   0.282935\n",
       " 0.10299     0.046016   0.51225    0.236598\n",
       " 0.0109064   0.174158   0.14438    0.299121\n",
       " 0.321733    0.0977148  0.188552   0.397318\n",
       " 0.169049    0.0968118  0.0382886  0.351039\n",
       " 0.0148231   0.907828   0.142995   0.0562642\n",
       " 0.0692175   0.099484   0.142748   0.0136591\n",
       " 0.0777971   0.0903338  0.0149468  0.380175"
      ]
     },
     "execution_count": 6,
     "metadata": {},
     "output_type": "execute_result"
    }
   ],
   "source": [
    "P = findr(Xm; cols=[1,3,7,50])"
   ]
  },
  {
   "cell_type": "markdown",
   "id": "e2eacd50",
   "metadata": {},
   "source": [
    "Analyse coexpression *from* the variables in `Xm` *to* the variables in `Xt`:\n"
   ]
  },
  {
   "cell_type": "code",
   "execution_count": 6,
   "id": "11120f27",
   "metadata": {},
   "outputs": [
    {
     "data": {
      "text/plain": [
       "23722×674 Matrix{Float64}:\n",
       " 0.00400739   0.0         0.747615     …  0.00195771   0.0541561\n",
       " 0.00103875   0.00883145  0.4872          0.0813478    0.107062\n",
       " 0.0059461    0.0         0.357284        0.0685684    0.0581842\n",
       " 0.46758      0.0         0.634931        0.136805     0.0436366\n",
       " 0.00128052   0.0         0.0216848       0.120345     0.711452\n",
       " 0.0295149    0.00883145  0.28128      …  0.0726776    0.847095\n",
       " 1.39584e-6   0.0158817   0.300538        0.00144828   0.177948\n",
       " 0.115171     0.0         0.132252        0.0427649    0.0407486\n",
       " 0.00041855   0.0         0.273877        0.0129385    0.381245\n",
       " 0.00223831   0.00883145  0.000626261     0.00137152   0.275221\n",
       " 4.42713e-5   0.00883145  0.469129     …  0.00241127   0.00558805\n",
       " 0.0407525    0.0         0.550892        0.000342252  0.0564657\n",
       " 0.000116842  0.0         0.537246        0.586175     0.990271\n",
       " ⋮                                     ⋱               \n",
       " 0.125664     0.0         0.955045     …  0.151681     0.37233\n",
       " 0.00304995   0.0601222   0.130833        0.000222891  0.138894\n",
       " 0.00687407   0.00883145  0.223432        0.0256436    0.478179\n",
       " 0.0728993    0.0         0.00866493      0.00403885   0.0540484\n",
       " 0.0855197    0.0513282   0.0858086       0.0817211    0.338614\n",
       " 0.000785811  0.0         0.114199     …  0.0128781    0.237762\n",
       " 0.0464354    0.0         0.0533607       0.0390192    0.0310723\n",
       " 0.00266738   0.00883145  0.106648        0.0413058    0.165718\n",
       " 0.000126444  0.0         0.000149911     0.0401501    0.139841\n",
       " 0.00192732   0.0         0.00752661      0.0163761    0.0417349\n",
       " 0.0203562    0.0         0.0341125    …  0.0190751    0.237147\n",
       " 0.124532     0.0         0.0207975       0.174169     0.453847"
      ]
     },
     "execution_count": 7,
     "metadata": {},
     "output_type": "execute_result"
    }
   ],
   "source": [
    "P = findr(Xt,Xm)"
   ]
  },
  {
   "cell_type": "markdown",
   "id": "e9c4343a",
   "metadata": {},
   "source": [
    "### Association analysis\n",
    "\n",
    "Testing associations between eQTL genotypes in `Gm`and microRNA expression levels in `Xm`:\n"
   ]
  },
  {
   "cell_type": "code",
   "execution_count": 7,
   "id": "04aba054",
   "metadata": {},
   "outputs": [
    {
     "data": {
      "text/plain": [
       "674×55 Matrix{Float64}:\n",
       " 0.853201    0.356346  0.0       0.0  …  0.000797726  0.0  0.00224096\n",
       " 0.120473    0.99982   0.0       0.0     0.00129051   0.0  0.00585794\n",
       " 0.0925184   0.124446  1.0       0.0     0.000784934  0.0  0.00954639\n",
       " 0.0202679   0.47438   0.0       1.0     0.000733876  0.0  0.00263948\n",
       " 0.0623391   0.449505  0.0       0.0     0.00114391   0.0  0.00194524\n",
       " 0.0767795   0.377259  0.0       0.0  …  0.0028452    0.0  0.00227388\n",
       " 0.0271901   0.396912  0.0       0.0     0.00125577   0.0  1.0\n",
       " 0.0274731   0.328489  0.0       0.0     0.00373303   0.0  0.0124102\n",
       " 0.0619347   0.148897  0.0       0.0     0.00112504   0.0  0.00539071\n",
       " 0.151423    0.403371  0.999825  0.0     0.00286934   0.0  0.00362802\n",
       " 0.042108    0.446897  0.0       0.0  …  0.00162458   0.0  0.00890627\n",
       " 0.0384388   0.272137  0.0       0.0     0.00175638   0.0  0.00188658\n",
       " 0.101742    0.391688  0.0       0.0     0.000633432  0.0  0.00520416\n",
       " ⋮                                    ⋱                    \n",
       " 0.0655423   0.338839  0.0       0.0     0.000639091  0.0  0.00984286\n",
       " 0.0298992   0.188951  0.0       0.0     0.00104907   0.0  0.00429909\n",
       " 0.0510288   0.171986  0.0       0.0     0.000694162  0.0  0.00375726\n",
       " 0.123656    0.196914  0.0       0.0  …  0.00240713   0.0  0.00475791\n",
       " 0.0815461   0.162525  0.0       0.0     0.000729952  0.0  0.00578588\n",
       " 0.0486221   0.569855  0.0       0.0     0.0147248    0.0  0.0029515\n",
       " 0.0944812   0.576282  0.0       0.0     0.00105147   0.0  0.00530733\n",
       " 0.0373581   0.544132  0.0       0.0     0.00074183   0.0  0.00182359\n",
       " 0.0817629   0.586459  0.0       0.0  …  0.00190714   0.0  0.00181034\n",
       " 0.147596    0.205031  0.0       0.0     0.00176247   0.0  0.00744544\n",
       " 0.00858162  0.172087  0.0       0.0     0.000939188  0.0  0.00545941\n",
       " 0.0497977   0.264749  0.0       0.0     0.000804472  0.0  0.0824491"
      ]
     },
     "execution_count": 8,
     "metadata": {},
     "output_type": "execute_result"
    }
   ],
   "source": [
    "P = findr(Xm,Gm)"
   ]
  },
  {
   "cell_type": "markdown",
   "id": "bdb5431f",
   "metadata": {},
   "source": [
    "In the output, columns correspond to eQTLs and rows to genes, that is,\n",
    "\n",
    "\n",
    "$$\n",
    "P_{i,j} = P(E_j \\to X_i)\n",
    "$$\n",
    "\n",
    "### Causal inference\n",
    "\n",
    "#### Subset-to-all\n",
    "\n",
    "When you run causal inference with `findr` using matrix-based inputs, the default is to return posterior probabilities for [each test](https://tmichoel.github.io/Findr.jl/dev/realLLR/) separately:\n"
   ]
  },
  {
   "cell_type": "code",
   "execution_count": 8,
   "id": "a3bab45a",
   "metadata": {},
   "outputs": [],
   "source": [
    "P = findr(Xm,Gm,mirpairs);"
   ]
  },
  {
   "cell_type": "markdown",
   "id": "8d6f6330",
   "metadata": {},
   "source": [
    "Note the dimensions of `P`:\n"
   ]
  },
  {
   "cell_type": "code",
   "execution_count": 9,
   "id": "d020f51b",
   "metadata": {},
   "outputs": [
    {
     "data": {
      "text/plain": [
       "(674, 4, 55)"
      ]
     },
     "execution_count": 10,
     "metadata": {},
     "output_type": "execute_result"
    }
   ],
   "source": [
    "size(P)"
   ]
  },
  {
   "cell_type": "markdown",
   "id": "e998b9c1",
   "metadata": {},
   "source": [
    "The third dimension indexes the A-genes (causes), the second dimension the tests (test 2-5, see link above), and the first the B-genes (targets).\n",
    "\n",
    "[1]: https://github.com/tmichoel/Findr.jl\n",
    "[2]: https://github.com/lingfeiwang/findr-data-geuvadis\n",
    "[3]: https://doi.org/10.1038/nature12531\n",
    "[4]: https://dataframes.juliadata.org/stable/\n",
    "[5]: https://doi.org/10.1371/journal.pcbi.1005703\n",
    "[6]: https://tmichoel.github.io/Findr.jl/dev/"
   ]
  }
 ],
 "metadata": {
  "kernelspec": {
   "display_name": "Julia 1.9.0",
   "language": "julia",
   "name": "julia-1.9"
  },
  "language_info": {
   "file_extension": ".jl",
   "mimetype": "application/julia",
   "name": "julia",
   "version": "1.9.0"
  }
 },
 "nbformat": 4,
 "nbformat_minor": 5
}
