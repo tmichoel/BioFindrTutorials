{
  "cells": [
    {
      "cell_type": "raw",
      "metadata": {},
      "source": [
        "---\n",
        "title: Matrix-based data\n",
        "format:\n",
        "  html:\n",
        "    code-fold: false\n",
        "execute:\n",
        "  cache: true\n",
        "  keep-ipynb: true\n",
        "---"
      ],
      "id": "3d790036"
    },
    {
      "cell_type": "markdown",
      "metadata": {},
      "source": [
        "## Introduction\n",
        "\n",
        "Internally, all [Findr.jl][1] functions work with matrices or array-based data, and the [DataFrame](https://dataframes.juliadata.org/stable/) based `findr` methods used in the [coexpression analysis](coexpression.qmd), [association analysis](association.qmd), and [causal inference](causal-inference.qmd) tutorials are wrapper functions provided for convenience. If you prefer matrix-based data over DataFrames, you can directly use matrix-based `findr` methods without having to create DataFrames first.\n",
        "\n",
        "## Set up the environment\n"
      ],
      "id": "bb904a2f"
    },
    {
      "cell_type": "code",
      "metadata": {},
      "source": [
        "using DrWatson\n",
        "quickactivate(@__DIR__)\n",
        "\n",
        "using DataFrames\n",
        "using Arrow\n",
        "\n",
        "using Findr"
      ],
      "id": "309925a8",
      "execution_count": null,
      "outputs": []
    },
    {
      "cell_type": "markdown",
      "metadata": {},
      "source": [
        "## Load data\n",
        "\n",
        "Let's pretend our GEUVADIS data is in a matrix-based format:\n"
      ],
      "id": "fbaa4680"
    },
    {
      "cell_type": "code",
      "metadata": {},
      "source": [
        "Xt = Matrix(DataFrame(Arrow.Table(datadir(\"exp_pro\",\"findr-data-geuvadis\", \"dt.arrow\"))));\n",
        "Xm = Matrix(DataFrame(Arrow.Table(datadir(\"exp_pro\",\"findr-data-geuvadis\", \"dm.arrow\"))));\n",
        "Gm = Matrix(DataFrame(Arrow.Table(datadir(\"exp_pro\",\"findr-data-geuvadis\", \"dgm.arrow\"))));"
      ],
      "id": "b7c5895a",
      "execution_count": null,
      "outputs": []
    },
    {
      "cell_type": "markdown",
      "metadata": {},
      "source": [
        "We also need the microRNA eQTL mapping (see the [causal inference tutorial](causal-inference.qmd)), in this case in the form of an array where each row corresponds to a cis-eQTL/eGene pair represented by of a column index of `Gm` (i.e. a SNP) and a column index of `Xm` (i.e. a microRNA). [Recall](causal-inference.qmd) that due to the preprocessing of the [findr-geuvadis][2] data. the column indices are identical, but this will not be the case in general:\n"
      ],
      "id": "c39cf03f"
    },
    {
      "cell_type": "code",
      "metadata": {},
      "source": [
        "mirpairs = zeros(Int32,size(Gm,2),2);\n",
        "for k=1:size(mirpairs,1)\n",
        "    mirpairs[k,:] = [k k]\n",
        "end"
      ],
      "id": "526bd803",
      "execution_count": null,
      "outputs": []
    },
    {
      "cell_type": "markdown",
      "metadata": {},
      "source": [
        "Note that data must be stored in matrices where **columns correspond to variables** (genes, SNPs, etc.) and **rows correspond to observations** (samples).\n",
        "\n",
        "## Run Findr.jl\n",
        "\n",
        "Below, we only show the relevant `findr` commands. Check the corresponding tutorials and [Findr.jl documentation][6] for more details. \n",
        "\n",
        "### Coexpression analysis\n",
        "\n",
        "#### All-vs-all\n",
        "\n",
        "Coexpression analysis on a single matrix returns a square matrix with dimensions equal to the number of variables (columns) in the input matrix:\n"
      ],
      "id": "0cc1ddf8"
    },
    {
      "cell_type": "code",
      "metadata": {},
      "source": [
        "P = findr(Xm)"
      ],
      "id": "b07b7a1e",
      "execution_count": null,
      "outputs": []
    },
    {
      "cell_type": "markdown",
      "metadata": {},
      "source": [
        "In the output, columns correspond to A-genes (causal factors) and rows to B-genes (targets), that is:\n",
        "\n",
        "$$\n",
        "P_{i,j} = P(X_j \\to X_i)\n",
        "$$\n",
        "\n",
        "Note that the diagonal is arbitrarily set to one, Findr cannot make any inferences about the presence or absence of self-regulation!\n",
        "\n",
        "#### Bipartite\n",
        "\n",
        "Analyse coexpression *from* a subset of variables *to* the whole set:\n"
      ],
      "id": "f329231a"
    },
    {
      "cell_type": "code",
      "metadata": {},
      "source": [
        "P = findr(Xm; cols=[1,3,7,50])"
      ],
      "id": "dfabf73b",
      "execution_count": null,
      "outputs": []
    },
    {
      "cell_type": "markdown",
      "metadata": {},
      "source": [
        "Analyse coexpression *from* the variables in `Xm` *to* the variables in `Xt`:\n"
      ],
      "id": "1251a1fd"
    },
    {
      "cell_type": "code",
      "metadata": {},
      "source": [
        "P = findr(Xt,Xm)"
      ],
      "id": "0077bcb6",
      "execution_count": null,
      "outputs": []
    },
    {
      "cell_type": "markdown",
      "metadata": {},
      "source": [
        "### Association analysis\n",
        "\n",
        "Testing associations between eQTL genotypes in `Gm`and microRNA expression levels in `Xm`:\n"
      ],
      "id": "cb4feaf3"
    },
    {
      "cell_type": "code",
      "metadata": {},
      "source": [
        "P = findr(Xm,Gm)"
      ],
      "id": "ad6d041d",
      "execution_count": null,
      "outputs": []
    },
    {
      "cell_type": "markdown",
      "metadata": {},
      "source": [
        "In the output, columns correspond to eQTLs and rows to genes, that is,\n",
        "\n",
        "\n",
        "$$\n",
        "P_{i,j} = P(E_j \\to X_i)\n",
        "$$\n",
        "\n",
        "### Causal inference\n",
        "\n",
        "#### Subset-to-all\n",
        "\n",
        "When you run causal inference with `findr` using matrix-based inputs, the default is to return posterior probabilities for [each test](https://tmichoel.github.io/Findr.jl/dev/realLLR/) separately:\n"
      ],
      "id": "0a0c3de2"
    },
    {
      "cell_type": "code",
      "metadata": {},
      "source": [
        "P = findr(Xm,Gm,mirpairs);"
      ],
      "id": "49b615eb",
      "execution_count": null,
      "outputs": []
    },
    {
      "cell_type": "markdown",
      "metadata": {},
      "source": [
        "Note the dimensions of `P`:\n"
      ],
      "id": "5b3d67f1"
    },
    {
      "cell_type": "code",
      "metadata": {},
      "source": [
        "size(P)"
      ],
      "id": "f6301402",
      "execution_count": null,
      "outputs": []
    },
    {
      "cell_type": "markdown",
      "metadata": {},
      "source": [
        "The third dimension indexes the A-genes (causes), the second dimension the tests (test 2-5, see link above), and the first the B-genes (targets). If you are interested only in a specific combination, use the optional `combination` argument as explained in the [causal inference tutorial](causal-inference.qmd):\n"
      ],
      "id": "ac72d25c"
    },
    {
      "cell_type": "code",
      "metadata": {},
      "source": [
        "P = findr(Xm,Gm,mirpairs; combination=\"IV\");"
      ],
      "id": "439ed92e",
      "execution_count": null,
      "outputs": []
    },
    {
      "cell_type": "markdown",
      "metadata": {},
      "source": [
        "[1]: https://github.com/tmichoel/Findr.jl\n",
        "[2]: https://github.com/lingfeiwang/findr-data-geuvadis\n",
        "[3]: https://doi.org/10.1038/nature12531\n",
        "[4]: https://dataframes.juliadata.org/stable/\n",
        "[5]: https://doi.org/10.1371/journal.pcbi.1005703\n",
        "[6]: https://tmichoel.github.io/Findr.jl/dev/"
      ],
      "id": "d20b4d25"
    }
  ],
  "metadata": {
    "kernelspec": {
      "name": "julia-1.9",
      "language": "julia",
      "display_name": "Julia 1.9.0"
    }
  },
  "nbformat": 4,
  "nbformat_minor": 5
}