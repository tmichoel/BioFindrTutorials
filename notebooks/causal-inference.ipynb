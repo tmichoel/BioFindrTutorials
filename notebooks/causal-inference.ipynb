{
 "cells": [
  {
   "cell_type": "raw",
   "id": "323800fe",
   "metadata": {},
   "source": [
    "---\n",
    "title: Causal inference\n",
    "format:\n",
    "  html:\n",
    "    code-fold: false\n",
    "execute:\n",
    "  cache: true\n",
    "  keep-ipynb: true\n",
    "---"
   ]
  },
  {
   "cell_type": "markdown",
   "id": "7bfeeaa3",
   "metadata": {},
   "source": [
    "## Introduction\n",
    "\n",
    "The primary use of [BioFindr.jl][1] is for causal inference from genomics and transcriptomics data. In causal inference, cis-acting eQTLs are used as causal anchors or instrumental variables to orient the direction of causality between coexpressed genes, see the [Findr paper][5] for more details. As in [coexpression analysis](coexpression.qmd) and [association analysis](association.qmd), the significance of a causal effect is computed using a gene-specific background distribution. This is again achieved by modelling the distribution of test statistics between a given gene $A$ and all other genes $B$ as a [mixture distribution](https://en.wikipedia.org/wiki/Mixture_distribution) of real and null (random) correlations. The relative weight of each component reflects the prior probability of finding a non-null $B$ gene for a given $A$ gene, and is fitted for every $A$ gene separately.\n",
    "\n",
    "Unlike in [coexpression analysis](coexpression.qmd) and [association analysis](association.qmd), causal inference cannot be performed using a single statistical test, but requires the combination of multiple tests. In [BioFindr.jl][1], [six likelihood ratio tests](https://tmichoel.github.io/BioFindr.jl/dev/realLLR/) are implemented, which can be combined in multiple ways for causal inference. Tests are combined by addition or mulitplication of the [posterior probabilities](https://tmichoel.github.io/BioFindr.jl/dev/posteriorprobs/) of individial tests, an approach first proposed in [this paper](https://doi.org/10.1186/gb-2007-8-10-r219).\n",
    "\n",
    "\n",
    "We will illustrate how to run causal inference with [BioFindr.jl][1] using [preprocessed data][2] from the [GEUVADIS study][3]. See the [installation instructions](installation.qmd) for the steps you need to take to reproduce this tutorial.\n",
    "\n",
    "## Set up the environment\n"
   ]
  },
  {
   "cell_type": "code",
   "execution_count": 1,
   "id": "e33f304b",
   "metadata": {},
   "outputs": [],
   "source": [
    "using DrWatson\n",
    "quickactivate(@__DIR__)\n",
    "\n",
    "using DataFrames\n",
    "using Arrow\n",
    "\n",
    "using BioFindr"
   ]
  },
  {
   "cell_type": "markdown",
   "id": "1dbadb43",
   "metadata": {},
   "source": [
    "## Load data\n",
    "\n",
    "### Expression data\n",
    "\n",
    "[BioFindr.jl][1] expects that expression data are stored as [floating-point numbers](https://docs.julialang.org/en/v1/manual/integers-and-floating-point-numbers/) in a [DataFrame][4] where columns correspond to variables (genes) and rows to samples, see the [coexpression analysis tutorial](coexpression.qmd) for more details.\n",
    "\n",
    "This tutorial uses two tables of expression data from the same set of samples, one for mRNA expression data called `dt`, and one for microRNA (miRNA) expression data called `dm`:\n"
   ]
  },
  {
   "cell_type": "code",
   "execution_count": 2,
   "id": "edb04386",
   "metadata": {},
   "outputs": [],
   "source": [
    "dt = DataFrame(Arrow.Table(datadir(\"exp_pro\",\"findr-data-geuvadis\", \"dt.arrow\")));\n",
    "dm = DataFrame(Arrow.Table(datadir(\"exp_pro\",\"findr-data-geuvadis\", \"dm.arrow\")));"
   ]
  },
  {
   "cell_type": "markdown",
   "id": "25668a47",
   "metadata": {},
   "source": [
    "### Genotype data\n",
    "\n",
    "[BioFindr.jl][1] expects that genotype data are stored as [integer numbers](https://docs.julialang.org/en/v1/manual/integers-and-floating-point-numbers/) in a [DataFrame][4] where columns correspond to variables (genetic variants) and rows to samples. [BioFindr.jl][1] uses a categorical model to associate genetic variation to variation in gene expression, hence how different genotypes (e.g. heterozygous vs. homozygous) are encoded as integers does not matter. Future versions will support [scientific types](https://juliaai.github.io/ScientificTypes.jl/dev/) for representing genotype data.\n",
    "\n",
    "This tutorial uses two tables of expression data from the same set of samples, one with genotypes for mRNA eQTLs called `dgt`, and one for microRNA (miRNA) eQTLs called `dgm`:\n"
   ]
  },
  {
   "cell_type": "code",
   "execution_count": 3,
   "id": "3e8c4146",
   "metadata": {},
   "outputs": [],
   "source": [
    "dgt = DataFrame(Arrow.Table(datadir(\"exp_pro\",\"findr-data-geuvadis\", \"dgt.arrow\")));\n",
    "dgm = DataFrame(Arrow.Table(datadir(\"exp_pro\",\"findr-data-geuvadis\", \"dgm.arrow\")));"
   ]
  },
  {
   "cell_type": "markdown",
   "id": "a5815307",
   "metadata": {},
   "source": [
    "### eQTL mapping data\n",
    "\n",
    "The [preprocessed GEUVADIS data][2] has been organized such that each column of the genotype data is the strongest eQTLs for the corresponding column in the matching expression data. Usually however, eQTL mapping data will be available in the form of a table with variant IDs, gene IDs, and various eQTL associaion statistics (see the [original GEUVADIS file](https://www.ebi.ac.uk/biostudies/files/E-GEUV-1/E-GEUV-1/analysis_results/EUR373.gene.cis.FDR5.all.rs137.txt.gz) for an example). [BioFindr.jl][1] expects that such a table is read into a [DataFrame][4], and that only the best (most strongly associated) eQTL is kept for each gene, that is, genes appear only once in the eQTL mapping table. Let's artificially create such tables for our data:\n"
   ]
  },
  {
   "cell_type": "code",
   "execution_count": 4,
   "id": "7fb0df06",
   "metadata": {},
   "outputs": [],
   "source": [
    "dpt = DataFrame(SNP_ID = names(dgt), GENE_ID=names(dt)[1:ncol(dgt)]);\n",
    "dpm = DataFrame(SNP_ID = names(dgm), GENE_ID=names(dm)[1:ncol(dgm)]);"
   ]
  },
  {
   "cell_type": "markdown",
   "id": "77abdfbc",
   "metadata": {},
   "source": [
    "## Run BioFindr.jl\n",
    "\n",
    "### Subset-to-all causal inference\n",
    "\n",
    "In the most common scenario, we have a dataset of gene expression values, with significant cis-eQTL instruments for a subset of genes (\"eGenes\"). We can then infer causal interactions from the eGenes to all other genes (including other eGenes). For instance, to infer causal microRNA $\\to$ microRNA interaction, run:\n"
   ]
  },
  {
   "cell_type": "code",
   "execution_count": 5,
   "id": "e711add7",
   "metadata": {},
   "outputs": [
    {
     "data": {
      "text/html": [
       "<div><div style = \"float: left;\"><span>41×4 DataFrame</span></div><div style = \"float: right;\"><span style = \"font-style: italic;\">16 rows omitted</span></div><div style = \"clear: both;\"></div></div><div class = \"data-frame\" style = \"overflow-x: scroll;\"><table class = \"data-frame\" style = \"margin-bottom: 6px;\"><thead><tr class = \"header\"><th class = \"rowNumber\" style = \"font-weight: bold; text-align: right;\">Row</th><th style = \"text-align: left;\">Source</th><th style = \"text-align: left;\">Target</th><th style = \"text-align: left;\">Probability</th><th style = \"text-align: left;\">qvalue</th></tr><tr class = \"subheader headerLastRow\"><th class = \"rowNumber\" style = \"font-weight: bold; text-align: right;\"></th><th title = \"String\" style = \"text-align: left;\">String</th><th title = \"String\" style = \"text-align: left;\">String</th><th title = \"Float64\" style = \"text-align: left;\">Float64</th><th title = \"Float64\" style = \"text-align: left;\">Float64</th></tr></thead><tbody><tr><td class = \"rowNumber\" style = \"font-weight: bold; text-align: right;\">1</td><td style = \"text-align: left;\">hsa-miR-550a-2-5p</td><td style = \"text-align: left;\">hsa-miR-550a-3-5p</td><td style = \"text-align: right;\">1.0</td><td style = \"text-align: right;\">0.0</td></tr><tr><td class = \"rowNumber\" style = \"font-weight: bold; text-align: right;\">2</td><td style = \"text-align: left;\">hsa-miR-96-5p</td><td style = \"text-align: left;\">hsa-miR-182-5p</td><td style = \"text-align: right;\">1.0</td><td style = \"text-align: right;\">4.81948e-13</td></tr><tr><td class = \"rowNumber\" style = \"font-weight: bold; text-align: right;\">3</td><td style = \"text-align: left;\">hsa-miR-550a-2-5p</td><td style = \"text-align: left;\">hsa-miR-550a-2-3p</td><td style = \"text-align: right;\">1.0</td><td style = \"text-align: right;\">2.53784e-11</td></tr><tr><td class = \"rowNumber\" style = \"font-weight: bold; text-align: right;\">4</td><td style = \"text-align: left;\">hsa-miR-3130-1-5p</td><td style = \"text-align: left;\">hsa-miR-3130-2-5p</td><td style = \"text-align: right;\">1.0</td><td style = \"text-align: right;\">1.04578e-10</td></tr><tr><td class = \"rowNumber\" style = \"font-weight: bold; text-align: right;\">5</td><td style = \"text-align: left;\">hsa-miR-550a-2-3p</td><td style = \"text-align: left;\">hsa-miR-550a-3-5p</td><td style = \"text-align: right;\">1.0</td><td style = \"text-align: right;\">1.5224e-10</td></tr><tr><td class = \"rowNumber\" style = \"font-weight: bold; text-align: right;\">6</td><td style = \"text-align: left;\">hsa-miR-550a-2-3p</td><td style = \"text-align: left;\">hsa-miR-550a-2-5p</td><td style = \"text-align: right;\">1.0</td><td style = \"text-align: right;\">4.87261e-10</td></tr><tr><td class = \"rowNumber\" style = \"font-weight: bold; text-align: right;\">7</td><td style = \"text-align: left;\">hsa-miR-183-5p</td><td style = \"text-align: left;\">hsa-miR-182-5p</td><td style = \"text-align: right;\">1.0</td><td style = \"text-align: right;\">5.45614e-9</td></tr><tr><td class = \"rowNumber\" style = \"font-weight: bold; text-align: right;\">8</td><td style = \"text-align: left;\">hsa-miR-30a-3p</td><td style = \"text-align: left;\">hsa-miR-30a-5p</td><td style = \"text-align: right;\">1.0</td><td style = \"text-align: right;\">4.29665e-8</td></tr><tr><td class = \"rowNumber\" style = \"font-weight: bold; text-align: right;\">9</td><td style = \"text-align: left;\">hsa-miR-574-5p</td><td style = \"text-align: left;\">hsa-miR-574-3p</td><td style = \"text-align: right;\">0.999994</td><td style = \"text-align: right;\">6.6706e-7</td></tr><tr><td class = \"rowNumber\" style = \"font-weight: bold; text-align: right;\">10</td><td style = \"text-align: left;\">hsa-miR-335-5p</td><td style = \"text-align: left;\">hsa-miR-335-3p</td><td style = \"text-align: right;\">0.999991</td><td style = \"text-align: right;\">1.51939e-6</td></tr><tr><td class = \"rowNumber\" style = \"font-weight: bold; text-align: right;\">11</td><td style = \"text-align: left;\">hsa-miR-30a-5p</td><td style = \"text-align: left;\">hsa-miR-30a-3p</td><td style = \"text-align: right;\">0.999986</td><td style = \"text-align: right;\">2.61404e-6</td></tr><tr><td class = \"rowNumber\" style = \"font-weight: bold; text-align: right;\">12</td><td style = \"text-align: left;\">hsa-miR-200a-3p</td><td style = \"text-align: left;\">hsa-miR-200b-3p</td><td style = \"text-align: right;\">0.999981</td><td style = \"text-align: right;\">3.95989e-6</td></tr><tr><td class = \"rowNumber\" style = \"font-weight: bold; text-align: right;\">13</td><td style = \"text-align: left;\">hsa-miR-2116-5p</td><td style = \"text-align: left;\">hsa-miR-2116-3p</td><td style = \"text-align: right;\">0.999885</td><td style = \"text-align: right;\">1.24838e-5</td></tr><tr><td style = \"text-align: right;\">&vellip;</td><td style = \"text-align: right;\">&vellip;</td><td style = \"text-align: right;\">&vellip;</td><td style = \"text-align: right;\">&vellip;</td><td style = \"text-align: right;\">&vellip;</td></tr><tr><td class = \"rowNumber\" style = \"font-weight: bold; text-align: right;\">30</td><td style = \"text-align: left;\">hsa-miR-589-5p</td><td style = \"text-align: left;\">hsa-miR-128-2-3p</td><td style = \"text-align: right;\">0.800821</td><td style = \"text-align: right;\">0.0406675</td></tr><tr><td class = \"rowNumber\" style = \"font-weight: bold; text-align: right;\">31</td><td style = \"text-align: left;\">hsa-miR-3176-3p</td><td style = \"text-align: left;\">hsa-miR-19a-3p</td><td style = \"text-align: right;\">0.797987</td><td style = \"text-align: right;\">0.0458722</td></tr><tr><td class = \"rowNumber\" style = \"font-weight: bold; text-align: right;\">32</td><td style = \"text-align: left;\">hsa-miR-193b-3p</td><td style = \"text-align: left;\">hsa-miR-320b-2-3p</td><td style = \"text-align: right;\">0.766986</td><td style = \"text-align: right;\">0.0517204</td></tr><tr><td class = \"rowNumber\" style = \"font-weight: bold; text-align: right;\">33</td><td style = \"text-align: left;\">hsa-miR-193b-3p</td><td style = \"text-align: left;\">hsa-miR-615-3p</td><td style = \"text-align: right;\">0.760159</td><td style = \"text-align: right;\">0.057421</td></tr><tr><td class = \"rowNumber\" style = \"font-weight: bold; text-align: right;\">34</td><td style = \"text-align: left;\">hsa-miR-193b-3p</td><td style = \"text-align: left;\">hsa-miR-3944-3p</td><td style = \"text-align: right;\">0.760018</td><td style = \"text-align: right;\">0.0627904</td></tr><tr><td class = \"rowNumber\" style = \"font-weight: bold; text-align: right;\">35</td><td style = \"text-align: left;\">hsa-miR-339-5p</td><td style = \"text-align: left;\">hsa-miR-339-3p</td><td style = \"text-align: right;\">0.746762</td><td style = \"text-align: right;\">0.0682318</td></tr><tr><td class = \"rowNumber\" style = \"font-weight: bold; text-align: right;\">36</td><td style = \"text-align: left;\">hsa-miR-193b-3p</td><td style = \"text-align: left;\">hsa-miR-320b-1-3p</td><td style = \"text-align: right;\">0.740647</td><td style = \"text-align: right;\">0.0735407</td></tr><tr><td class = \"rowNumber\" style = \"font-weight: bold; text-align: right;\">37</td><td style = \"text-align: left;\">hsa-let-7b-5p</td><td style = \"text-align: left;\">hsa-let-7b-3p</td><td style = \"text-align: right;\">0.734285</td><td style = \"text-align: right;\">0.0787346</td></tr><tr><td class = \"rowNumber\" style = \"font-weight: bold; text-align: right;\">38</td><td style = \"text-align: left;\">hsa-miR-3176-3p</td><td style = \"text-align: left;\">hsa-miR-3181-5p</td><td style = \"text-align: right;\">0.732608</td><td style = \"text-align: right;\">0.0836993</td></tr><tr><td class = \"rowNumber\" style = \"font-weight: bold; text-align: right;\">39</td><td style = \"text-align: left;\">hsa-miR-1304-3p</td><td style = \"text-align: left;\">hsa-miR-548ar-5p</td><td style = \"text-align: right;\">0.729668</td><td style = \"text-align: right;\">0.0884848</td></tr><tr><td class = \"rowNumber\" style = \"font-weight: bold; text-align: right;\">40</td><td style = \"text-align: left;\">hsa-miR-1307-5p</td><td style = \"text-align: left;\">hsa-miR-1307-3p</td><td style = \"text-align: right;\">0.713498</td><td style = \"text-align: right;\">0.0934352</td></tr><tr><td class = \"rowNumber\" style = \"font-weight: bold; text-align: right;\">41</td><td style = \"text-align: left;\">hsa-miR-3176-3p</td><td style = \"text-align: left;\">hsa-miR-24-1-3p</td><td style = \"text-align: right;\">0.701225</td><td style = \"text-align: right;\">0.0984435</td></tr></tbody></table></div>"
      ],
      "text/latex": [
       "\\begin{tabular}{r|cccc}\n",
       "\t& Source & Target & Probability & qvalue\\\\\n",
       "\t\\hline\n",
       "\t& String & String & Float64 & Float64\\\\\n",
       "\t\\hline\n",
       "\t1 & hsa-miR-550a-2-5p & hsa-miR-550a-3-5p & 1.0 & 0.0 \\\\\n",
       "\t2 & hsa-miR-96-5p & hsa-miR-182-5p & 1.0 & 4.81948e-13 \\\\\n",
       "\t3 & hsa-miR-550a-2-5p & hsa-miR-550a-2-3p & 1.0 & 2.53784e-11 \\\\\n",
       "\t4 & hsa-miR-3130-1-5p & hsa-miR-3130-2-5p & 1.0 & 1.04578e-10 \\\\\n",
       "\t5 & hsa-miR-550a-2-3p & hsa-miR-550a-3-5p & 1.0 & 1.5224e-10 \\\\\n",
       "\t6 & hsa-miR-550a-2-3p & hsa-miR-550a-2-5p & 1.0 & 4.87261e-10 \\\\\n",
       "\t7 & hsa-miR-183-5p & hsa-miR-182-5p & 1.0 & 5.45614e-9 \\\\\n",
       "\t8 & hsa-miR-30a-3p & hsa-miR-30a-5p & 1.0 & 4.29665e-8 \\\\\n",
       "\t9 & hsa-miR-574-5p & hsa-miR-574-3p & 0.999994 & 6.6706e-7 \\\\\n",
       "\t10 & hsa-miR-335-5p & hsa-miR-335-3p & 0.999991 & 1.51939e-6 \\\\\n",
       "\t11 & hsa-miR-30a-5p & hsa-miR-30a-3p & 0.999986 & 2.61404e-6 \\\\\n",
       "\t12 & hsa-miR-200a-3p & hsa-miR-200b-3p & 0.999981 & 3.95989e-6 \\\\\n",
       "\t13 & hsa-miR-2116-5p & hsa-miR-2116-3p & 0.999885 & 1.24838e-5 \\\\\n",
       "\t14 & hsa-miR-2116-3p & hsa-miR-2116-5p & 0.999786 & 2.68546e-5 \\\\\n",
       "\t15 & hsa-miR-335-3p & hsa-miR-335-5p & 0.999033 & 8.95394e-5 \\\\\n",
       "\t16 & hsa-miR-574-3p & hsa-miR-574-5p & 0.998273 & 0.000191869 \\\\\n",
       "\t17 & hsa-miR-3130-2-5p & hsa-miR-3130-1-5p & 0.998029 & 0.000296524 \\\\\n",
       "\t18 & hsa-miR-183-5p & hsa-miR-96-5p & 0.994008 & 0.000612926 \\\\\n",
       "\t19 & hsa-miR-182-5p & hsa-miR-96-5p & 0.99266 & 0.00096696 \\\\\n",
       "\t20 & hsa-miR-182-5p & hsa-miR-183-5p & 0.990102 & 0.00141349 \\\\\n",
       "\t21 & hsa-miR-1908-3p & hsa-miR-1908-5p & 0.932738 & 0.00454914 \\\\\n",
       "\t22 & hsa-miR-193b-3p & hsa-miR-345-5p & 0.926065 & 0.00770305 \\\\\n",
       "\t23 & hsa-miR-1908-5p & hsa-miR-1908-3p & 0.919118 & 0.0108848 \\\\\n",
       "\t24 & hsa-miR-193b-3p & hsa-miR-193b-5p & 0.904251 & 0.0144208 \\\\\n",
       "\t25 & hsa-miR-3176-3p & hsa-miR-19b-1-3p & 0.891698 & 0.018176 \\\\\n",
       "\t26 & hsa-miR-3667-5p & hsa-miR-3667-3p & 0.880633 & 0.022068 \\\\\n",
       "\t27 & hsa-miR-3667-3p & hsa-miR-3667-5p & 0.853765 & 0.0266668 \\\\\n",
       "\t28 & hsa-miR-3176-3p & hsa-miR-548ac-5p & 0.85068 & 0.0310473 \\\\\n",
       "\t29 & hsa-miR-589-5p & hsa-miR-128-1-3p & 0.848478 & 0.0352016 \\\\\n",
       "\t30 & hsa-miR-589-5p & hsa-miR-128-2-3p & 0.800821 & 0.0406675 \\\\\n",
       "\t$\\dots$ & $\\dots$ & $\\dots$ & $\\dots$ & $\\dots$ \\\\\n",
       "\\end{tabular}\n"
      ],
      "text/plain": [
       "\u001b[1m41×4 DataFrame\u001b[0m\n",
       "\u001b[1m Row \u001b[0m│\u001b[1m Source            \u001b[0m\u001b[1m Target            \u001b[0m\u001b[1m Probability \u001b[0m\u001b[1m qvalue      \u001b[0m\n",
       "     │\u001b[90m String            \u001b[0m\u001b[90m String            \u001b[0m\u001b[90m Float64     \u001b[0m\u001b[90m Float64     \u001b[0m\n",
       "─────┼────────────────────────────────────────────────────────────────\n",
       "   1 │ hsa-miR-550a-2-5p  hsa-miR-550a-3-5p     1.0       0.0\n",
       "   2 │ hsa-miR-96-5p      hsa-miR-182-5p        1.0       4.81948e-13\n",
       "   3 │ hsa-miR-550a-2-5p  hsa-miR-550a-2-3p     1.0       2.53784e-11\n",
       "   4 │ hsa-miR-3130-1-5p  hsa-miR-3130-2-5p     1.0       1.04578e-10\n",
       "   5 │ hsa-miR-550a-2-3p  hsa-miR-550a-3-5p     1.0       1.5224e-10\n",
       "   6 │ hsa-miR-550a-2-3p  hsa-miR-550a-2-5p     1.0       4.87261e-10\n",
       "   7 │ hsa-miR-183-5p     hsa-miR-182-5p        1.0       5.45614e-9\n",
       "   8 │ hsa-miR-30a-3p     hsa-miR-30a-5p        1.0       4.29665e-8\n",
       "   9 │ hsa-miR-574-5p     hsa-miR-574-3p        0.999994  6.6706e-7\n",
       "  10 │ hsa-miR-335-5p     hsa-miR-335-3p        0.999991  1.51939e-6\n",
       "  11 │ hsa-miR-30a-5p     hsa-miR-30a-3p        0.999986  2.61404e-6\n",
       "  ⋮  │         ⋮                  ⋮               ⋮            ⋮\n",
       "  32 │ hsa-miR-193b-3p    hsa-miR-320b-2-3p     0.766986  0.0517204\n",
       "  33 │ hsa-miR-193b-3p    hsa-miR-615-3p        0.760159  0.057421\n",
       "  34 │ hsa-miR-193b-3p    hsa-miR-3944-3p       0.760018  0.0627904\n",
       "  35 │ hsa-miR-339-5p     hsa-miR-339-3p        0.746762  0.0682318\n",
       "  36 │ hsa-miR-193b-3p    hsa-miR-320b-1-3p     0.740647  0.0735407\n",
       "  37 │ hsa-let-7b-5p      hsa-let-7b-3p         0.734285  0.0787346\n",
       "  38 │ hsa-miR-3176-3p    hsa-miR-3181-5p       0.732608  0.0836993\n",
       "  39 │ hsa-miR-1304-3p    hsa-miR-548ar-5p      0.729668  0.0884848\n",
       "  40 │ hsa-miR-1307-5p    hsa-miR-1307-3p       0.713498  0.0934352\n",
       "  41 │ hsa-miR-3176-3p    hsa-miR-24-1-3p       0.701225  0.0984435\n",
       "\u001b[36m                                                       20 rows omitted\u001b[0m"
      ]
     },
     "execution_count": 6,
     "metadata": {},
     "output_type": "execute_result"
    }
   ],
   "source": [
    "dP = findr(dm, dgm, dpm; FDR=0.1)"
   ]
  },
  {
   "cell_type": "markdown",
   "id": "bf3bed08",
   "metadata": {},
   "source": [
    "BioFindr computes a [posterior probability](https://tmichoel.github.io/BioFindr.jl/dev/posteriorprobs/) of a non-zero causal interaction for every pair pf **Source** and **Target** genes (columns of `dm`). The possible **Source** genes are the eGenes, the subset of genes with cis-eQTLs (columns of `dgm`), as defined by the eQTL-to-gene mapping in `dpm`.\n",
    "\n",
    "By default the output is sorted by decreasing **Probability**. The optional parameter **FDR** can be used to limit the output to the set of pairs that has a [global false discovery rate (FDR)](https://en.wikipedia.org/wiki/False_discovery_rate#Storey-Tibshirani_procedure) less than a desired value (here set to 10%). The **qvalue** column in the output can be used for further filtering of the output, see the [coexpression analysis tutorial](coexpression.qmd) for more details.\n",
    "\n",
    "Note the order of input arguments: first `dm`, the expression data, then `dgm`, the genotype data, and then `dpm`, the eQTL mapping of variants to eGenes.\n",
    "\n",
    "By default, BioFindr assumes that the first column of `dpm` is a list of variant names that can be found in the column names of `dgm`, and that the second column of `dpm` is a list of gene names that can be found in the column names of `dm`:\n"
   ]
  },
  {
   "cell_type": "code",
   "execution_count": 6,
   "id": "ec934df7",
   "metadata": {},
   "outputs": [
    {
     "data": {
      "text/html": [
       "<div><div style = \"float: left;\"><span>55×2 DataFrame</span></div><div style = \"float: right;\"><span style = \"font-style: italic;\">30 rows omitted</span></div><div style = \"clear: both;\"></div></div><div class = \"data-frame\" style = \"overflow-x: scroll;\"><table class = \"data-frame\" style = \"margin-bottom: 6px;\"><thead><tr class = \"header\"><th class = \"rowNumber\" style = \"font-weight: bold; text-align: right;\">Row</th><th style = \"text-align: left;\">SNP_ID</th><th style = \"text-align: left;\">GENE_ID</th></tr><tr class = \"subheader headerLastRow\"><th class = \"rowNumber\" style = \"font-weight: bold; text-align: right;\"></th><th title = \"String\" style = \"text-align: left;\">String</th><th title = \"String\" style = \"text-align: left;\">String</th></tr></thead><tbody><tr><td class = \"rowNumber\" style = \"font-weight: bold; text-align: right;\">1</td><td style = \"text-align: left;\">rs201731283</td><td style = \"text-align: left;\">hsa-miR-4804-5p</td></tr><tr><td class = \"rowNumber\" style = \"font-weight: bold; text-align: right;\">2</td><td style = \"text-align: left;\">rs73933236</td><td style = \"text-align: left;\">hsa-miR-641-5p</td></tr><tr><td class = \"rowNumber\" style = \"font-weight: bold; text-align: right;\">3</td><td style = \"text-align: left;\">rs17269517</td><td style = \"text-align: left;\">hsa-miR-2116-3p</td></tr><tr><td class = \"rowNumber\" style = \"font-weight: bold; text-align: right;\">4</td><td style = \"text-align: left;\">rs2273626</td><td style = \"text-align: left;\">hsa-miR-4707-3p</td></tr><tr><td class = \"rowNumber\" style = \"font-weight: bold; text-align: right;\">5</td><td style = \"text-align: left;\">rs174559</td><td style = \"text-align: left;\">hsa-miR-1908-5p</td></tr><tr><td class = \"rowNumber\" style = \"font-weight: bold; text-align: right;\">6</td><td style = \"text-align: left;\">rs7095504</td><td style = \"text-align: left;\">hsa-miR-2110-5p</td></tr><tr><td class = \"rowNumber\" style = \"font-weight: bold; text-align: right;\">7</td><td style = \"text-align: left;\">rs2583391</td><td style = \"text-align: left;\">hsa-miR-1255a-5p</td></tr><tr><td class = \"rowNumber\" style = \"font-weight: bold; text-align: right;\">8</td><td style = \"text-align: left;\">rs5743580</td><td style = \"text-align: left;\">hsa-miR-574-3p</td></tr><tr><td class = \"rowNumber\" style = \"font-weight: bold; text-align: right;\">9</td><td style = \"text-align: left;\">rs143756085</td><td style = \"text-align: left;\">hsa-miR-1270-2-5p</td></tr><tr><td class = \"rowNumber\" style = \"font-weight: bold; text-align: right;\">10</td><td style = \"text-align: left;\">rs17269517_1</td><td style = \"text-align: left;\">hsa-miR-2116-5p</td></tr><tr><td class = \"rowNumber\" style = \"font-weight: bold; text-align: right;\">11</td><td style = \"text-align: left;\">rs11191968</td><td style = \"text-align: left;\">hsa-miR-4482-1-3p</td></tr><tr><td class = \"rowNumber\" style = \"font-weight: bold; text-align: right;\">12</td><td style = \"text-align: left;\">rs8141807</td><td style = \"text-align: left;\">hsa-miR-3667-5p</td></tr><tr><td class = \"rowNumber\" style = \"font-weight: bold; text-align: right;\">13</td><td style = \"text-align: left;\">rs648571</td><td style = \"text-align: left;\">hsa-miR-5680-3p</td></tr><tr><td style = \"text-align: right;\">&vellip;</td><td style = \"text-align: right;\">&vellip;</td><td style = \"text-align: right;\">&vellip;</td></tr><tr><td class = \"rowNumber\" style = \"font-weight: bold; text-align: right;\">44</td><td style = \"text-align: left;\">rs1378942</td><td style = \"text-align: left;\">hsa-miR-4513-5p</td></tr><tr><td class = \"rowNumber\" style = \"font-weight: bold; text-align: right;\">45</td><td style = \"text-align: left;\">rs768533_1</td><td style = \"text-align: left;\">hsa-miR-3130-1-5p</td></tr><tr><td class = \"rowNumber\" style = \"font-weight: bold; text-align: right;\">46</td><td style = \"text-align: left;\">rs78562044</td><td style = \"text-align: left;\">hsa-miR-30a-3p</td></tr><tr><td class = \"rowNumber\" style = \"font-weight: bold; text-align: right;\">47</td><td style = \"text-align: left;\">rs35671783</td><td style = \"text-align: left;\">hsa-miR-1304-3p</td></tr><tr><td class = \"rowNumber\" style = \"font-weight: bold; text-align: right;\">48</td><td style = \"text-align: left;\">rs2537621</td><td style = \"text-align: left;\">hsa-miR-589-5p</td></tr><tr><td class = \"rowNumber\" style = \"font-weight: bold; text-align: right;\">49</td><td style = \"text-align: left;\">rs6462386</td><td style = \"text-align: left;\">hsa-miR-550a-2-3p</td></tr><tr><td class = \"rowNumber\" style = \"font-weight: bold; text-align: right;\">50</td><td style = \"text-align: left;\">rs745666</td><td style = \"text-align: left;\">hsa-miR-3615-3p</td></tr><tr><td class = \"rowNumber\" style = \"font-weight: bold; text-align: right;\">51</td><td style = \"text-align: left;\">rs817478</td><td style = \"text-align: left;\">hsa-miR-4423-5p</td></tr><tr><td class = \"rowNumber\" style = \"font-weight: bold; text-align: right;\">52</td><td style = \"text-align: left;\">rs73054305</td><td style = \"text-align: left;\">hsa-miR-642a-5p</td></tr><tr><td class = \"rowNumber\" style = \"font-weight: bold; text-align: right;\">53</td><td style = \"text-align: left;\">rs3807344_1</td><td style = \"text-align: left;\">hsa-miR-335-3p</td></tr><tr><td class = \"rowNumber\" style = \"font-weight: bold; text-align: right;\">54</td><td style = \"text-align: left;\">rs4393680</td><td style = \"text-align: left;\">hsa-miR-4741-3p</td></tr><tr><td class = \"rowNumber\" style = \"font-weight: bold; text-align: right;\">55</td><td style = \"text-align: left;\">rs2583392</td><td style = \"text-align: left;\">hsa-miR-1255a-3p</td></tr></tbody></table></div>"
      ],
      "text/latex": [
       "\\begin{tabular}{r|cc}\n",
       "\t& SNP\\_ID & GENE\\_ID\\\\\n",
       "\t\\hline\n",
       "\t& String & String\\\\\n",
       "\t\\hline\n",
       "\t1 & rs201731283 & hsa-miR-4804-5p \\\\\n",
       "\t2 & rs73933236 & hsa-miR-641-5p \\\\\n",
       "\t3 & rs17269517 & hsa-miR-2116-3p \\\\\n",
       "\t4 & rs2273626 & hsa-miR-4707-3p \\\\\n",
       "\t5 & rs174559 & hsa-miR-1908-5p \\\\\n",
       "\t6 & rs7095504 & hsa-miR-2110-5p \\\\\n",
       "\t7 & rs2583391 & hsa-miR-1255a-5p \\\\\n",
       "\t8 & rs5743580 & hsa-miR-574-3p \\\\\n",
       "\t9 & rs143756085 & hsa-miR-1270-2-5p \\\\\n",
       "\t10 & rs17269517\\_1 & hsa-miR-2116-5p \\\\\n",
       "\t11 & rs11191968 & hsa-miR-4482-1-3p \\\\\n",
       "\t12 & rs8141807 & hsa-miR-3667-5p \\\\\n",
       "\t13 & rs648571 & hsa-miR-5680-3p \\\\\n",
       "\t14 & rs71532525 & hsa-miR-550a-2-5p \\\\\n",
       "\t15 & rs13163017 & hsa-miR-1294-5p \\\\\n",
       "\t16 & rs768533 & hsa-miR-3130-2-5p \\\\\n",
       "\t17 & rs5792235 & hsa-miR-1908-3p \\\\\n",
       "\t18 & rs6584542 & hsa-miR-1307-5p \\\\\n",
       "\t19 & rs6987762 & hsa-miR-3150b-3p \\\\\n",
       "\t20 & rs3744749 & hsa-let-7b-5p \\\\\n",
       "\t21 & rs2271751 & hsa-miR-1307-3p \\\\\n",
       "\t22 & indel:3I\\_20\\_62542026 & hsa-miR-941-3-5p \\\\\n",
       "\t23 & rs200458935 & hsa-miR-96-5p \\\\\n",
       "\t24 & rs11583992 & hsa-miR-200b-3p \\\\\n",
       "\t25 & rs395651 & hsa-miR-3940-3p \\\\\n",
       "\t26 & rs10426084 & hsa-miR-4745-5p \\\\\n",
       "\t27 & rs9616333 & hsa-miR-3667-3p \\\\\n",
       "\t28 & rs2961920 & hsa-miR-146a-3p \\\\\n",
       "\t29 & rs12635864 & hsa-miR-4446-3p \\\\\n",
       "\t30 & rs4926170 & hsa-miR-181c-5p \\\\\n",
       "\t$\\dots$ & $\\dots$ & $\\dots$ \\\\\n",
       "\\end{tabular}\n"
      ],
      "text/plain": [
       "\u001b[1m55×2 DataFrame\u001b[0m\n",
       "\u001b[1m Row \u001b[0m│\u001b[1m SNP_ID       \u001b[0m\u001b[1m GENE_ID           \u001b[0m\n",
       "     │\u001b[90m String       \u001b[0m\u001b[90m String            \u001b[0m\n",
       "─────┼─────────────────────────────────\n",
       "   1 │ rs201731283   hsa-miR-4804-5p\n",
       "   2 │ rs73933236    hsa-miR-641-5p\n",
       "   3 │ rs17269517    hsa-miR-2116-3p\n",
       "   4 │ rs2273626     hsa-miR-4707-3p\n",
       "   5 │ rs174559      hsa-miR-1908-5p\n",
       "   6 │ rs7095504     hsa-miR-2110-5p\n",
       "   7 │ rs2583391     hsa-miR-1255a-5p\n",
       "   8 │ rs5743580     hsa-miR-574-3p\n",
       "   9 │ rs143756085   hsa-miR-1270-2-5p\n",
       "  10 │ rs17269517_1  hsa-miR-2116-5p\n",
       "  11 │ rs11191968    hsa-miR-4482-1-3p\n",
       "  ⋮  │      ⋮                ⋮\n",
       "  46 │ rs78562044    hsa-miR-30a-3p\n",
       "  47 │ rs35671783    hsa-miR-1304-3p\n",
       "  48 │ rs2537621     hsa-miR-589-5p\n",
       "  49 │ rs6462386     hsa-miR-550a-2-3p\n",
       "  50 │ rs745666      hsa-miR-3615-3p\n",
       "  51 │ rs817478      hsa-miR-4423-5p\n",
       "  52 │ rs73054305    hsa-miR-642a-5p\n",
       "  53 │ rs3807344_1   hsa-miR-335-3p\n",
       "  54 │ rs4393680     hsa-miR-4741-3p\n",
       "  55 │ rs2583392     hsa-miR-1255a-3p\n",
       "\u001b[36m                        34 rows omitted\u001b[0m"
      ]
     },
     "execution_count": 7,
     "metadata": {},
     "output_type": "execute_result"
    }
   ],
   "source": [
    "dpm"
   ]
  },
  {
   "cell_type": "markdown",
   "id": "76890a3e",
   "metadata": {},
   "source": [
    "If your eQTL mapping DataFrame has the relevant columns in a different place, you need to use the optional arguments `colX` (for the gene expression IDs) and `colG` (for the eQTL genotype IDs) to specify either the relevant columns index or name:\n"
   ]
  },
  {
   "cell_type": "code",
   "execution_count": 7,
   "id": "a4bca1c7",
   "metadata": {},
   "outputs": [],
   "source": [
    "dP = findr(dm, dgm, dpm; colX=2, colG=1, FDR=0.1);"
   ]
  },
  {
   "cell_type": "markdown",
   "id": "1a1e72bc",
   "metadata": {},
   "source": [
    "or\n"
   ]
  },
  {
   "cell_type": "code",
   "execution_count": 8,
   "id": "feab5ce7",
   "metadata": {},
   "outputs": [],
   "source": [
    "dP = findr(dm, dgm, dpm; colX=\"GENE_ID\", colG=\"SNP_ID\", FDR=0.1);"
   ]
  },
  {
   "cell_type": "markdown",
   "id": "473d1540",
   "metadata": {},
   "source": [
    "Any other columns in the eQTL mapping DataFrame (such as association summary statistics) are ignored.\n",
    "\n",
    "### Bipartite causal inference\n",
    "\n",
    "In some applications, we have multiple omics datasets from the same samples, and may be interested in causal inference from one set of variables to another one. In the GEUVADIS study for instance, we may be interested in inferring causal interactions between microRNAs and target genes. To infer interactions *from* microRNAs *to* mRNAs, run:\n"
   ]
  },
  {
   "cell_type": "code",
   "execution_count": 9,
   "id": "914e462f",
   "metadata": {},
   "outputs": [
    {
     "data": {
      "text/html": [
       "<div><div style = \"float: left;\"><span>36×4 DataFrame</span></div><div style = \"float: right;\"><span style = \"font-style: italic;\">11 rows omitted</span></div><div style = \"clear: both;\"></div></div><div class = \"data-frame\" style = \"overflow-x: scroll;\"><table class = \"data-frame\" style = \"margin-bottom: 6px;\"><thead><tr class = \"header\"><th class = \"rowNumber\" style = \"font-weight: bold; text-align: right;\">Row</th><th style = \"text-align: left;\">Source</th><th style = \"text-align: left;\">Target</th><th style = \"text-align: left;\">Probability</th><th style = \"text-align: left;\">qvalue</th></tr><tr class = \"subheader headerLastRow\"><th class = \"rowNumber\" style = \"font-weight: bold; text-align: right;\"></th><th title = \"String\" style = \"text-align: left;\">String</th><th title = \"String\" style = \"text-align: left;\">String</th><th title = \"Float64\" style = \"text-align: left;\">Float64</th><th title = \"Float64\" style = \"text-align: left;\">Float64</th></tr></thead><tbody><tr><td class = \"rowNumber\" style = \"font-weight: bold; text-align: right;\">1</td><td style = \"text-align: left;\">hsa-miR-335-5p</td><td style = \"text-align: left;\">ENSG00000128510.5</td><td style = \"text-align: right;\">1.0</td><td style = \"text-align: right;\">0.0</td></tr><tr><td class = \"rowNumber\" style = \"font-weight: bold; text-align: right;\">2</td><td style = \"text-align: left;\">hsa-miR-335-3p</td><td style = \"text-align: left;\">ENSG00000128510.5</td><td style = \"text-align: right;\">1.0</td><td style = \"text-align: right;\">0.0</td></tr><tr><td class = \"rowNumber\" style = \"font-weight: bold; text-align: right;\">3</td><td style = \"text-align: left;\">hsa-miR-3150b-3p</td><td style = \"text-align: left;\">ENSG00000245080.3</td><td style = \"text-align: right;\">1.0</td><td style = \"text-align: right;\">3.4931e-8</td></tr><tr><td class = \"rowNumber\" style = \"font-weight: bold; text-align: right;\">4</td><td style = \"text-align: left;\">hsa-miR-345-5p</td><td style = \"text-align: left;\">ENSG00000258504.1</td><td style = \"text-align: right;\">1.0</td><td style = \"text-align: right;\">1.39759e-7</td></tr><tr><td class = \"rowNumber\" style = \"font-weight: bold; text-align: right;\">5</td><td style = \"text-align: left;\">hsa-miR-345-5p</td><td style = \"text-align: left;\">ENSG00000197119.7</td><td style = \"text-align: right;\">0.999992</td><td style = \"text-align: right;\">1.70218e-6</td></tr><tr><td class = \"rowNumber\" style = \"font-weight: bold; text-align: right;\">6</td><td style = \"text-align: left;\">hsa-let-7b-5p</td><td style = \"text-align: left;\">ENSG00000241990.1</td><td style = \"text-align: right;\">0.999987</td><td style = \"text-align: right;\">3.63495e-6</td></tr><tr><td class = \"rowNumber\" style = \"font-weight: bold; text-align: right;\">7</td><td style = \"text-align: left;\">hsa-miR-574-3p</td><td style = \"text-align: left;\">ENSG00000197712.6</td><td style = \"text-align: right;\">0.999967</td><td style = \"text-align: right;\">7.86251e-6</td></tr><tr><td class = \"rowNumber\" style = \"font-weight: bold; text-align: right;\">8</td><td style = \"text-align: left;\">hsa-miR-574-5p</td><td style = \"text-align: left;\">ENSG00000197712.6</td><td style = \"text-align: right;\">0.999965</td><td style = \"text-align: right;\">1.12617e-5</td></tr><tr><td class = \"rowNumber\" style = \"font-weight: bold; text-align: right;\">9</td><td style = \"text-align: left;\">hsa-let-7b-5p</td><td style = \"text-align: left;\">ENSG00000197182.8</td><td style = \"text-align: right;\">0.999911</td><td style = \"text-align: right;\">1.99429e-5</td></tr><tr><td class = \"rowNumber\" style = \"font-weight: bold; text-align: right;\">10</td><td style = \"text-align: left;\">hsa-miR-1270-2-5p</td><td style = \"text-align: left;\">ENSG00000231205.6</td><td style = \"text-align: right;\">0.998541</td><td style = \"text-align: right;\">0.0001638</td></tr><tr><td class = \"rowNumber\" style = \"font-weight: bold; text-align: right;\">11</td><td style = \"text-align: left;\">hsa-miR-3150b-3p</td><td style = \"text-align: left;\">ENSG00000175895.3</td><td style = \"text-align: right;\">0.997247</td><td style = \"text-align: right;\">0.000399176</td></tr><tr><td class = \"rowNumber\" style = \"font-weight: bold; text-align: right;\">12</td><td style = \"text-align: left;\">hsa-miR-335-5p</td><td style = \"text-align: left;\">ENSG00000106484.8</td><td style = \"text-align: right;\">0.991704</td><td style = \"text-align: right;\">0.00105721</td></tr><tr><td class = \"rowNumber\" style = \"font-weight: bold; text-align: right;\">13</td><td style = \"text-align: left;\">hsa-miR-335-3p</td><td style = \"text-align: left;\">ENSG00000106484.8</td><td style = \"text-align: right;\">0.991704</td><td style = \"text-align: right;\">0.00161402</td></tr><tr><td style = \"text-align: right;\">&vellip;</td><td style = \"text-align: right;\">&vellip;</td><td style = \"text-align: right;\">&vellip;</td><td style = \"text-align: right;\">&vellip;</td><td style = \"text-align: right;\">&vellip;</td></tr><tr><td class = \"rowNumber\" style = \"font-weight: bold; text-align: right;\">25</td><td style = \"text-align: left;\">hsa-miR-335-5p</td><td style = \"text-align: left;\">ENSG00000158516.7</td><td style = \"text-align: right;\">0.848667</td><td style = \"text-align: right;\">0.0513298</td></tr><tr><td class = \"rowNumber\" style = \"font-weight: bold; text-align: right;\">26</td><td style = \"text-align: left;\">hsa-miR-1270-2-5p</td><td style = \"text-align: left;\">ENSG00000237440.2</td><td style = \"text-align: right;\">0.838225</td><td style = \"text-align: right;\">0.0555776</td></tr><tr><td class = \"rowNumber\" style = \"font-weight: bold; text-align: right;\">27</td><td style = \"text-align: left;\">hsa-miR-574-5p</td><td style = \"text-align: left;\">ENSG00000186767.5</td><td style = \"text-align: right;\">0.831116</td><td style = \"text-align: right;\">0.0597742</td></tr><tr><td class = \"rowNumber\" style = \"font-weight: bold; text-align: right;\">28</td><td style = \"text-align: left;\">hsa-miR-30a-5p</td><td style = \"text-align: left;\">ENSG00000169220.12</td><td style = \"text-align: right;\">0.820983</td><td style = \"text-align: right;\">0.0640328</td></tr><tr><td class = \"rowNumber\" style = \"font-weight: bold; text-align: right;\">29</td><td style = \"text-align: left;\">hsa-let-7b-5p</td><td style = \"text-align: left;\">ENSG00000165071.10</td><td style = \"text-align: right;\">0.809671</td><td style = \"text-align: right;\">0.0683879</td></tr><tr><td class = \"rowNumber\" style = \"font-weight: bold; text-align: right;\">30</td><td style = \"text-align: left;\">hsa-miR-574-5p</td><td style = \"text-align: left;\">ENSG00000154803.7</td><td style = \"text-align: right;\">0.789247</td><td style = \"text-align: right;\">0.0731334</td></tr><tr><td class = \"rowNumber\" style = \"font-weight: bold; text-align: right;\">31</td><td style = \"text-align: left;\">hsa-miR-181c-5p</td><td style = \"text-align: left;\">ENSG00000116157.5</td><td style = \"text-align: right;\">0.789079</td><td style = \"text-align: right;\">0.0775781</td></tr><tr><td class = \"rowNumber\" style = \"font-weight: bold; text-align: right;\">32</td><td style = \"text-align: left;\">hsa-miR-181c-5p</td><td style = \"text-align: left;\">ENSG00000129465.11</td><td style = \"text-align: right;\">0.782729</td><td style = \"text-align: right;\">0.0819435</td></tr><tr><td class = \"rowNumber\" style = \"font-weight: bold; text-align: right;\">33</td><td style = \"text-align: left;\">hsa-miR-1908-5p</td><td style = \"text-align: left;\">ENSG00000134824.9</td><td style = \"text-align: right;\">0.778177</td><td style = \"text-align: right;\">0.0861823</td></tr><tr><td class = \"rowNumber\" style = \"font-weight: bold; text-align: right;\">34</td><td style = \"text-align: left;\">hsa-miR-345-5p</td><td style = \"text-align: left;\">ENSG00000131116.5</td><td style = \"text-align: right;\">0.776538</td><td style = \"text-align: right;\">0.0902199</td></tr><tr><td class = \"rowNumber\" style = \"font-weight: bold; text-align: right;\">35</td><td style = \"text-align: left;\">hsa-miR-345-5p</td><td style = \"text-align: left;\">ENSG00000253239.1</td><td style = \"text-align: right;\">0.761621</td><td style = \"text-align: right;\">0.0944531</td></tr><tr><td class = \"rowNumber\" style = \"font-weight: bold; text-align: right;\">36</td><td style = \"text-align: left;\">hsa-miR-200b-3p</td><td style = \"text-align: left;\">ENSG00000247679.2</td><td style = \"text-align: right;\">0.743472</td><td style = \"text-align: right;\">0.0989551</td></tr></tbody></table></div>"
      ],
      "text/latex": [
       "\\begin{tabular}{r|cccc}\n",
       "\t& Source & Target & Probability & qvalue\\\\\n",
       "\t\\hline\n",
       "\t& String & String & Float64 & Float64\\\\\n",
       "\t\\hline\n",
       "\t1 & hsa-miR-335-5p & ENSG00000128510.5 & 1.0 & 0.0 \\\\\n",
       "\t2 & hsa-miR-335-3p & ENSG00000128510.5 & 1.0 & 0.0 \\\\\n",
       "\t3 & hsa-miR-3150b-3p & ENSG00000245080.3 & 1.0 & 3.4931e-8 \\\\\n",
       "\t4 & hsa-miR-345-5p & ENSG00000258504.1 & 1.0 & 1.39759e-7 \\\\\n",
       "\t5 & hsa-miR-345-5p & ENSG00000197119.7 & 0.999992 & 1.70218e-6 \\\\\n",
       "\t6 & hsa-let-7b-5p & ENSG00000241990.1 & 0.999987 & 3.63495e-6 \\\\\n",
       "\t7 & hsa-miR-574-3p & ENSG00000197712.6 & 0.999967 & 7.86251e-6 \\\\\n",
       "\t8 & hsa-miR-574-5p & ENSG00000197712.6 & 0.999965 & 1.12617e-5 \\\\\n",
       "\t9 & hsa-let-7b-5p & ENSG00000197182.8 & 0.999911 & 1.99429e-5 \\\\\n",
       "\t10 & hsa-miR-1270-2-5p & ENSG00000231205.6 & 0.998541 & 0.0001638 \\\\\n",
       "\t11 & hsa-miR-3150b-3p & ENSG00000175895.3 & 0.997247 & 0.000399176 \\\\\n",
       "\t12 & hsa-miR-335-5p & ENSG00000106484.8 & 0.991704 & 0.00105721 \\\\\n",
       "\t13 & hsa-miR-335-3p & ENSG00000106484.8 & 0.991704 & 0.00161402 \\\\\n",
       "\t14 & hsa-miR-339-5p & ENSG00000224079.1 & 0.990868 & 0.00215101 \\\\\n",
       "\t15 & hsa-miR-335-5p & ENSG00000220884.2 & 0.92274 & 0.0071583 \\\\\n",
       "\t16 & hsa-miR-335-3p & ENSG00000220884.2 & 0.92274 & 0.0115397 \\\\\n",
       "\t17 & hsa-let-7b-5p & ENSG00000182257.5 & 0.921876 & 0.0154564 \\\\\n",
       "\t18 & hsa-miR-181c-5p & ENSG00000104979.3 & 0.905542 & 0.0198454 \\\\\n",
       "\t19 & hsa-miR-642a-5p & ENSG00000010310.3 & 0.897131 & 0.0242151 \\\\\n",
       "\t20 & hsa-miR-574-5p & ENSG00000174123.6 & 0.88747 & 0.0286308 \\\\\n",
       "\t21 & hsa-miR-1908-3p & ENSG00000134824.9 & 0.8705 & 0.0334342 \\\\\n",
       "\t22 & hsa-miR-550a-2-3p & ENSG00000229358.2 & 0.865133 & 0.0380448 \\\\\n",
       "\t23 & hsa-miR-30a-3p & ENSG00000169220.12 & 0.856406 & 0.0426338 \\\\\n",
       "\t24 & hsa-miR-335-3p & ENSG00000158516.7 & 0.848667 & 0.047163 \\\\\n",
       "\t25 & hsa-miR-335-5p & ENSG00000158516.7 & 0.848667 & 0.0513298 \\\\\n",
       "\t26 & hsa-miR-1270-2-5p & ENSG00000237440.2 & 0.838225 & 0.0555776 \\\\\n",
       "\t27 & hsa-miR-574-5p & ENSG00000186767.5 & 0.831116 & 0.0597742 \\\\\n",
       "\t28 & hsa-miR-30a-5p & ENSG00000169220.12 & 0.820983 & 0.0640328 \\\\\n",
       "\t29 & hsa-let-7b-5p & ENSG00000165071.10 & 0.809671 & 0.0683879 \\\\\n",
       "\t30 & hsa-miR-574-5p & ENSG00000154803.7 & 0.789247 & 0.0731334 \\\\\n",
       "\t$\\dots$ & $\\dots$ & $\\dots$ & $\\dots$ & $\\dots$ \\\\\n",
       "\\end{tabular}\n"
      ],
      "text/plain": [
       "\u001b[1m36×4 DataFrame\u001b[0m\n",
       "\u001b[1m Row \u001b[0m│\u001b[1m Source            \u001b[0m\u001b[1m Target             \u001b[0m\u001b[1m Probability \u001b[0m\u001b[1m qvalue      \u001b[0m\n",
       "     │\u001b[90m String            \u001b[0m\u001b[90m String             \u001b[0m\u001b[90m Float64     \u001b[0m\u001b[90m Float64     \u001b[0m\n",
       "─────┼─────────────────────────────────────────────────────────────────\n",
       "   1 │ hsa-miR-335-5p     ENSG00000128510.5      1.0       0.0\n",
       "   2 │ hsa-miR-335-3p     ENSG00000128510.5      1.0       0.0\n",
       "   3 │ hsa-miR-3150b-3p   ENSG00000245080.3      1.0       3.4931e-8\n",
       "   4 │ hsa-miR-345-5p     ENSG00000258504.1      1.0       1.39759e-7\n",
       "   5 │ hsa-miR-345-5p     ENSG00000197119.7      0.999992  1.70218e-6\n",
       "   6 │ hsa-let-7b-5p      ENSG00000241990.1      0.999987  3.63495e-6\n",
       "   7 │ hsa-miR-574-3p     ENSG00000197712.6      0.999967  7.86251e-6\n",
       "   8 │ hsa-miR-574-5p     ENSG00000197712.6      0.999965  1.12617e-5\n",
       "   9 │ hsa-let-7b-5p      ENSG00000197182.8      0.999911  1.99429e-5\n",
       "  10 │ hsa-miR-1270-2-5p  ENSG00000231205.6      0.998541  0.0001638\n",
       "  11 │ hsa-miR-3150b-3p   ENSG00000175895.3      0.997247  0.000399176\n",
       "  ⋮  │         ⋮                  ⋮                ⋮            ⋮\n",
       "  27 │ hsa-miR-574-5p     ENSG00000186767.5      0.831116  0.0597742\n",
       "  28 │ hsa-miR-30a-5p     ENSG00000169220.12     0.820983  0.0640328\n",
       "  29 │ hsa-let-7b-5p      ENSG00000165071.10     0.809671  0.0683879\n",
       "  30 │ hsa-miR-574-5p     ENSG00000154803.7      0.789247  0.0731334\n",
       "  31 │ hsa-miR-181c-5p    ENSG00000116157.5      0.789079  0.0775781\n",
       "  32 │ hsa-miR-181c-5p    ENSG00000129465.11     0.782729  0.0819435\n",
       "  33 │ hsa-miR-1908-5p    ENSG00000134824.9      0.778177  0.0861823\n",
       "  34 │ hsa-miR-345-5p     ENSG00000131116.5      0.776538  0.0902199\n",
       "  35 │ hsa-miR-345-5p     ENSG00000253239.1      0.761621  0.0944531\n",
       "  36 │ hsa-miR-200b-3p    ENSG00000247679.2      0.743472  0.0989551\n",
       "\u001b[36m                                                        15 rows omitted\u001b[0m"
      ]
     },
     "execution_count": 10,
     "metadata": {},
     "output_type": "execute_result"
    }
   ],
   "source": [
    "dP = findr(dt, dm, dgm, dpm; FDR=0.1)"
   ]
  },
  {
   "cell_type": "markdown",
   "id": "00135230",
   "metadata": {},
   "source": [
    "### Causal test combinations\n",
    "\n",
    "As indicated above, causal inference requires the combination of multiple statistical tests, and [BioFindr.jl][1] supports [multiple such combinations](https://tmichoel.github.io/BioFindr.jl/dev/testLLR/#Causal-inference), each with their own strengths and weaknesses. Comparisons between the different methods can be found in the [original BioFindr paper][5] and in a [follow-up paper][6]. In brief, the following combinations are available:\n",
    "\n",
    "#### Instrumental variables (default)\n",
    "\n",
    "The *instrumental variables* (IV) test combination infers a causal $A\\to B$ interaction if there is a genetic association $E\\to B$, where $E$ is the causal anchor (best cis-eQTL for $A$), and if $A$ and $B$ are not independently associated with $E$ (no pleiotropic effect). This test combination has been shown to provide a good balance between false negative and false positive rate and has a clear genetic interpretation. It is therefore recommended as the default combination. To use the instrumental variable test combination, you don't need to do anything (it's the default): \n"
   ]
  },
  {
   "cell_type": "code",
   "execution_count": 10,
   "id": "38d5260a",
   "metadata": {},
   "outputs": [],
   "source": [
    "dP = findr(dm, dgm, dpm; FDR=0.1);"
   ]
  },
  {
   "cell_type": "markdown",
   "id": "4b43aa36",
   "metadata": {},
   "source": [
    "or, you can explicitly set the optional parameter `combination=\"IV\"`:\n"
   ]
  },
  {
   "cell_type": "code",
   "execution_count": 11,
   "id": "f6cc5769",
   "metadata": {},
   "outputs": [],
   "source": [
    "dP = findr(dm, dgm, dpm; FDR=0.1, combination=\"IV\");"
   ]
  },
  {
   "cell_type": "markdown",
   "id": "3c81c118",
   "metadata": {},
   "source": [
    "#### Mediation\n",
    "\n",
    "The *mediation test* infers a causal $A\\to B$ interaction if there is a genetic association $E\\to B$ and if this association disappears after conditioning on $A$. If these two tests are true, the causal graph must be $E\\to A\\to B$. As a result, this test combination has a very low false positive rate, but in most applications it is hampered by a high false negative rate: if $A$ and $B$ are jointly regulated by a third factor $C$, the mediation test will fail even in the presence of a true $A\\to B$ interaction. To use the mediation test combination, set the optional parameter `combination=\"mediation\"`:\n"
   ]
  },
  {
   "cell_type": "code",
   "execution_count": 12,
   "id": "37c6bf39",
   "metadata": {},
   "outputs": [],
   "source": [
    "dP_med = findr(dm, dgm, dpm; FDR=0.1, combination=\"mediation\");"
   ]
  },
  {
   "cell_type": "markdown",
   "id": "6eaac919",
   "metadata": {},
   "source": [
    "#### Original BioFindr combination\n",
    "\n",
    "In the [original BioFindr paper][5], a new test combination was proposed that combines the instrumental variable test combination with a new [relevance test](https://tmichoel.github.io/BioFindr.jl/dev/realLLR/#Relevance-test). On simulated data, this new combination further reduced the false negative rate compared to the IV combination. at the expense of an increased false positive rate, for an overall improved performance. However, the relevance test does not have a clear genetic or causal interpretation, and on real data, performance is generally equivalent to the IV combination, and therefore the IV combination is now recommended as the default. To use the original BioFindr test combination, set the optional parameter `combination=\"orig\"`:\n"
   ]
  },
  {
   "cell_type": "code",
   "execution_count": 13,
   "id": "003e96f9",
   "metadata": {},
   "outputs": [],
   "source": [
    "dP_orig = findr(dm, dgm, dpm; FDR=0.1, combination=\"orig\");"
   ]
  },
  {
   "cell_type": "markdown",
   "id": "3c123dd8",
   "metadata": {},
   "source": [
    "[1]: https://github.com/tmichoel/BioFindr.jl\n",
    "[2]: https://github.com/lingfeiwang/findr-data-geuvadis\n",
    "[3]: https://doi.org/10.1038/nature12531\n",
    "[4]: https://dataframes.juliadata.org/stable/\n",
    "[5]: https://doi.org/10.1371/journal.pcbi.1005703\n",
    "[6]: https://doi.org/10.1039/D0MO00140F"
   ]
  }
 ],
 "metadata": {
  "kernelspec": {
   "display_name": "Julia 1.9.0",
   "language": "julia",
   "name": "julia-1.9"
  },
  "language_info": {
   "file_extension": ".jl",
   "mimetype": "application/julia",
   "name": "julia",
   "version": "1.9.0"
  }
 },
 "nbformat": 4,
 "nbformat_minor": 5
}
