{
  "cells": [
    {
      "cell_type": "raw",
      "metadata": {},
      "source": [
        "---\n",
        "title: Internal functions\n",
        "format:\n",
        "  html:\n",
        "    code-fold: false\n",
        "execute:\n",
        "  cache: true\n",
        "  keep-ipynb: true\n",
        "---"
      ],
      "id": "a59326bf"
    },
    {
      "cell_type": "markdown",
      "metadata": {},
      "source": [
        "## Introduction\n",
        "\n",
        "The only function [exported](https://docs.julialang.org/en/v1/manual/modules/#Export-lists) by [BioFindr][1] is the [`findr`](https://tmichoel.github.io/BioFindr.jl/dev/testLLR/) function itself. Nevertheless, many of the internal functions may be useful when digging deeper in the results for specific genes. The [package documentation][6] contains detailed descriptions of all package functions, intertwined with the methods section of the [original paper][5], and should give a good overview of what is available. To illustrate how these functions can be used, we will reproduce the following figure ([Supplementary Fig. S1](https://doi.org/10.1371/journal.pcbi.1005703.s002) from the  [original paper][5]):\n",
        "\n",
        "![LLR distribution of the relevance test for hsa-miR-200b-3p on 23722 potential targets of Geuvadis dataset.](figures/eg4.png)\n",
        "\n",
        "\n",
        "## Set up the environment\n"
      ],
      "id": "99011ba0"
    },
    {
      "cell_type": "code",
      "metadata": {},
      "source": [
        "using DrWatson\n",
        "quickactivate(@__DIR__)\n",
        "\n",
        "using DataFrames\n",
        "using Arrow\n",
        "using StatsPlots\n",
        "using LaTeXStrings\n",
        "using Distributions\n",
        "\n",
        "using BioFindr"
      ],
      "id": "f5a6f61a",
      "execution_count": null,
      "outputs": []
    },
    {
      "cell_type": "markdown",
      "metadata": {},
      "source": [
        "## Load data\n",
        "\n",
        "You should by now be familiar with the GEUVADIS data used in the *First steps* tutorials. Here we need the following files:\n"
      ],
      "id": "b4d2f26c"
    },
    {
      "cell_type": "code",
      "metadata": {},
      "source": [
        "dt = DataFrame(Arrow.Table(datadir(\"exp_pro\",\"findr-data-geuvadis\", \"dt.arrow\")));\n",
        "dm = DataFrame(Arrow.Table(datadir(\"exp_pro\",\"findr-data-geuvadis\", \"dm.arrow\")));\n",
        "dgm = DataFrame(Arrow.Table(datadir(\"exp_pro\",\"findr-data-geuvadis\", \"dgm.arrow\")));"
      ],
      "id": "039a41ad",
      "execution_count": null,
      "outputs": []
    },
    {
      "cell_type": "markdown",
      "metadata": {},
      "source": [
        "We also need the microRNA eQTL mapping (see the [causal inference tutorial](causal-inference.qmd)):\n"
      ],
      "id": "3205d605"
    },
    {
      "cell_type": "code",
      "metadata": {},
      "source": [
        "dpm = DataFrame(SNP_ID = names(dgm), GENE_ID=names(dm)[1:ncol(dgm)]);"
      ],
      "id": "de764e8d",
      "execution_count": null,
      "outputs": []
    },
    {
      "cell_type": "markdown",
      "metadata": {},
      "source": [
        "Set the microRNA of interest:\n"
      ],
      "id": "24963d53"
    },
    {
      "cell_type": "code",
      "metadata": {},
      "source": [
        "mirA = \"hsa-miR-200b-3p\";"
      ],
      "id": "b8190872",
      "execution_count": null,
      "outputs": []
    },
    {
      "cell_type": "markdown",
      "metadata": {},
      "source": [
        "## Run the analysis\n",
        "\n",
        "### Convert the data\n",
        "\n",
        "Internally, all [BioFindr][1] functions use matrix-based inputs and [supernormalized data](https://tmichoel.github.io/BioFindr.jl/dev/inference/). The easiest way to convert our data is to run `supernormalize` on the initial data:\n"
      ],
      "id": "57ecec91"
    },
    {
      "cell_type": "code",
      "metadata": {},
      "source": [
        "Yt = BioFindr.supernormalize(dt);\n",
        "Ym = vec(BioFindr.supernormalize(select(dm,mirA)));"
      ],
      "id": "32e46501",
      "execution_count": null,
      "outputs": []
    },
    {
      "cell_type": "markdown",
      "metadata": {},
      "source": [
        "For the genotype data, no conversion is needed:\n"
      ],
      "id": "aceabcc1"
    },
    {
      "cell_type": "code",
      "metadata": {},
      "source": [
        "E = dgm[:, dpm.SNP_ID[dpm.GENE_ID.==mirA][1]];"
      ],
      "id": "4881379c",
      "execution_count": null,
      "outputs": []
    },
    {
      "cell_type": "markdown",
      "metadata": {},
      "source": [
        "We will also need the number of samples and number of genotype groups:\n"
      ],
      "id": "34d2e653"
    },
    {
      "cell_type": "code",
      "metadata": {},
      "source": [
        "ns = length(E);\n",
        "ng = length(unique(E));"
      ],
      "id": "2b2bf18e",
      "execution_count": null,
      "outputs": []
    },
    {
      "cell_type": "markdown",
      "metadata": {},
      "source": [
        "### Compute log-likelihood ratios\n",
        "\n",
        "Throughout the package, the [likelihood ratio tests](https://tmichoel.github.io/BioFindr.jl/dev/realLLR/) are labelled by the following [symbols](https://docs.julialang.org/en/v1/manual/metaprogramming/#Symbols)\n",
        "\n",
        "- Test 2 (**Linkage test**): `:link`\n",
        "- Test 3 (**Mediation test**): `:med`\n",
        "- Test 4 (**Relevance test**): `:relev`\n",
        "- Test 5 (**Pleiotropy test**): `:pleio`\n",
        "\n",
        "Since [all log-likelihood ratios are computed from the same summary statistics](https://tmichoel.github.io/BioFindr.jl/dev/realLLR/#Implementation), a single function computes them all. To compute the log-likelihood ratios for a specific A-gene (here: hsa-miR-200b-3p with column vector of expression data `Ym`) with a causal instrument (best eQTL) with genotype vector `E`, run:\n"
      ],
      "id": "1e94fa83"
    },
    {
      "cell_type": "code",
      "metadata": {},
      "source": [
        "llr2, llr3, llr4, llr5 = BioFindr.realLLR_col(Yt, Ym, E);"
      ],
      "id": "6f1786f7",
      "execution_count": null,
      "outputs": []
    },
    {
      "cell_type": "markdown",
      "metadata": {},
      "source": [
        "If you know you're only going to use one of them, you can also run:\n"
      ],
      "id": "cb49c2e6"
    },
    {
      "cell_type": "code",
      "metadata": {},
      "source": [
        "_ , _ , llr4 , _ = BioFindr.realLLR_col(Yt, Ym, E);"
      ],
      "id": "c8f2c50f",
      "execution_count": null,
      "outputs": []
    },
    {
      "cell_type": "markdown",
      "metadata": {},
      "source": [
        "### Compute posterior probabilities\n",
        "\n",
        "Posterior probabilities are computed by [fitting a mixture model](https://tmichoel.github.io/BioFindr.jl/dev/posteriorprobs/) to the observed vector of log-likelihood ratios. Two fitting methods are implmented: a [method of moments](https://tmichoel.github.io/BioFindr.jl/dev/posteriorprobs/#mom_postprobs) or using [kernel density estimation](https://tmichoel.github.io/BioFindr.jl/dev/posteriorprobs/#kde_postprobs). The method of moments is the default:\n"
      ],
      "id": "e6a6a54d"
    },
    {
      "cell_type": "code",
      "metadata": {},
      "source": [
        "pp_mom, dmix = BioFindr.fit_mixdist_mom(llr4, ns, ng, :relev);"
      ],
      "id": "7d117d90",
      "execution_count": null,
      "outputs": []
    },
    {
      "cell_type": "markdown",
      "metadata": {},
      "source": [
        "The KDE estimate is obtained similarly:\n"
      ],
      "id": "97921c57"
    },
    {
      "cell_type": "code",
      "metadata": {},
      "source": [
        "pp_kde = BioFindr.fit_mixdist_KDE(llr4, ns, ng, :relev);"
      ],
      "id": "a7665591",
      "execution_count": null,
      "outputs": []
    },
    {
      "cell_type": "markdown",
      "metadata": {},
      "source": [
        "The method of moments has a second output argument, `dmix`, a [mixture model distribution object](https://juliastats.org/Distributions.jl/stable/mixture/) where each mixture component is an [`LBeta` dsitribution](https://tmichoel.github.io/BioFindr.jl/dev/randomLLR/#Implementation):\n"
      ],
      "id": "68d93fab"
    },
    {
      "cell_type": "code",
      "metadata": {},
      "source": [
        "dmix"
      ],
      "id": "9f124931",
      "execution_count": null,
      "outputs": []
    },
    {
      "cell_type": "markdown",
      "metadata": {},
      "source": [
        "The first component in the mixture model is the null distribution, which can also be created as follows:\n"
      ],
      "id": "806cbe95"
    },
    {
      "cell_type": "code",
      "metadata": {},
      "source": [
        "dnull = BioFindr.nulldist(ns,ng,:relev)"
      ],
      "id": "986a8037",
      "execution_count": null,
      "outputs": []
    },
    {
      "cell_type": "markdown",
      "metadata": {},
      "source": [
        "The `prior` of the null component is the [estimated proportion of truly null features](https://tmichoel.github.io/BioFindr.jl/dev/posteriorprobs/#Estimating-P({\\\\mathcal-H}_{\\\\mathrm{null}})) in the observed log-likelihood ratio vector `llr4`:\n"
      ],
      "id": "1f74a683"
    },
    {
      "cell_type": "code",
      "metadata": {},
      "source": [
        "π₀ = dmix.prior.p[1]"
      ],
      "id": "38117b1f",
      "execution_count": null,
      "outputs": []
    },
    {
      "cell_type": "markdown",
      "metadata": {},
      "source": [
        "We can verify that both methods (moments and KDE) give similar posterior probabilities\n",
        "\n",
        "```julia\n",
        "scatter(pp_mom,pp_kde, markersize=4)\n",
        "```\n",
        "\n",
        "### Compute p-values under the null hypothesis\n",
        "\n",
        "We don't need null p-values to reproduce the figure above, but they can be used to assess the quality of the $\\pi_0$ estimate.\n"
      ],
      "id": "62d3e845"
    },
    {
      "cell_type": "code",
      "metadata": {},
      "source": [
        "pnull = BioFindr.nullpval(llr4,ns,ng,:relev);"
      ],
      "id": "e67da1ed",
      "execution_count": null,
      "outputs": []
    },
    {
      "cell_type": "markdown",
      "metadata": {},
      "source": [
        "We can verify that the histogram shows the [characteristic shape of a set of anti-conservative p-values](http://varianceexplained.org/statistics/interpreting-pvalue-histogram/) and that $\\pi_0$ correctly estimates the height of the \"flat\" portion of the histogram near $p\\approx 1$:\n"
      ],
      "id": "e449b8c1"
    },
    {
      "cell_type": "code",
      "metadata": {},
      "source": [
        "histogram(pnull, normalize=:pdf, bins=100, label=\"\")\n",
        "hline!([π₀],linewidth=2, label=\"\", linecolor=:red)\n",
        "xlims!(0,1)\n",
        "xlabel!(\"Null p-value\")\n",
        "ylabel!(\"Observed distribution\")\n",
        "annotate!(0.95,0.95, (L\"\\pi_0\", 18, :red))"
      ],
      "id": "c6d29201",
      "execution_count": null,
      "outputs": []
    },
    {
      "cell_type": "markdown",
      "metadata": {},
      "source": [
        "## Reproduce the figure\n",
        "\n",
        "### Method of moments estimates\n",
        "\n",
        "For the method of moments, the null and real log-likelihood ratio distribution are available in the form of [distribution objects](https://juliastats.org/Distributions.jl/), and we can simply evaluate their pdfs on a range of values:\n"
      ],
      "id": "95f16a55"
    },
    {
      "cell_type": "code",
      "metadata": {},
      "source": [
        "lval = range(0,maximum(llr4),500);\n",
        "pnull_val = π₀ * pdf.(dnull,lval);\n",
        "preal_val = pdf.(dmix,lval);\n",
        "pp_val = 1 .- pnull_val ./ preal_val;"
      ],
      "id": "2ca00688",
      "execution_count": null,
      "outputs": []
    },
    {
      "cell_type": "markdown",
      "metadata": {},
      "source": [
        "Plot the final figure:\n"
      ],
      "id": "3178de48"
    },
    {
      "cell_type": "code",
      "metadata": {},
      "source": [
        "histogram(llr4, normalize=:pdf, bins=100, color=:navajowhite1, label=\"Real data\", size=(600,450))\n",
        "plot!(lval,preal_val, linewidth=2, color=:black, label=L\"p(LLR^{(4)})\")\n",
        "plot!(lval,pnull_val, linewidth=2, color=:red, label=L\"\\pi_0 p(LLR^{(4)} \\mid \\mathcal{H}_0)\", legend=(0.25,0.95))\n",
        "ylims!(0, 160)\n",
        "xlabel!(L\"LLR^{(4)}\")\n",
        "ylabel!(L\"p(LLR^{(4)})\")\n",
        "plot!(twinx(),lval,pp_val, linewidth=2, color=:blue, label=\"\", yguidefontcolor=:blue, ylims=(0,1.), ylabel=L\"P(H^{(4)}_{alt} \\mid LLR^{(4)})\")\n",
        "#ylabel(L\"P(H^{(4)}_{alt} \\mid LLR^{(4)})\")\n",
        "xlims!(0,0.03)"
      ],
      "id": "cd996f5e",
      "execution_count": null,
      "outputs": []
    },
    {
      "cell_type": "markdown",
      "metadata": {},
      "source": [
        "Compared to the figure at the top of the page, we see that the method of moments provides a smooth fit to the histogram and consequently also posterior probabilities that increase more smoothly with increasing LLR values. \n",
        "\n",
        "### KDE estimates\n",
        "\n",
        "For the KDE method, we don't have a distribution object fitting the histogram. Instead with use kernel density estimation and return estimated pdf values at every value of the LLR input vector:\n"
      ],
      "id": "d853beba"
    },
    {
      "cell_type": "code",
      "metadata": {},
      "source": [
        "preal_kde = BioFindr.fit_kde(llr4);"
      ],
      "id": "c19ca6c2",
      "execution_count": null,
      "outputs": []
    },
    {
      "cell_type": "markdown",
      "metadata": {},
      "source": [
        "For plotting, we filter a relevant range of values from all vectors:\n"
      ],
      "id": "74e618b8"
    },
    {
      "cell_type": "code",
      "metadata": {},
      "source": [
        "rg = 1:50:length(llr4);\n",
        "t = sortperm(llr4);\n",
        "lval_kde = llr4[t][rg];\n",
        "preal_val_kde = preal_kde[t][rg];\n",
        "pp_val_kde = pp_kde[t][rg];"
      ],
      "id": "24d93a81",
      "execution_count": null,
      "outputs": []
    },
    {
      "cell_type": "markdown",
      "metadata": {},
      "source": [
        "And plot the figure again:\n"
      ],
      "id": "d7d25e90"
    },
    {
      "cell_type": "code",
      "metadata": {},
      "source": [
        "histogram(llr4, normalize=:pdf, bins=100, color=:navajowhite1, label=\"Real data\", size=(600,450))\n",
        "plot!(lval_kde,preal_val_kde, linewidth=2, color=:black, label=L\"p(LLR^{(4)})\")\n",
        "plot!(lval,pnull_val, linewidth=2, color=:red, label=L\"\\pi_0 p(LLR^{(4)} \\mid \\mathcal{H}_0)\", legend=(0.25,0.95))\n",
        "ylims!(0, 160)\n",
        "xlabel!(L\"LLR^{(4)}\")\n",
        "ylabel!(L\"p(LLR^{(4)})\")\n",
        "plot!(twinx(),lval_kde,pp_val_kde, linewidth=2, color=:blue, label=\"\", yguidefontcolor=:blue, ylims=(0,1.), ylabel=L\"P(H^{(4)}_{alt} \\mid LLR^{(4)})\")\n",
        "#ylabel(L\"P(H^{(4)}_{alt} \\mid LLR^{(4)})\")\n",
        "xlims!(0,0.03)"
      ],
      "id": "5e1d247f",
      "execution_count": null,
      "outputs": []
    },
    {
      "cell_type": "markdown",
      "metadata": {},
      "source": [
        "[1]: https://github.com/tmichoel/BioFindr.jl\n",
        "[2]: https://github.com/lingfeiwang/findr-data-geuvadis\n",
        "[3]: https://doi.org/10.1038/nature12531\n",
        "[4]: https://dataframes.juliadata.org/stable/\n",
        "[5]: https://doi.org/10.1371/journal.pcbi.1005703\n",
        "[6]: https://tmichoel.github.io/BioFindr.jl/dev/"
      ],
      "id": "d7c34d6e"
    }
  ],
  "metadata": {
    "kernelspec": {
      "name": "julia-1.10",
      "language": "julia",
      "display_name": "Julia 1.10.0"
    }
  },
  "nbformat": 4,
  "nbformat_minor": 5
}