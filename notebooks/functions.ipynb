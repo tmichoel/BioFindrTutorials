{
  "cells": [
    {
      "cell_type": "raw",
      "metadata": {},
      "source": [
        "---\n",
        "title: Internal functions\n",
        "format:\n",
        "  html:\n",
        "    code-fold: false\n",
        "execute:\n",
        "  cache: true\n",
        "  keep-ipynb: true\n",
        "---"
      ],
      "id": "5f6515e6"
    },
    {
      "cell_type": "markdown",
      "metadata": {},
      "source": [
        "## Introduction\n",
        "\n",
        "The only function [exported](https://docs.julialang.org/en/v1/manual/modules/#Export-lists) by [Findr.jl][1] is the [`findr`](https://tmichoel.github.io/Findr.jl/dev/testLLR/) function itself. Nevertheless, many of the internal functions may be useful when digging deeper in the results for specific genes. The [package documentation][6] contains detailed descriptions of all package functions, intertwined with the methods section of the [original paper][5], and should give a good overview of what is available. To illustrate how these functions can be used, we will reproduce the following figure ([Supplementary Fig. S1](https://doi.org/10.1371/journal.pcbi.1005703.s002) from the  [original paper][5]):\n",
        "\n",
        "![LLR distribution of the relevance test for hsa-miR-200b-3p on 23722 potential targets of Geuvadis dataset.](figures/eg4.png)\n",
        "\n",
        "\n",
        "## Set up the environment\n"
      ],
      "id": "cc4b1d0d"
    },
    {
      "cell_type": "code",
      "metadata": {},
      "source": [
        "using DrWatson\n",
        "quickactivate(@__DIR__)\n",
        "\n",
        "using DataFrames\n",
        "using Arrow\n",
        "using StatsPlots\n",
        "using LaTeXStrings\n",
        "using Distributions\n",
        "\n",
        "using Findr"
      ],
      "id": "b3dd3156",
      "execution_count": null,
      "outputs": []
    },
    {
      "cell_type": "markdown",
      "metadata": {},
      "source": [
        "## Load data\n",
        "\n",
        "You should by now be familiar with the GEUVADIS data used in the *First steps* tutorials. Here we need the following files:\n"
      ],
      "id": "4eede403"
    },
    {
      "cell_type": "code",
      "metadata": {},
      "source": [
        "dt = DataFrame(Arrow.Table(datadir(\"exp_pro\",\"findr-data-geuvadis\", \"dt.arrow\")));\n",
        "dm = DataFrame(Arrow.Table(datadir(\"exp_pro\",\"findr-data-geuvadis\", \"dm.arrow\")));\n",
        "dgm = DataFrame(Arrow.Table(datadir(\"exp_pro\",\"findr-data-geuvadis\", \"dgm.arrow\")));"
      ],
      "id": "22f1d70e",
      "execution_count": null,
      "outputs": []
    },
    {
      "cell_type": "markdown",
      "metadata": {},
      "source": [
        "We also need the microRNA eQTL mapping (see the [causal inference tutorial](causal-inference.qmd)):\n"
      ],
      "id": "93a158c6"
    },
    {
      "cell_type": "code",
      "metadata": {},
      "source": [
        "dpm = DataFrame(SNP_ID = names(dgm), GENE_ID=names(dm)[1:ncol(dgm)]);"
      ],
      "id": "b561ebd4",
      "execution_count": null,
      "outputs": []
    },
    {
      "cell_type": "markdown",
      "metadata": {},
      "source": [
        "Set the microRNA of interest:\n"
      ],
      "id": "cbc77384"
    },
    {
      "cell_type": "code",
      "metadata": {},
      "source": [
        "mirA = \"hsa-miR-200b-3p\";"
      ],
      "id": "408826da",
      "execution_count": null,
      "outputs": []
    },
    {
      "cell_type": "markdown",
      "metadata": {},
      "source": [
        "## Run the analysis\n",
        "\n",
        "### Convert the data\n",
        "\n",
        "Internally, all [Findr.jl][1] functions use matrix-based inputs and [supernormalized data](https://tmichoel.github.io/Findr.jl/dev/inference/). The easiest way to convert our data is to run `supernormalize` on the initial data:\n"
      ],
      "id": "89a6085b"
    },
    {
      "cell_type": "code",
      "metadata": {},
      "source": [
        "Yt = Findr.supernormalize(dt);\n",
        "Ym = vec(Findr.supernormalize(select(dm,mirA)));"
      ],
      "id": "addbe2de",
      "execution_count": null,
      "outputs": []
    },
    {
      "cell_type": "markdown",
      "metadata": {},
      "source": [
        "For the genotype data, no conversion is needed:\n"
      ],
      "id": "0dd74750"
    },
    {
      "cell_type": "code",
      "metadata": {},
      "source": [
        "E = dgm[:, dpm.SNP_ID[dpm.GENE_ID.==mirA][1]];"
      ],
      "id": "52910b1e",
      "execution_count": null,
      "outputs": []
    },
    {
      "cell_type": "markdown",
      "metadata": {},
      "source": [
        "We will also need the number of samples and number of genotype groups:\n"
      ],
      "id": "88f135ff"
    },
    {
      "cell_type": "code",
      "metadata": {},
      "source": [
        "ns = length(E);\n",
        "ng = length(unique(E));"
      ],
      "id": "491d187b",
      "execution_count": null,
      "outputs": []
    },
    {
      "cell_type": "markdown",
      "metadata": {},
      "source": [
        "### Compute log-likelihood ratios\n",
        "\n",
        "Throughout the package, the [likelihood ratio tests](https://tmichoel.github.io/Findr.jl/dev/realLLR/) are labelled by the following [symbols](https://docs.julialang.org/en/v1/manual/metaprogramming/#Symbols)\n",
        "\n",
        "- Test 2 (**Linkage test**): `:link`\n",
        "- Test 3 (**Mediation test**): `:med`\n",
        "- Test 4 (**Relevance test**): `:relev`\n",
        "- Test 5 (**Pleiotropy test**): `:pleio`\n",
        "\n",
        "Since [all log-likelihood ratios are computed from the same summary statistics](https://tmichoel.github.io/Findr.jl/dev/realLLR/#Implementation), a single function computes them all. To compute the log-likelihood ratios for a specific A-gene (here: hsa-miR-200b-3p with column vector of expression data `Ym`) with a causal instrument (best eQTL) with genotype vector `E`, run:\n"
      ],
      "id": "22b2f826"
    },
    {
      "cell_type": "code",
      "metadata": {},
      "source": [
        "llr2, llr3, llr4, llr5 = Findr.realLLR_col(Yt, Ym, E);"
      ],
      "id": "f0126c8e",
      "execution_count": null,
      "outputs": []
    },
    {
      "cell_type": "markdown",
      "metadata": {},
      "source": [
        "If you know you're only going to use one of them, you can also run:\n"
      ],
      "id": "9bb60cf8"
    },
    {
      "cell_type": "code",
      "metadata": {},
      "source": [
        "_ , _ , llr4 , _ = Findr.realLLR_col(Yt, Ym, E);"
      ],
      "id": "dece4d51",
      "execution_count": null,
      "outputs": []
    },
    {
      "cell_type": "markdown",
      "metadata": {},
      "source": [
        "### Compute posterior probabilities\n",
        "\n",
        "Posterior probabilities are computed by [fitting a mixture model](https://tmichoel.github.io/Findr.jl/dev/posteriorprobs/) to the observed vector of log-likelihood ratios. Two fitting methods are implmented: a [method of moments](https://tmichoel.github.io/Findr.jl/dev/posteriorprobs/#mom_postprobs) or using [kernel density estimation](https://tmichoel.github.io/Findr.jl/dev/posteriorprobs/#kde_postprobs). The method of moments is the default:\n"
      ],
      "id": "f85933ac"
    },
    {
      "cell_type": "code",
      "metadata": {},
      "source": [
        "pp_mom, dmix = Findr.fit_mixdist_mom(llr4, ns, ng, :relev);"
      ],
      "id": "ddf0cdf4",
      "execution_count": null,
      "outputs": []
    },
    {
      "cell_type": "markdown",
      "metadata": {},
      "source": [
        "The KDE estimate is obtained similarly:\n"
      ],
      "id": "9fdc54db"
    },
    {
      "cell_type": "code",
      "metadata": {},
      "source": [
        "pp_kde = Findr.fit_mixdist_KDE(llr4, ns, ng, :relev);"
      ],
      "id": "ddc45c94",
      "execution_count": null,
      "outputs": []
    },
    {
      "cell_type": "markdown",
      "metadata": {},
      "source": [
        "The method of moments has a second output argument, `dmix`, a [mixture model distribution object](https://juliastats.org/Distributions.jl/stable/mixture/) where each mixture component is an [`LBeta` dsitribution](https://tmichoel.github.io/Findr.jl/dev/randomLLR/#Implementation):\n"
      ],
      "id": "e02c918e"
    },
    {
      "cell_type": "code",
      "metadata": {},
      "source": [
        "dmix"
      ],
      "id": "d4ad9737",
      "execution_count": null,
      "outputs": []
    },
    {
      "cell_type": "markdown",
      "metadata": {},
      "source": [
        "The first component in the mixture model is the null distribution, which can also be created as follows:\n"
      ],
      "id": "724d9bb3"
    },
    {
      "cell_type": "code",
      "metadata": {},
      "source": [
        "dnull = Findr.nulldist(ns,ng,:relev)"
      ],
      "id": "ad747ec4",
      "execution_count": null,
      "outputs": []
    },
    {
      "cell_type": "markdown",
      "metadata": {},
      "source": [
        "The `prior` of the null component is the [estimated proportion of truly null features](https://tmichoel.github.io/Findr.jl/dev/posteriorprobs/#Estimating-P({\\\\mathcal-H}_{\\\\mathrm{null}})) in the observed log-likelihood ratio vector `llr4`:\n"
      ],
      "id": "caffde2b"
    },
    {
      "cell_type": "code",
      "metadata": {},
      "source": [
        "π₀ = dmix.prior.p[1]"
      ],
      "id": "dc69bb59",
      "execution_count": null,
      "outputs": []
    },
    {
      "cell_type": "markdown",
      "metadata": {},
      "source": [
        "We can verify that both methods (moments and KDE) give similar posterior probabilities\n",
        "\n",
        "```julia\n",
        "scatter(pp_mom,pp_kde, markersize=4)\n",
        "```\n",
        "\n",
        "### Compute p-values under the null hypothesis\n",
        "\n",
        "We don't need null p-values to reproduce the figure above, but they can be used to assess the quality of the $\\pi_0$ estimate.\n"
      ],
      "id": "5bc2586c"
    },
    {
      "cell_type": "code",
      "metadata": {},
      "source": [
        "pnull = Findr.nullpval(llr4,ns,ng,:relev);"
      ],
      "id": "28d1ff19",
      "execution_count": null,
      "outputs": []
    },
    {
      "cell_type": "markdown",
      "metadata": {},
      "source": [
        "We can verify that the histogram shows the [characteristic shape of a set of anti-conservative p-values](http://varianceexplained.org/statistics/interpreting-pvalue-histogram/) and that $\\pi_0$ correctly estimates the height of the \"flat\" portion of the histogram near $p\\approx 1$:\n"
      ],
      "id": "4d5f14f4"
    },
    {
      "cell_type": "code",
      "metadata": {},
      "source": [
        "histogram(pnull, normalize=:pdf, bins=100, label=\"\")\n",
        "hline!([π₀],linewidth=2, label=\"\", linecolor=:red)\n",
        "xlims!(0,1)\n",
        "xlabel!(\"Null p-value\")\n",
        "ylabel!(\"Observed distribution\")\n",
        "annotate!(0.95,0.95, (L\"\\pi_0\", 18, :red))"
      ],
      "id": "fc1671f1",
      "execution_count": null,
      "outputs": []
    },
    {
      "cell_type": "markdown",
      "metadata": {},
      "source": [
        "## Reproduce the figure\n",
        "\n",
        "### Method of moments estimates\n",
        "\n",
        "For the method of moments, the null and real log-likelihood ratio distribution are available in the form of [distribution objects](https://juliastats.org/Distributions.jl/), and we can simply evaluate their pdfs on a range of values:\n"
      ],
      "id": "6ec7d534"
    },
    {
      "cell_type": "code",
      "metadata": {},
      "source": [
        "lval = range(0,maximum(llr4),500);\n",
        "pnull_val = π₀ * pdf.(dnull,lval);\n",
        "preal_val = pdf.(dmix,lval);\n",
        "pp_val = 1 .- pnull_val ./ preal_val;"
      ],
      "id": "07badbfc",
      "execution_count": null,
      "outputs": []
    },
    {
      "cell_type": "markdown",
      "metadata": {},
      "source": [
        "Plot the final figure:\n"
      ],
      "id": "81d6eed9"
    },
    {
      "cell_type": "code",
      "metadata": {},
      "source": [
        "histogram(llr4, normalize=:pdf, bins=100, color=:navajowhite1, label=\"Real data\", size=(600,450))\n",
        "plot!(lval,preal_val, linewidth=2, color=:black, label=L\"p(LLR^{(4)})\")\n",
        "plot!(lval,pnull_val, linewidth=2, color=:red, label=L\"\\pi_0 p(LLR^{(4)} \\mid \\mathcal{H}_0)\", legend=(0.25,0.95))\n",
        "ylims!(0, 160)\n",
        "xlabel!(L\"LLR^{(4)}\")\n",
        "ylabel!(L\"p(LLR^{(4)})\")\n",
        "plot!(twinx(),lval,pp_val, linewidth=2, color=:blue, label=\"\", yguidefontcolor=:blue, ylims=(0,1.), ylabel=L\"P(H^{(4)}_{alt} \\mid LLR^{(4)})\")\n",
        "#ylabel(L\"P(H^{(4)}_{alt} \\mid LLR^{(4)})\")\n",
        "xlims!(0,0.03)"
      ],
      "id": "684f7f3f",
      "execution_count": null,
      "outputs": []
    },
    {
      "cell_type": "markdown",
      "metadata": {},
      "source": [
        "Compared to the figure at the top of the page, we see that the method of moments provides a smooth fit to the histogram and consequently also posterior probabilities that increase more smoothly with increasing LLR values. \n",
        "\n",
        "### KDE estimates\n",
        "\n",
        "For the KDE method, we don't have a distribution object fitting the histogram. Instead with use kernel density estimation and return estimated pdf values at every value of the LLR input vector:\n"
      ],
      "id": "d7f3cf54"
    },
    {
      "cell_type": "code",
      "metadata": {},
      "source": [
        "preal_kde = Findr.fit_kde(llr4);"
      ],
      "id": "90f02171",
      "execution_count": null,
      "outputs": []
    },
    {
      "cell_type": "markdown",
      "metadata": {},
      "source": [
        "For plotting, we filter a relevant range of values from all vectors:\n"
      ],
      "id": "d076596a"
    },
    {
      "cell_type": "code",
      "metadata": {},
      "source": [
        "rg = 1:50:length(llr4);\n",
        "t = sortperm(llr4);\n",
        "lval_kde = llr4[t][rg];\n",
        "preal_val_kde = preal_kde[t][rg];\n",
        "pp_val_kde = pp_kde[t][rg];"
      ],
      "id": "72cae2b5",
      "execution_count": null,
      "outputs": []
    },
    {
      "cell_type": "markdown",
      "metadata": {},
      "source": [
        "And plot the figure again:\n"
      ],
      "id": "e4f120a8"
    },
    {
      "cell_type": "code",
      "metadata": {},
      "source": [
        "histogram(llr4, normalize=:pdf, bins=100, color=:navajowhite1, label=\"Real data\", size=(600,450))\n",
        "plot!(lval_kde,preal_val_kde, linewidth=2, color=:black, label=L\"p(LLR^{(4)})\")\n",
        "plot!(lval,pnull_val, linewidth=2, color=:red, label=L\"\\pi_0 p(LLR^{(4)} \\mid \\mathcal{H}_0)\", legend=(0.25,0.95))\n",
        "ylims!(0, 160)\n",
        "xlabel!(L\"LLR^{(4)}\")\n",
        "ylabel!(L\"p(LLR^{(4)})\")\n",
        "plot!(twinx(),lval_kde,pp_val_kde, linewidth=2, color=:blue, label=\"\", yguidefontcolor=:blue, ylims=(0,1.), ylabel=L\"P(H^{(4)}_{alt} \\mid LLR^{(4)})\")\n",
        "#ylabel(L\"P(H^{(4)}_{alt} \\mid LLR^{(4)})\")\n",
        "xlims!(0,0.03)"
      ],
      "id": "1748ff0b",
      "execution_count": null,
      "outputs": []
    },
    {
      "cell_type": "markdown",
      "metadata": {},
      "source": [
        "[1]: https://github.com/tmichoel/Findr.jl\n",
        "[2]: https://github.com/lingfeiwang/findr-data-geuvadis\n",
        "[3]: https://doi.org/10.1038/nature12531\n",
        "[4]: https://dataframes.juliadata.org/stable/\n",
        "[5]: https://doi.org/10.1371/journal.pcbi.1005703\n",
        "[6]: https://tmichoel.github.io/Findr.jl/dev/"
      ],
      "id": "2c0e4394"
    }
  ],
  "metadata": {
    "kernelspec": {
      "name": "julia-1.9",
      "language": "julia",
      "display_name": "Julia 1.9.0"
    }
  },
  "nbformat": 4,
  "nbformat_minor": 5
}