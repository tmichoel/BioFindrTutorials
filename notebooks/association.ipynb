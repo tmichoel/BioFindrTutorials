{
 "cells": [
  {
   "cell_type": "raw",
   "id": "07d75df2",
   "metadata": {},
   "source": [
    "---\n",
    "title: Association analysis\n",
    "format:\n",
    "  html:\n",
    "    code-fold: false\n",
    "execute:\n",
    "  cache: true\n",
    "  keep-ipynb: true\n",
    "---"
   ]
  },
  {
   "cell_type": "markdown",
   "id": "d13a7250",
   "metadata": {},
   "source": [
    "## Introduction\n",
    "\n",
    "While [BioFindr.jl][1] is developed primarily for causal inference from genomics and transcriptomics data, association analysis between genomics and transcriptomics data is also possible. In association analysis, genetic effects on the transcriptome are measured by testing if genes are differentially expressed in different groups of samples defined by the genotype of a genetic variant of interest. In [BioFindr.jl][1], significance of association is computed using a [categorical model](https://tmichoel.github.io/BioFindr.jl/dev/realLLR/#prim_test_realLLR) and a variant-specific background distribution. Similar to what was done in the [coexpression analysis tutorial](coexpression.qmd), this is achieved by modelling the distribution of association values between a given variant $A$ and all genes $B$ as a [mixture distribution](https://en.wikipedia.org/wiki/Mixture_distribution) of real and null (random) associations. The relative weight of each component then reflects the prior probability of finding a non-null $B$ gene for a given variant $A$, and is fitted for every $A$ separately.\n",
    "\n",
    "We will illustrate how to run association analysis with [BioFindr.jl][1] using [preprocessed data][2] from the [GEUVADIS study][3]. See the [installation instructions](installation.qmd) for the steps you need to take to reproduce this tutorial.\n",
    "\n",
    "## Set up the environment\n",
    "\n",
    "We begin by setting up the environment and loading some necessary packages.\n"
   ]
  },
  {
   "cell_type": "code",
   "execution_count": 1,
   "id": "3ee459ad",
   "metadata": {},
   "outputs": [
    {
     "name": "stderr",
     "output_type": "stream",
     "text": [
      "\u001b[36m\u001b[1m[ \u001b[22m\u001b[39m\u001b[36m\u001b[1mInfo: \u001b[22m\u001b[39mPrecompiling BioFindr [77580646-997d-4218-a3cc-42097ecd1c68]\n"
     ]
    }
   ],
   "source": [
    "using DrWatson\n",
    "quickactivate(@__DIR__)\n",
    "\n",
    "using DataFrames\n",
    "using Arrow\n",
    "\n",
    "using BioFindr"
   ]
  },
  {
   "cell_type": "markdown",
   "id": "de8f04d2",
   "metadata": {},
   "source": [
    "## Load data\n",
    "\n",
    "### Expression data\n",
    "\n",
    "[BioFindr.jl][1] expects that expression data are stored as [floating-point numbers](https://docs.julialang.org/en/v1/manual/integers-and-floating-point-numbers/) in a [DataFrame][4] where columns correspond to variables (genes) and rows to samples, see the [coexpression analysis tutorial](coexpression.qmd) for more details.\n",
    "\n",
    "This tutorial uses two tables of expression data from the same set of samples, one for mRNA expression data called `dt`, and one for microRNA (miRNA) expression data called `dm`:\n"
   ]
  },
  {
   "cell_type": "code",
   "execution_count": 2,
   "id": "1c0c6084",
   "metadata": {},
   "outputs": [],
   "source": [
    "dt = DataFrame(Arrow.Table(datadir(\"exp_pro\",\"findr-data-geuvadis\", \"dt.arrow\")));\n",
    "dm = DataFrame(Arrow.Table(datadir(\"exp_pro\",\"findr-data-geuvadis\", \"dm.arrow\")));"
   ]
  },
  {
   "cell_type": "markdown",
   "id": "cf5aef64",
   "metadata": {},
   "source": [
    "### Genotype data\n",
    "\n",
    "[BioFindr.jl][1] expects that genotype data are stored as [integer numbers](https://docs.julialang.org/en/v1/manual/integers-and-floating-point-numbers/) in a [DataFrame][4] where columns correspond to variables (genetic variants) and rows to samples. Since [BioFindr.jl][1] uses a [categorical association model](https://tmichoel.github.io/BioFindr.jl/dev/realLLR/#prim_test_realLLR), it does not matter how different genotypes (e.g. heterozygous vs. homozygous) are encoded as integers. Future versions will support [scientific types](https://juliaai.github.io/ScientificTypes.jl/dev/) for representing genotype data.\n",
    "\n",
    "This tutorial uses two tables of genotype data from the same set of samples as the expression data, one with genotypes for mRNA eQTLs called `dgt`, and one for microRNA (miRNA) eQTLs called `dgm`:\n"
   ]
  },
  {
   "cell_type": "code",
   "execution_count": 3,
   "id": "a89fd5cf",
   "metadata": {},
   "outputs": [],
   "source": [
    "dgt = DataFrame(Arrow.Table(datadir(\"exp_pro\",\"findr-data-geuvadis\", \"dgt.arrow\")));\n",
    "dgm = DataFrame(Arrow.Table(datadir(\"exp_pro\",\"findr-data-geuvadis\", \"dgm.arrow\")));"
   ]
  },
  {
   "cell_type": "markdown",
   "id": "5ba17c74",
   "metadata": {},
   "source": [
    "## Run BioFindr.jl\n",
    "\n",
    "Assume we are interested in identifying mRNA genes whose expression levels are associated to microRNA eQTLs. We run:\n"
   ]
  },
  {
   "cell_type": "code",
   "execution_count": 4,
   "id": "8807c6ad",
   "metadata": {},
   "outputs": [
    {
     "data": {
      "text/html": [
       "<div><div style = \"float: left;\"><span>245×4 DataFrame</span></div><div style = \"float: right;\"><span style = \"font-style: italic;\">220 rows omitted</span></div><div style = \"clear: both;\"></div></div><div class = \"data-frame\" style = \"overflow-x: scroll;\"><table class = \"data-frame\" style = \"margin-bottom: 6px;\"><thead><tr class = \"header\"><th class = \"rowNumber\" style = \"font-weight: bold; text-align: right;\">Row</th><th style = \"text-align: left;\">Source</th><th style = \"text-align: left;\">Target</th><th style = \"text-align: left;\">Probability</th><th style = \"text-align: left;\">qvalue</th></tr><tr class = \"subheader headerLastRow\"><th class = \"rowNumber\" style = \"font-weight: bold; text-align: right;\"></th><th title = \"String\" style = \"text-align: left;\">String</th><th title = \"String\" style = \"text-align: left;\">String</th><th title = \"Float64\" style = \"text-align: left;\">Float64</th><th title = \"Float64\" style = \"text-align: left;\">Float64</th></tr></thead><tbody><tr><td class = \"rowNumber\" style = \"font-weight: bold; text-align: right;\">1</td><td style = \"text-align: left;\">rs71532525</td><td style = \"text-align: left;\">ENSG00000229358.2</td><td style = \"text-align: right;\">1.0</td><td style = \"text-align: right;\">0.0</td></tr><tr><td class = \"rowNumber\" style = \"font-weight: bold; text-align: right;\">2</td><td style = \"text-align: left;\">rs6987762</td><td style = \"text-align: left;\">ENSG00000245080.3</td><td style = \"text-align: right;\">1.0</td><td style = \"text-align: right;\">0.0</td></tr><tr><td class = \"rowNumber\" style = \"font-weight: bold; text-align: right;\">3</td><td style = \"text-align: left;\">rs3807344</td><td style = \"text-align: left;\">ENSG00000128510.5</td><td style = \"text-align: right;\">1.0</td><td style = \"text-align: right;\">0.0</td></tr><tr><td class = \"rowNumber\" style = \"font-weight: bold; text-align: right;\">4</td><td style = \"text-align: left;\">rs6462386</td><td style = \"text-align: left;\">ENSG00000229358.2</td><td style = \"text-align: right;\">1.0</td><td style = \"text-align: right;\">0.0</td></tr><tr><td class = \"rowNumber\" style = \"font-weight: bold; text-align: right;\">5</td><td style = \"text-align: left;\">rs3807344_1</td><td style = \"text-align: left;\">ENSG00000128510.5</td><td style = \"text-align: right;\">1.0</td><td style = \"text-align: right;\">0.0</td></tr><tr><td class = \"rowNumber\" style = \"font-weight: bold; text-align: right;\">6</td><td style = \"text-align: left;\">rs9616333</td><td style = \"text-align: left;\">ENSG00000212939.2</td><td style = \"text-align: right;\">1.0</td><td style = \"text-align: right;\">4.48436e-11</td></tr><tr><td class = \"rowNumber\" style = \"font-weight: bold; text-align: right;\">7</td><td style = \"text-align: left;\">rs8141807</td><td style = \"text-align: left;\">ENSG00000212939.2</td><td style = \"text-align: right;\">1.0</td><td style = \"text-align: right;\">2.89877e-10</td></tr><tr><td class = \"rowNumber\" style = \"font-weight: bold; text-align: right;\">8</td><td style = \"text-align: left;\">rs5743580</td><td style = \"text-align: left;\">ENSG00000174130.7</td><td style = \"text-align: right;\">1.0</td><td style = \"text-align: right;\">3.65605e-9</td></tr><tr><td class = \"rowNumber\" style = \"font-weight: bold; text-align: right;\">9</td><td style = \"text-align: left;\">rs73236618</td><td style = \"text-align: left;\">ENSG00000174130.7</td><td style = \"text-align: right;\">1.0</td><td style = \"text-align: right;\">1.30597e-8</td></tr><tr><td class = \"rowNumber\" style = \"font-weight: bold; text-align: right;\">10</td><td style = \"text-align: left;\">rs5743580</td><td style = \"text-align: left;\">ENSG00000174125.3</td><td style = \"text-align: right;\">1.0</td><td style = \"text-align: right;\">2.22497e-8</td></tr><tr><td class = \"rowNumber\" style = \"font-weight: bold; text-align: right;\">11</td><td style = \"text-align: left;\">rs73236618</td><td style = \"text-align: left;\">ENSG00000174125.3</td><td style = \"text-align: right;\">1.0</td><td style = \"text-align: right;\">4.03598e-8</td></tr><tr><td class = \"rowNumber\" style = \"font-weight: bold; text-align: right;\">12</td><td style = \"text-align: left;\">rs6462386</td><td style = \"text-align: left;\">ENSG00000237004.2</td><td style = \"text-align: right;\">1.0</td><td style = \"text-align: right;\">5.69644e-8</td></tr><tr><td class = \"rowNumber\" style = \"font-weight: bold; text-align: right;\">13</td><td style = \"text-align: left;\">rs71532525</td><td style = \"text-align: left;\">ENSG00000237004.2</td><td style = \"text-align: right;\">1.0</td><td style = \"text-align: right;\">8.03159e-8</td></tr><tr><td style = \"text-align: right;\">&vellip;</td><td style = \"text-align: right;\">&vellip;</td><td style = \"text-align: right;\">&vellip;</td><td style = \"text-align: right;\">&vellip;</td><td style = \"text-align: right;\">&vellip;</td></tr><tr><td class = \"rowNumber\" style = \"font-weight: bold; text-align: right;\">234</td><td style = \"text-align: left;\">rs768533</td><td style = \"text-align: left;\">ENSG00000177239.9</td><td style = \"text-align: right;\">0.904976</td><td style = \"text-align: right;\">0.0477775</td></tr><tr><td class = \"rowNumber\" style = \"font-weight: bold; text-align: right;\">235</td><td style = \"text-align: left;\">rs768533_1</td><td style = \"text-align: left;\">ENSG00000177239.9</td><td style = \"text-align: right;\">0.904976</td><td style = \"text-align: right;\">0.0479786</td></tr><tr><td class = \"rowNumber\" style = \"font-weight: bold; text-align: right;\">236</td><td style = \"text-align: left;\">rs768533</td><td style = \"text-align: left;\">ENSG00000237172.3</td><td style = \"text-align: right;\">0.904966</td><td style = \"text-align: right;\">0.048178</td></tr><tr><td class = \"rowNumber\" style = \"font-weight: bold; text-align: right;\">237</td><td style = \"text-align: left;\">rs768533_1</td><td style = \"text-align: left;\">ENSG00000237172.3</td><td style = \"text-align: right;\">0.904966</td><td style = \"text-align: right;\">0.0483757</td></tr><tr><td class = \"rowNumber\" style = \"font-weight: bold; text-align: right;\">238</td><td style = \"text-align: left;\">indel:3I_20_62542026</td><td style = \"text-align: left;\">ENSG00000182718.11</td><td style = \"text-align: right;\">0.903654</td><td style = \"text-align: right;\">0.0485772</td></tr><tr><td class = \"rowNumber\" style = \"font-weight: bold; text-align: right;\">239</td><td style = \"text-align: left;\">rs4926170</td><td style = \"text-align: left;\">ENSG00000241129.2</td><td style = \"text-align: right;\">0.90332</td><td style = \"text-align: right;\">0.0487785</td></tr><tr><td class = \"rowNumber\" style = \"font-weight: bold; text-align: right;\">240</td><td style = \"text-align: left;\">rs80283015</td><td style = \"text-align: left;\">ENSG00000145349.12</td><td style = \"text-align: right;\">0.903025</td><td style = \"text-align: right;\">0.0489793</td></tr><tr><td class = \"rowNumber\" style = \"font-weight: bold; text-align: right;\">241</td><td style = \"text-align: left;\">rs768533</td><td style = \"text-align: left;\">ENSG00000228976.1</td><td style = \"text-align: right;\">0.902361</td><td style = \"text-align: right;\">0.0491812</td></tr><tr><td class = \"rowNumber\" style = \"font-weight: bold; text-align: right;\">242</td><td style = \"text-align: left;\">rs768533_1</td><td style = \"text-align: left;\">ENSG00000228976.1</td><td style = \"text-align: right;\">0.902361</td><td style = \"text-align: right;\">0.0493815</td></tr><tr><td class = \"rowNumber\" style = \"font-weight: bold; text-align: right;\">243</td><td style = \"text-align: left;\">rs80283015</td><td style = \"text-align: left;\">ENSG00000088992.13</td><td style = \"text-align: right;\">0.902234</td><td style = \"text-align: right;\">0.0495806</td></tr><tr><td class = \"rowNumber\" style = \"font-weight: bold; text-align: right;\">244</td><td style = \"text-align: left;\">rs30221</td><td style = \"text-align: left;\">ENSG00000249719.1</td><td style = \"text-align: right;\">0.902213</td><td style = \"text-align: right;\">0.0497781</td></tr><tr><td class = \"rowNumber\" style = \"font-weight: bold; text-align: right;\">245</td><td style = \"text-align: left;\">rs80283015</td><td style = \"text-align: left;\">ENSG00000231249.1</td><td style = \"text-align: right;\">0.901757</td><td style = \"text-align: right;\">0.049976</td></tr></tbody></table></div>"
      ],
      "text/latex": [
       "\\begin{tabular}{r|cccc}\n",
       "\t& Source & Target & Probability & qvalue\\\\\n",
       "\t\\hline\n",
       "\t& String & String & Float64 & Float64\\\\\n",
       "\t\\hline\n",
       "\t1 & rs71532525 & ENSG00000229358.2 & 1.0 & 0.0 \\\\\n",
       "\t2 & rs6987762 & ENSG00000245080.3 & 1.0 & 0.0 \\\\\n",
       "\t3 & rs3807344 & ENSG00000128510.5 & 1.0 & 0.0 \\\\\n",
       "\t4 & rs6462386 & ENSG00000229358.2 & 1.0 & 0.0 \\\\\n",
       "\t5 & rs3807344\\_1 & ENSG00000128510.5 & 1.0 & 0.0 \\\\\n",
       "\t6 & rs9616333 & ENSG00000212939.2 & 1.0 & 4.48436e-11 \\\\\n",
       "\t7 & rs8141807 & ENSG00000212939.2 & 1.0 & 2.89877e-10 \\\\\n",
       "\t8 & rs5743580 & ENSG00000174130.7 & 1.0 & 3.65605e-9 \\\\\n",
       "\t9 & rs73236618 & ENSG00000174130.7 & 1.0 & 1.30597e-8 \\\\\n",
       "\t10 & rs5743580 & ENSG00000174125.3 & 1.0 & 2.22497e-8 \\\\\n",
       "\t11 & rs73236618 & ENSG00000174125.3 & 1.0 & 4.03598e-8 \\\\\n",
       "\t12 & rs6462386 & ENSG00000237004.2 & 1.0 & 5.69644e-8 \\\\\n",
       "\t13 & rs71532525 & ENSG00000237004.2 & 1.0 & 8.03159e-8 \\\\\n",
       "\t14 & rs1059264 & ENSG00000258504.1 & 1.0 & 1.07009e-7 \\\\\n",
       "\t15 & rs57011695 & ENSG00000178381.7 & 0.999999 & 1.51111e-7 \\\\\n",
       "\t16 & rs768533 & ENSG00000138400.8 & 0.999995 & 4.46336e-7 \\\\\n",
       "\t17 & rs768533\\_1 & ENSG00000138400.8 & 0.999995 & 7.06829e-7 \\\\\n",
       "\t18 & rs1059264 & ENSG00000197119.7 & 0.999992 & 1.10709e-6 \\\\\n",
       "\t19 & rs5743580 & ENSG00000174123.6 & 0.999988 & 1.70571e-6 \\\\\n",
       "\t20 & rs3744749 & ENSG00000241990.1 & 0.999987 & 2.28536e-6 \\\\\n",
       "\t21 & rs73236618 & ENSG00000174123.6 & 0.99998 & 3.15012e-6 \\\\\n",
       "\t22 & rs5743580 & ENSG00000197712.6 & 0.999968 & 4.462e-6 \\\\\n",
       "\t23 & rs73236618 & ENSG00000197712.6 & 0.999966 & 5.75753e-6 \\\\\n",
       "\t24 & rs3744749 & ENSG00000197182.8 & 0.999911 & 9.24233e-6 \\\\\n",
       "\t25 & rs2273626 & ENSG00000092036.12 & 0.998865 & 5.42579e-5 \\\\\n",
       "\t26 & rs5792235 & ENSG00000134824.9 & 0.998671 & 0.000103268 \\\\\n",
       "\t27 & rs57011695 & ENSG00000224079.1 & 0.998625 & 0.000150382 \\\\\n",
       "\t28 & rs143756085 & ENSG00000231205.6 & 0.998548 & 0.000196871 \\\\\n",
       "\t29 & rs78562044 & ENSG00000169220.12 & 0.997578 & 0.000273611 \\\\\n",
       "\t30 & rs6987762 & ENSG00000175895.3 & 0.997247 & 0.000356255 \\\\\n",
       "\t$\\dots$ & $\\dots$ & $\\dots$ & $\\dots$ & $\\dots$ \\\\\n",
       "\\end{tabular}\n"
      ],
      "text/plain": [
       "\u001b[1m245×4 DataFrame\u001b[0m\n",
       "\u001b[1m Row \u001b[0m│\u001b[1m Source               \u001b[0m\u001b[1m Target             \u001b[0m\u001b[1m Probability \u001b[0m\u001b[1m qvalue      \u001b[0m\n",
       "     │\u001b[90m String               \u001b[0m\u001b[90m String             \u001b[0m\u001b[90m Float64     \u001b[0m\u001b[90m Float64     \u001b[0m\n",
       "─────┼────────────────────────────────────────────────────────────────────\n",
       "   1 │ rs71532525            ENSG00000229358.2      1.0       0.0\n",
       "   2 │ rs6987762             ENSG00000245080.3      1.0       0.0\n",
       "   3 │ rs3807344             ENSG00000128510.5      1.0       0.0\n",
       "   4 │ rs6462386             ENSG00000229358.2      1.0       0.0\n",
       "   5 │ rs3807344_1           ENSG00000128510.5      1.0       0.0\n",
       "   6 │ rs9616333             ENSG00000212939.2      1.0       4.48436e-11\n",
       "   7 │ rs8141807             ENSG00000212939.2      1.0       2.89877e-10\n",
       "   8 │ rs5743580             ENSG00000174130.7      1.0       3.65605e-9\n",
       "   9 │ rs73236618            ENSG00000174130.7      1.0       1.30597e-8\n",
       "  10 │ rs5743580             ENSG00000174125.3      1.0       2.22497e-8\n",
       "  11 │ rs73236618            ENSG00000174125.3      1.0       4.03598e-8\n",
       "  ⋮  │          ⋮                    ⋮                ⋮            ⋮\n",
       " 236 │ rs768533              ENSG00000237172.3      0.904966  0.048178\n",
       " 237 │ rs768533_1            ENSG00000237172.3      0.904966  0.0483757\n",
       " 238 │ indel:3I_20_62542026  ENSG00000182718.11     0.903654  0.0485772\n",
       " 239 │ rs4926170             ENSG00000241129.2      0.90332   0.0487785\n",
       " 240 │ rs80283015            ENSG00000145349.12     0.903025  0.0489793\n",
       " 241 │ rs768533              ENSG00000228976.1      0.902361  0.0491812\n",
       " 242 │ rs768533_1            ENSG00000228976.1      0.902361  0.0493815\n",
       " 243 │ rs80283015            ENSG00000088992.13     0.902234  0.0495806\n",
       " 244 │ rs30221               ENSG00000249719.1      0.902213  0.0497781\n",
       " 245 │ rs80283015            ENSG00000231249.1      0.901757  0.049976\n",
       "\u001b[36m                                                          224 rows omitted\u001b[0m"
      ]
     },
     "execution_count": 5,
     "metadata": {},
     "output_type": "execute_result"
    }
   ],
   "source": [
    "dP = findr(dt, dgm, FDR=0.05)"
   ]
  },
  {
   "cell_type": "markdown",
   "id": "fe28d468",
   "metadata": {},
   "source": [
    "BioFindr computes a [posterior probability](https://tmichoel.github.io/BioFindr.jl/dev/posteriorprobs/) of non-zero association for every **Source** variant (columns of `dgm`) and **Target** gene (columns of `dt`). By default the output is sorted by decreasing **Probability**. The optional parameter **FDR** can be used to limit the output to the set of pairs that has a [global false discovery rate (FDR)](https://en.wikipedia.org/wiki/False_discovery_rate#Storey-Tibshirani_procedure) less than a desired value (here set to 5%). The **qvalue** column in the output can be used for further filtering of the output, see the [coexpression analysis tutorial](coexpression.qmd) for further details.\n",
    "\n",
    "Note the order of the arguments. The first argument `dt` is the **Target** DataFrame, and the second argument the **Source** DataFrame.\n",
    "\n",
    "[1]: https://github.com/tmichoel/BioFindr.jl\n",
    "[2]: https://github.com/lingfeiwang/findr-data-geuvadis\n",
    "[3]: https://doi.org/10.1038/nature12531\n",
    "[4]: https://dataframes.juliadata.org/stable/\n",
    "[5]: https://doi.org/10.1371/journal.pcbi.1005703"
   ]
  }
 ],
 "metadata": {
  "kernelspec": {
   "display_name": "Julia 1.9.0",
   "language": "julia",
   "name": "julia-1.9"
  },
  "language_info": {
   "file_extension": ".jl",
   "mimetype": "application/julia",
   "name": "julia",
   "version": "1.9.0"
  }
 },
 "nbformat": 4,
 "nbformat_minor": 5
}
