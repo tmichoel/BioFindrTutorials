{
  "cells": [
    {
      "cell_type": "raw",
      "metadata": {},
      "source": [
        "---\n",
        "title: Internal functions 2\n",
        "format:\n",
        "  html:\n",
        "    code-fold: false\n",
        "execute:\n",
        "  cache: true\n",
        "  keep-ipynb: true\n",
        "---"
      ],
      "id": "1f0d6b9a"
    },
    {
      "cell_type": "markdown",
      "metadata": {},
      "source": [
        "## Introduction\n",
        "\n",
        "The only function [exported](https://docs.julialang.org/en/v1/manual/modules/#Export-lists) by [Findr.jl][1] is the [`findr`](https://tmichoel.github.io/Findr.jl/dev/testLLR/) function itself. Nevertheless, many of the internal functions may be useful when digging deeper in the results for specific genes. The [package documentation][6] contains detailed descriptions of all package functions, intertwined with the methods section of the [original paper][5], and should give a good overview of what is available. \n",
        "\n",
        "In this tutorial we consider the situation where you have a single gene of interest and want to compute genetic association statistics for a set of variants of interest (for instance when doing a GWAS analysis for that gene). The approach from the [association analysis tutorial](association.qmd) cannot be followed in this case, because the exported [`findr`](https://tmichoel.github.io/Findr.jl/dev/testLLR/) function assumes that many target genes (\"B\" genes) are tested against one or more variants and uses the distribution of likelihood ratios across all target genes for [Bayesian inference of posterior probabilities](https://lab.michoel.info/Findr.jl/dev/posteriorprobs/). If only one or a small number of genes are tested, this is no longer possible. Nevertheless it is still possible to compute p-values under the null hypothesis of the [linkage test](https://lab.michoel.info/Findr.jl/dev/realLLR/) in this situation.\n",
        "\n",
        "## Set up the environment\n"
      ],
      "id": "9e2ff4d1"
    },
    {
      "cell_type": "code",
      "metadata": {},
      "source": [
        "using DrWatson\n",
        "quickactivate(@__DIR__)\n",
        "\n",
        "using DataFrames\n",
        "using Arrow\n",
        "using StatsPlots\n",
        "using LaTeXStrings\n",
        "using Distributions\n",
        "\n",
        "using Findr"
      ],
      "id": "d5539dea",
      "execution_count": null,
      "outputs": []
    },
    {
      "cell_type": "markdown",
      "metadata": {},
      "source": [
        "## Load data\n",
        "\n",
        "You should by now be familiar with the GEUVADIS data used in the *First steps* tutorials. Here we need the following files:\n"
      ],
      "id": "b8c22247"
    },
    {
      "cell_type": "code",
      "metadata": {},
      "source": [
        "dt = DataFrame(Arrow.Table(datadir(\"exp_pro\",\"findr-data-geuvadis\", \"dt.arrow\")));\n",
        "dg = DataFrame(Arrow.Table(datadir(\"exp_pro\",\"findr-data-geuvadis\", \"dgt.arrow\")));"
      ],
      "id": "a2adc098",
      "execution_count": null,
      "outputs": []
    },
    {
      "cell_type": "markdown",
      "metadata": {},
      "source": [
        "Set the gene of interest:\n"
      ],
      "id": "6d3ae5b6"
    },
    {
      "cell_type": "code",
      "metadata": {},
      "source": [
        "gene = names(dt)[10]"
      ],
      "id": "635c0c3f",
      "execution_count": null,
      "outputs": []
    },
    {
      "cell_type": "markdown",
      "metadata": {},
      "source": [
        "## Run the analysis\n",
        "\n",
        "### Convert the data\n",
        "\n",
        "Internally, all [Findr.jl][1] functions use matrix-based inputs and [supernormalized data](https://tmichoel.github.io/Findr.jl/dev/inference/). The easiest way to convert our data is to run `supernormalize` on the initial data:\n"
      ],
      "id": "ebf7bcf0"
    },
    {
      "cell_type": "code",
      "metadata": {},
      "source": [
        "Yg = vec(Findr.supernormalize(select(dt,gene)));"
      ],
      "id": "e7aaf50e",
      "execution_count": null,
      "outputs": []
    },
    {
      "cell_type": "markdown",
      "metadata": {},
      "source": [
        "For the genotype data, no conversion is needed:\n"
      ],
      "id": "6cb697f4"
    },
    {
      "cell_type": "code",
      "metadata": {},
      "source": [
        "G = Matrix(dg);"
      ],
      "id": "5be8c0ff",
      "execution_count": null,
      "outputs": []
    },
    {
      "cell_type": "markdown",
      "metadata": {},
      "source": [
        "We will also need the number of samples:\n"
      ],
      "id": "247c316f"
    },
    {
      "cell_type": "code",
      "metadata": {},
      "source": [
        "ns = length(Yg);"
      ],
      "id": "4eb60520",
      "execution_count": null,
      "outputs": []
    },
    {
      "cell_type": "markdown",
      "metadata": {},
      "source": [
        "### Compute null p-values\n",
        "\n",
        "Throughout the package, the [likelihood ratio tests](https://tmichoel.github.io/Findr.jl/dev/realLLR/) are labelled by the following [symbols](https://docs.julialang.org/en/v1/manual/metaprogramming/#Symbols)\n",
        "\n",
        "- Test 2 (**Linkage test**): `:link`\n",
        "- Test 3 (**Mediation test**): `:med`\n",
        "- Test 4 (**Relevance test**): `:relev`\n",
        "- Test 5 (**Pleiotropy test**): `:pleio`\n",
        "\n",
        "For genetic association testing, we only need the **linkage** test.\n",
        "\n",
        "Since [all log-likelihood ratios are computed from the same summary statistics](https://tmichoel.github.io/Findr.jl/dev/realLLR/#Implementation), a single function computes them all. To compute the log-likelihood ratios for a specific A-gene (here: hsa-miR-200b-3p with column vector of expression data `Ym`) with a causal instrument (best eQTL) with genotype vector `E`, run:\n"
      ],
      "id": "d0cc7d2a"
    },
    {
      "cell_type": "code",
      "metadata": {},
      "source": [
        "llr2 = zeros(size(G,2))\n",
        "pval = zeros(size(G,2))\n",
        "for i in axes(G,2)\n",
        "  ng = length(unique(G[:,i]))\n",
        "  llr2[i] = Findr.realLLR_col(Yg, G[:,i])[1]\n",
        "  pval[i] = Findr.nullpval(llr2[i] , ns, ng, :link);\n",
        "end"
      ],
      "id": "d7c26c2f",
      "execution_count": null,
      "outputs": []
    },
    {
      "cell_type": "markdown",
      "metadata": {},
      "source": [
        "Put the results in a DataFrame together with the SNP IDs, and sort by ascending p-value:\n"
      ],
      "id": "10253369"
    },
    {
      "cell_type": "code",
      "metadata": {},
      "source": [
        "dp = DataFrame(:SNP => names(dg), :pvalue => pval)\n",
        "sort!(dp, :pvalue)"
      ],
      "id": "fd74f68e",
      "execution_count": null,
      "outputs": []
    },
    {
      "cell_type": "markdown",
      "metadata": {},
      "source": [
        "[1]: https://github.com/tmichoel/Findr.jl\n",
        "[2]: https://github.com/lingfeiwang/findr-data-geuvadis\n",
        "[3]: https://doi.org/10.1038/nature12531\n",
        "[4]: https://dataframes.juliadata.org/stable/\n",
        "[5]: https://doi.org/10.1371/journal.pcbi.1005703\n",
        "[6]: https://tmichoel.github.io/Findr.jl/dev/"
      ],
      "id": "ec00d89f"
    }
  ],
  "metadata": {
    "kernelspec": {
      "name": "julia-1.9",
      "language": "julia",
      "display_name": "Julia 1.9.0"
    }
  },
  "nbformat": 4,
  "nbformat_minor": 5
}