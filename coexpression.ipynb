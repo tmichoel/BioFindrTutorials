{
  "cells": [
    {
      "cell_type": "markdown",
      "metadata": {},
      "source": [
        "# Coexpression analysis\n",
        "\n",
        "## Introduction\n",
        "\n",
        "While \\[BioFindr\\] is developed primarily for causal inference from\n",
        "genomics and transcriptomics data, coexpression analysis of\n",
        "transcriptomics data alone is also possible. In coexpression analysis,\n",
        "pairwise correlation is used as a simple measure for the probability of\n",
        "two genes being functionally related either through direct or indirect\n",
        "regulation, or through coregulation by a third factor. In\n",
        "[BioFindr](https://github.com/tmichoel/BioFindr.jl), significance of\n",
        "pairwise correlation is computed using a gene-specific background\n",
        "distribution, allowing for genes having different biological roles. For\n",
        "instance, it is known that many biological networks are\n",
        "[scale-free](https://en.wikipedia.org/wiki/Scale-free_network), where a\n",
        "small number of so-called “hub genes” have a high number of interaction\n",
        "partners while most other genes only have few. In\n",
        "[BioFindr](https://github.com/tmichoel/BioFindr.jl), this is accomodated\n",
        "by modelling the distribution of correlation values between a given gene\n",
        "$A$ and all other genes $B$ as a [mixture\n",
        "distribution](https://en.wikipedia.org/wiki/Mixture_distribution) of\n",
        "real and null (random) correlations. The relative weight of each\n",
        "component reflects the prior probability of finding a non-null $B$ gene\n",
        "for a given $A$ gene, and is fitted for every $A$ gene separately.\n",
        "\n",
        "We will illustrate how to run coexpression analysis with\n",
        "[BioFindr](https://github.com/tmichoel/BioFindr.jl) using [preprocessed\n",
        "data](https://github.com/lingfeiwang/findr-data-geuvadis) from the\n",
        "[GEUVADIS study](https://doi.org/10.1038/nature12531). See the\n",
        "[installation instructions](installation.qmd) for the steps you need to\n",
        "take to reproduce this tutorial.\n",
        "\n",
        "## Set up the environment\n",
        "\n",
        "We begin by setting up the environment and loading some necessary\n",
        "packages."
      ],
      "id": "becc3fba-c563-4030-bec7-4b0a02ac1d70"
    },
    {
      "cell_type": "code",
      "execution_count": 1,
      "metadata": {},
      "outputs": [],
      "source": [
        "using DrWatson\n",
        "quickactivate(@__DIR__)\n",
        "\n",
        "using DataFrames\n",
        "using Arrow\n",
        "using Markdown\n",
        "\n",
        "using BioFindr"
      ],
      "id": "9a16d859"
    },
    {
      "cell_type": "markdown",
      "metadata": {},
      "source": [
        "## Load expression data\n",
        "\n",
        "[BioFindr](https://github.com/tmichoel/BioFindr.jl) expects that\n",
        "expression data are stored in a\n",
        "[DataFrame](https://dataframes.juliadata.org/stable/) where columns\n",
        "correspond to variables (genes) and rows to samples. An expression\n",
        "[DataFrame](https://dataframes.juliadata.org/stable/) should not contain\n",
        "any other columns (e.g. gene annotation) than gene expression columns,\n",
        "and gene expression data should be stored as [floating-point\n",
        "numbers](https://docs.julialang.org/en/v1/manual/integers-and-floating-point-numbers/).\n",
        "Internally, [BioFindr](https://github.com/tmichoel/BioFindr.jl) operates\n",
        "on matrices, and if you have an expression\n",
        "[DataFrame](https://dataframes.juliadata.org/stable/) `df`, then\n",
        "`Matrix(df)` should return a matrix of floats.\n",
        "\n",
        "At the moment, [BioFindr](https://github.com/tmichoel/BioFindr.jl) does\n",
        "not support count-based expression data being provided as a\n",
        "[DataFrame](https://dataframes.juliadata.org/stable/) of integers. This\n",
        "is not an intrinsic limitation of the method, but simply to distinguish\n",
        "expression data from integer-valued genotype data. Future versions will\n",
        "remove this limitation by supporting [scientific\n",
        "types](https://juliaai.github.io/ScientificTypes.jl/dev/).\n",
        "\n",
        "This tutorial uses two tables of expression data from the same set of\n",
        "samples, one for mRNA expression data called `dt`, and one for microRNA\n",
        "(miRNA) expression data called `dm`:"
      ],
      "id": "e1dba88c-06d5-41b9-b892-e61a981053dd"
    },
    {
      "cell_type": "code",
      "execution_count": 2,
      "metadata": {},
      "outputs": [],
      "source": [
        "dt = DataFrame(Arrow.Table(datadir(\"exp_pro\",\"findr-data-geuvadis\", \"dt.arrow\")));\n",
        "dm = DataFrame(Arrow.Table(datadir(\"exp_pro\",\"findr-data-geuvadis\", \"dm.arrow\")));"
      ],
      "id": "11247ac8"
    },
    {
      "cell_type": "code",
      "execution_count": 3,
      "metadata": {},
      "outputs": [
        {
          "output_type": "display_data",
          "metadata": {},
          "data": {}
        }
      ],
      "source": [],
      "id": "d0ca0a33"
    },
    {
      "cell_type": "markdown",
      "metadata": {},
      "source": [
        "We can confirm that the data frames are of the right type:"
      ],
      "id": "fed9f38a-562e-47bd-ac53-59b3948e004b"
    },
    {
      "cell_type": "code",
      "execution_count": 4,
      "metadata": {},
      "outputs": [
        {
          "output_type": "display_data",
          "metadata": {},
          "data": {
            "text/plain": [
              "1×2 Matrix{DataType}:\n",
              " Matrix{Float64}  Matrix{Float64}"
            ]
          }
        }
      ],
      "source": [
        "[typeof(Matrix(dt)) typeof(Matrix(dm))]"
      ],
      "id": "e5967ab8"
    },
    {
      "cell_type": "markdown",
      "metadata": {},
      "source": [
        "## Run BioFindr\n",
        "\n",
        "### All-vs-all coexpression analysis\n",
        "\n",
        "The simplest type of coexpression analysis tests for non-zero\n",
        "correlation among all possible pairs in a gene expression dataset. Let’s\n",
        "do this for the miRNA data:"
      ],
      "id": "81b2e7df-9a01-4b35-9f89-4f7a80ffda90"
    },
    {
      "cell_type": "code",
      "execution_count": 5,
      "metadata": {},
      "outputs": [
        {
          "output_type": "display_data",
          "metadata": {},
          "data": {
            "text/html": [
              "</div>"
            ]
          }
        }
      ],
      "source": [
        "dP_mir_all = findr(dm, FDR=0.05)"
      ],
      "id": "a134b111"
    },
    {
      "cell_type": "markdown",
      "metadata": {},
      "source": [
        "BioFindr computes a [posterior\n",
        "probability](https://tmichoel.github.io/BioFindr.jl/dev/posteriorprobs/)\n",
        "of non-zero correlation for every **Source** and **Target** gene pair.\n",
        "By default the output is sorted by decreasing **Probability** and\n",
        "self-interactions are excluded. The optional parameter **FDR** can be\n",
        "used to limit the output to the set of pairs that has a [global false\n",
        "discovery rate\n",
        "(FDR)](https://en.wikipedia.org/wiki/False_discovery_rate#Storey-Tibshirani_procedure)\n",
        "less than a desired value. The **qvalue** column in the output can be\n",
        "used for further filtering of the output. Say you ran findr with an FRD\n",
        "threshold of 5% as above. If you now want to restrict the output to an\n",
        "FDR threshold of 1%, you can do:"
      ],
      "id": "80798489-bcc4-4485-b820-846a7fc546e3"
    },
    {
      "cell_type": "code",
      "execution_count": 6,
      "metadata": {},
      "outputs": [
        {
          "output_type": "display_data",
          "metadata": {},
          "data": {
            "text/html": [
              "</div>"
            ]
          }
        }
      ],
      "source": [
        "filter!(row -> row.qvalue <= 0.01, dP_mir_all)"
      ],
      "id": "e4aaf8d4"
    },
    {
      "cell_type": "markdown",
      "metadata": {},
      "source": [
        "Note that the\n",
        "[`filter!`](https://dataframes.juliadata.org/stable/lib/functions/#Base.filter!)\n",
        "command modifies the input DataFrame in-place, that is, the rows not\n",
        "matching the selection criteria are deleted. Use\n",
        "[`filter`](https://dataframes.juliadata.org/stable/lib/functions/#Base.filter)\n",
        "to return a new DataFrame with the selected rows.\n",
        "\n",
        "Finally, remember that the output of coexpression analysis in BioFindr\n",
        "is *not* symmetric, that is\n",
        "\n",
        "$$\n",
        "P(Source, Target) \\neq P(Target, Source)\n",
        "$$\n",
        "\n",
        "This is because the posterior probabilities are estimated using a\n",
        "Source-specific background distribution, accounting for the fact that\n",
        "different genes may have a different number of non-null interaction\n",
        "partners *a priori*. See the [Findr\n",
        "paper](https://doi.org/10.1371/journal.pcbi.1005703) for details.\n",
        "\n",
        "### Bipartite coexpression analysis\n",
        "\n",
        "Since BioFindr’s posterior probabilities are Source gene-specific, we\n",
        "may be interested in computing probabilities only for a subset of Source\n",
        "genes, or using different Source and Target gene sets.\n",
        "\n",
        "As an example of the first scenario, assume we are interested in finding\n",
        "microRNAs that are significantly correlated with microRNAs from the\n",
        "[Mir-200 family](https://en.wikipedia.org/wiki/Mir-200). First find the\n",
        "Mir-200 microRNAs:"
      ],
      "id": "4de25c22-037b-491a-97f6-3083ab9e6cbe"
    },
    {
      "cell_type": "code",
      "execution_count": 7,
      "metadata": {},
      "outputs": [
        {
          "output_type": "display_data",
          "metadata": {},
          "data": {
            "text/plain": [
              "3-element Vector{String}:\n",
              " \"hsa-miR-200b-3p\"\n",
              " \"hsa-miR-200a-3p\"\n",
              " \"hsa-miR-200c-3p\""
            ]
          }
        }
      ],
      "source": [
        "mir200 = names(dm)[startswith.(names(dm),\"hsa-miR-200\")]"
      ],
      "id": "c9fe9bc5"
    },
    {
      "cell_type": "markdown",
      "metadata": {},
      "source": [
        "Then run"
      ],
      "id": "35bbe191-1a07-47ae-bcab-6470c3f1dd30"
    },
    {
      "cell_type": "code",
      "execution_count": 8,
      "metadata": {},
      "outputs": [
        {
          "output_type": "display_data",
          "metadata": {},
          "data": {
            "text/html": [
              "</div>"
            ]
          }
        }
      ],
      "source": [
        "dP_mir200_mir = findr(dm, colnames=mir200, FDR=0.01)"
      ],
      "id": "6450e0c8"
    },
    {
      "cell_type": "markdown",
      "metadata": {},
      "source": [
        "The parameter **colnames** must be a vector of strings containing a\n",
        "subset of variable names of the input DataFrame **dm** to be used as\n",
        "**Source** genes.\n",
        "\n",
        "As an example of the second scenario, we may be interested in finding\n",
        "genes that are significantly correlated with all or a subset of\n",
        "microRNAs:"
      ],
      "id": "7610b279-5e77-48c0-b2f7-413e94d1f5a0"
    },
    {
      "cell_type": "code",
      "execution_count": 9,
      "metadata": {},
      "outputs": [
        {
          "output_type": "display_data",
          "metadata": {},
          "data": {
            "text/html": [
              "</div>"
            ]
          }
        }
      ],
      "source": [
        "dP_mir_mrna = findr(dt, dm, FDR=0.01)"
      ],
      "id": "bbe4b096"
    },
    {
      "cell_type": "markdown",
      "metadata": {},
      "source": [
        "Note the order of the arguments: here we tested all microRNAs as $A$ or\n",
        "Source genes (`dm` argument) against all mRNA transcripts as $B$ or\n",
        "Target genes (`dt` argument), that is, background distributions are\n",
        "fitted for each microRNA (column of `dm`) from the log-likelihood ratios\n",
        "for all 23,722 mRNAs (columns of `dt`)."
      ],
      "id": "778c22bf-48d2-4800-83cb-a19027e027f8"
    }
  ],
  "nbformat": 4,
  "nbformat_minor": 5,
  "metadata": {
    "kernelspec": {
      "name": "julia-1.10",
      "display_name": "Julia 1.10.0",
      "language": "julia"
    },
    "language_info": {
      "name": "julia",
      "file_extension": ".jl",
      "mimetype": "application/julia",
      "version": "1.10.0"
    }
  }
}