{
  "cells": [
    {
      "cell_type": "raw",
      "metadata": {},
      "source": [
        "---\n",
        "title: DAG construction\n",
        "format:\n",
        "  html:\n",
        "    code-fold: false\n",
        "execute:\n",
        "  cache: true\n",
        "  keep-ipynb: true\n",
        "---"
      ],
      "id": "6b7df0a5"
    },
    {
      "cell_type": "markdown",
      "metadata": {},
      "source": [
        "## Introduction\n",
        "\n",
        "The posterior probabilities computed by the `findr` function can be used as a graph structure prior in [Bayesian network](https://en.wikipedia.org/wiki/Bayesian_network) learning using the model introduced in the paper [High-dimensional Bayesian network inference from systems genetics data using genetic node ordering](https://doi.org/10.3389/fgene.2019.01196). This involves converting the pairwise posterior probabilities to a [directed acyclic graph (DAG)](https://en.wikipedia.org/wiki/Directed_acyclic_graph). \n",
        "\n",
        "[BioFindr][1] implements the original *\"greedy edges\"* algorithm where edges are added one-by-one in decreasing order of probability, and only if they do not create a cycle in the graph, using an incremental cycle detection algorithm. Two additional algorithms from the paper [Maximal acyclic subgraph optimization for gene regulatory networks](https://biblio.ugent.be/publication/8772612) are also implemented: the *heuristic sort* algorithm where vertices are sorted by their ratio of out-degree to in-degree, and edges are added only if their source vertex precedes their target vertex in the sorted list, and the  *greedy insertion* algorithm where vertices are iteratively inserted in the position in the current ordering that yields the maximum possible gain of edge weights, where the gain is counted as the difference between the sum of new edge weights included and the sum of old edge weights lost, and edges are counted only if their source vertex precedes their target vertex in the ordering.\n",
        "\n",
        "## Set up the environment\n"
      ],
      "id": "d1a6d5d7"
    },
    {
      "cell_type": "code",
      "metadata": {},
      "source": [
        "using DrWatson\n",
        "quickactivate(@__DIR__)\n",
        "\n",
        "using DataFrames\n",
        "using Arrow\n",
        "using GLMakie\n",
        "using GraphMakie\n",
        "\n",
        "using BioFindr"
      ],
      "id": "dd190c74",
      "execution_count": null,
      "outputs": []
    },
    {
      "cell_type": "markdown",
      "metadata": {},
      "source": [
        "## Load data\n",
        "\n",
        "For illustration we use the GEUVADIS microRNA data:\n"
      ],
      "id": "44f9b123"
    },
    {
      "cell_type": "code",
      "metadata": {},
      "source": [
        "dm = DataFrame(Arrow.Table(datadir(\"exp_pro\",\"findr-data-geuvadis\", \"dm.arrow\")));\n",
        "dgm = DataFrame(Arrow.Table(datadir(\"exp_pro\",\"findr-data-geuvadis\", \"dgm.arrow\")));\n",
        "dpm = DataFrame(SNP_ID = names(dgm), GENE_ID=names(dm)[1:ncol(dgm)]);"
      ],
      "id": "093ef158",
      "execution_count": null,
      "outputs": []
    },
    {
      "cell_type": "markdown",
      "metadata": {},
      "source": [
        "## Run BioFindr\n",
        "\n",
        "We perform causal inference to compute posterior probabilities from all microRNAs with an eQTL to the total set of microRNAs:\n"
      ],
      "id": "39290fc5"
    },
    {
      "cell_type": "code",
      "metadata": {},
      "source": [
        "dP = findr(dm, dgm, dpm; FDR=0.25)"
      ],
      "id": "e517309f",
      "execution_count": null,
      "outputs": []
    },
    {
      "cell_type": "markdown",
      "metadata": {},
      "source": [
        "To construct a DAG from the DataFrame `dP` with posterior probabilities using the default *\"greedy edges\"* algorithm, run:\n"
      ],
      "id": "44a2ec4a"
    },
    {
      "cell_type": "code",
      "metadata": {},
      "source": [
        "G, name2idx = dagfindr!(dP);"
      ],
      "id": "090c8e48",
      "execution_count": null,
      "outputs": []
    },
    {
      "cell_type": "markdown",
      "metadata": {},
      "source": [
        "The `!` in the `dagfindr!` function name indicates that the function modifies its input argument. We can see that `dP` indeed contains some new columns:\n"
      ],
      "id": "fb7eff29"
    },
    {
      "cell_type": "code",
      "metadata": {},
      "source": [
        "dP"
      ],
      "id": "677fd908",
      "execution_count": null,
      "outputs": []
    },
    {
      "cell_type": "markdown",
      "metadata": {},
      "source": [
        "The **Source_idx** and **Target_idx** are numerical IDs for the **Source** and **Target** nodes, respectively, and the **inDAG_greedy_edges** indicates whether the edge represented by a row of `dP` in included in the output DAG `G`. The mapping from node names to IDs is also returned as a [dictionary object](https://docs.julialang.org/en/v1/base/collections/#Dictionaries) `name2idx`.\n"
      ],
      "id": "30bd1a3a"
    },
    {
      "cell_type": "code",
      "metadata": {},
      "source": [
        "name2idx"
      ],
      "id": "6bc1e091",
      "execution_count": null,
      "outputs": []
    },
    {
      "cell_type": "markdown",
      "metadata": {},
      "source": [
        "The output `G` is a [directed graph object](https://juliagraphs.org/Graphs.jl/stable/core_functions/module/#Graphs.DiGraph) from the [Graphs package](https://juliagraphs.org/Graphs.jl/stable/):\n"
      ],
      "id": "cffca60e"
    },
    {
      "cell_type": "code",
      "metadata": {},
      "source": [
        "G"
      ],
      "id": "bed14dac",
      "execution_count": null,
      "outputs": []
    },
    {
      "cell_type": "markdown",
      "metadata": {},
      "source": [
        "This is a fairly simple datastructure, which only supports numerical node IDs, hence the need to create the `name2idx` map. One useful thing one can do with a `Graph` object is to draw it:\n"
      ],
      "id": "7ad76699"
    },
    {
      "cell_type": "code",
      "metadata": {},
      "source": [
        "graphplot(G)"
      ],
      "id": "8b685bda",
      "execution_count": null,
      "outputs": []
    },
    {
      "cell_type": "markdown",
      "metadata": {},
      "source": [
        "For more details, see [the documentation](https://juliagraphs.org/Graphs.jl/dev/first_steps/plotting/).\n",
        "\n",
        "To run the `dagfindr!` function with the other DAG construction algorithms mentioned in the Introduction,\n"
      ],
      "id": "002bdda7"
    },
    {
      "cell_type": "code",
      "metadata": {},
      "source": [
        "G, name2idx = dagfindr!(dP; method=\"heuristic sort\");\n",
        "G, name2idx = dagfindr!(dP; method=\"greedy insertion\");"
      ],
      "id": "3c3da4d9",
      "execution_count": null,
      "outputs": []
    },
    {
      "cell_type": "markdown",
      "metadata": {},
      "source": [
        "The results of these `dagfindr!` calls are added to `dP` allowing easy comparison of the methods:\n"
      ],
      "id": "9f6a2e36"
    },
    {
      "cell_type": "code",
      "metadata": {},
      "source": [
        "dP"
      ],
      "id": "0bfcbfa9",
      "execution_count": null,
      "outputs": []
    },
    {
      "cell_type": "markdown",
      "metadata": {},
      "source": [
        "[1]: https://github.com/tmichoel/BioFindr.jl"
      ],
      "id": "d8824388"
    }
  ],
  "metadata": {
    "kernelspec": {
      "name": "julia-1.10",
      "language": "julia",
      "display_name": "Julia 1.10.0"
    }
  },
  "nbformat": 4,
  "nbformat_minor": 5
}